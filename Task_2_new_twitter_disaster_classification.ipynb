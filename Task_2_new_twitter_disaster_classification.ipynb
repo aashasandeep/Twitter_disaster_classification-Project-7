{
  "nbformat": 4,
  "nbformat_minor": 0,
  "metadata": {
    "colab": {
      "provenance": [],
      "gpuType": "T4",
      "authorship_tag": "ABX9TyO5ehOZB0/XemKw1o3CmfLa",
      "include_colab_link": true
    },
    "kernelspec": {
      "name": "python3",
      "display_name": "Python 3"
    },
    "language_info": {
      "name": "python"
    },
    "accelerator": "GPU"
  },
  "cells": [
    {
      "cell_type": "markdown",
      "metadata": {
        "id": "view-in-github",
        "colab_type": "text"
      },
      "source": [
        "<a href=\"https://colab.research.google.com/github/aashasandeep/Twitter_disaster_classification-Project-7/blob/main/Task_2_new_twitter_disaster_classification.ipynb\" target=\"_parent\"><img src=\"https://colab.research.google.com/assets/colab-badge.svg\" alt=\"Open In Colab\"/></a>"
      ]
    },
    {
      "cell_type": "code",
      "execution_count": null,
      "metadata": {
        "id": "GDGg0pXmh_Ws"
      },
      "outputs": [],
      "source": [
        "import pandas as pd\n",
        "import numpy as np\n",
        "import matplotlib.pyplot as plt\n",
        "import seaborn as sns\n",
        "import string, math, os, re, time, random\n",
        "\n",
        "from tqdm import tqdm\n",
        "\n",
        "# visualizations\n",
        "plt.style.use('ggplot')\n",
        "\n",
        "# natural language processing\n",
        "from collections import defaultdict"
      ]
    },
    {
      "cell_type": "code",
      "source": [
        "import wordcloud\n",
        "\n",
        "# ignore warnings because they are annoying\n",
        "import warnings\n",
        "warnings.filterwarnings('ignore')\n",
        "\n",
        "# for neural nets\n",
        "import tensorflow as tf\n",
        "\n",
        "from sklearn.feature_extraction.text import CountVectorizer, TfidfVectorizer"
      ],
      "metadata": {
        "id": "0PJPys-ViUuh"
      },
      "execution_count": null,
      "outputs": []
    },
    {
      "cell_type": "code",
      "source": [
        "from google.colab import drive\n",
        "drive.mount('/content/drive')"
      ],
      "metadata": {
        "colab": {
          "base_uri": "https://localhost:8080/"
        },
        "id": "LvAdmbaJiig1",
        "outputId": "8f38c912-c43a-4124-a7cd-477b031ce874"
      },
      "execution_count": null,
      "outputs": [
        {
          "output_type": "stream",
          "name": "stdout",
          "text": [
            "Mounted at /content/drive\n"
          ]
        }
      ]
    },
    {
      "cell_type": "code",
      "source": [
        "df = pd.read_csv('/content/twitter_disaster_task2.csv')"
      ],
      "metadata": {
        "id": "M4Bmja7niqXm"
      },
      "execution_count": null,
      "outputs": []
    },
    {
      "cell_type": "code",
      "source": [
        "df.head()# Get head of the dataset"
      ],
      "metadata": {
        "colab": {
          "base_uri": "https://localhost:8080/",
          "height": 724
        },
        "id": "nfExVYk2iqv1",
        "outputId": "21d9a898-f4a1-4395-8180-c0ce9511a9e4"
      },
      "execution_count": null,
      "outputs": [
        {
          "output_type": "execute_result",
          "data": {
            "text/plain": [
              "   Unnamed: 0 location                                               text  \\\n",
              "0           0     none  Our Deeds are the Reason of this #earthquake M...   \n",
              "1           1     none     Forest fire near La Ronge Sask. Canada unknown   \n",
              "2           2     none  All residents asked to 'shelter in place' are ...   \n",
              "3           3     none  13,000 people receive #wildfires evacuation or...   \n",
              "4           4     none  Just got sent this photo from Ruby #Alaska as ...   \n",
              "\n",
              "   target  word count  character count  average word length  \\\n",
              "0       1          14               77             4.571429   \n",
              "1       1           8               46             4.875000   \n",
              "2       1          23              141             5.173913   \n",
              "3       1           9               73             7.111111   \n",
              "4       1          17               96             4.647059   \n",
              "\n",
              "   unique word count  stopword count  url count  ...  stopword ratio  \\\n",
              "0                 14               6          0  ...        0.428571   \n",
              "1                  8               0          0  ...        0.000000   \n",
              "2                 21              11          0  ...        0.478261   \n",
              "3                  9               1          0  ...        0.111111   \n",
              "4                 16               7          0  ...        0.411765   \n",
              "\n",
              "   punctuation count                                         text_clean  \\\n",
              "0                  1      deeds reason earthquake allah forgive unknown   \n",
              "1                  1         forest fire near ronge sask canada unknown   \n",
              "2                  3  residents asked shelter place notified officer...   \n",
              "3                  2  people receive wildfires evacuation orders cal...   \n",
              "4                  2  just sent photo ruby alaska smoke wildfires po...   \n",
              "\n",
              "                                              tokens         label label_num  \\\n",
              "0  ['Our', 'Deeds', 'are', 'the', 'Reason', 'of',...      disaster         1   \n",
              "1  ['Forest', 'fire', 'near', 'La', 'Ronge', 'Sas...  non-disaster         0   \n",
              "2  ['All', 'residents', 'asked', 'to', \"'shelter\"...      disaster         1   \n",
              "3  ['13,000', 'people', 'receive', '#', 'wildfire...  non-disaster         0   \n",
              "4  ['Just', 'got', 'sent', 'this', 'photo', 'from...      disaster         1   \n",
              "\n",
              "                                           tokenized  \\\n",
              "0  ['deeds', 'reason', 'earthquake', 'allah', 'fo...   \n",
              "1  ['forest', 'fire', 'near', 'ronge', 'sask', 'c...   \n",
              "2  ['residents', 'asked', 'shelter', 'place', 'no...   \n",
              "3  ['people', 'receive', 'wildfires', 'evacuation...   \n",
              "4  ['just', 'sent', 'photo', 'ruby', 'alaska', 's...   \n",
              "\n",
              "                                             stemmed  \\\n",
              "0  ['deed', 'reason', 'earthquak', 'allah', 'forg...   \n",
              "1  ['forest', 'fire', 'near', 'rong', 'sask', 'ca...   \n",
              "2  ['resid', 'ask', 'shelter', 'place', 'notifi',...   \n",
              "3  ['peopl', 'receiv', 'wildfir', 'evacu', 'order...   \n",
              "4  ['just', 'sent', 'photo', 'rubi', 'alaska', 's...   \n",
              "\n",
              "                                          lemmatized location_numeric  \n",
              "0  ['deed', 'reason', 'earthquake', 'allah', 'for...             3171  \n",
              "1  ['forest', 'fire', 'near', 'ronge', 'sask', 'c...             3171  \n",
              "2  ['resident', 'asked', 'shelter', 'place', 'not...             3171  \n",
              "3  ['people', 'receive', 'wildfire', 'evacuation'...             3171  \n",
              "4  ['just', 'sent', 'photo', 'ruby', 'alaska', 's...             3171  \n",
              "\n",
              "[5 rows x 22 columns]"
            ],
            "text/html": [
              "\n",
              "  <div id=\"df-18bdd719-e358-4fd1-94c6-44d2cde5a775\" class=\"colab-df-container\">\n",
              "    <div>\n",
              "<style scoped>\n",
              "    .dataframe tbody tr th:only-of-type {\n",
              "        vertical-align: middle;\n",
              "    }\n",
              "\n",
              "    .dataframe tbody tr th {\n",
              "        vertical-align: top;\n",
              "    }\n",
              "\n",
              "    .dataframe thead th {\n",
              "        text-align: right;\n",
              "    }\n",
              "</style>\n",
              "<table border=\"1\" class=\"dataframe\">\n",
              "  <thead>\n",
              "    <tr style=\"text-align: right;\">\n",
              "      <th></th>\n",
              "      <th>Unnamed: 0</th>\n",
              "      <th>location</th>\n",
              "      <th>text</th>\n",
              "      <th>target</th>\n",
              "      <th>word count</th>\n",
              "      <th>character count</th>\n",
              "      <th>average word length</th>\n",
              "      <th>unique word count</th>\n",
              "      <th>stopword count</th>\n",
              "      <th>url count</th>\n",
              "      <th>...</th>\n",
              "      <th>stopword ratio</th>\n",
              "      <th>punctuation count</th>\n",
              "      <th>text_clean</th>\n",
              "      <th>tokens</th>\n",
              "      <th>label</th>\n",
              "      <th>label_num</th>\n",
              "      <th>tokenized</th>\n",
              "      <th>stemmed</th>\n",
              "      <th>lemmatized</th>\n",
              "      <th>location_numeric</th>\n",
              "    </tr>\n",
              "  </thead>\n",
              "  <tbody>\n",
              "    <tr>\n",
              "      <th>0</th>\n",
              "      <td>0</td>\n",
              "      <td>none</td>\n",
              "      <td>Our Deeds are the Reason of this #earthquake M...</td>\n",
              "      <td>1</td>\n",
              "      <td>14</td>\n",
              "      <td>77</td>\n",
              "      <td>4.571429</td>\n",
              "      <td>14</td>\n",
              "      <td>6</td>\n",
              "      <td>0</td>\n",
              "      <td>...</td>\n",
              "      <td>0.428571</td>\n",
              "      <td>1</td>\n",
              "      <td>deeds reason earthquake allah forgive unknown</td>\n",
              "      <td>['Our', 'Deeds', 'are', 'the', 'Reason', 'of',...</td>\n",
              "      <td>disaster</td>\n",
              "      <td>1</td>\n",
              "      <td>['deeds', 'reason', 'earthquake', 'allah', 'fo...</td>\n",
              "      <td>['deed', 'reason', 'earthquak', 'allah', 'forg...</td>\n",
              "      <td>['deed', 'reason', 'earthquake', 'allah', 'for...</td>\n",
              "      <td>3171</td>\n",
              "    </tr>\n",
              "    <tr>\n",
              "      <th>1</th>\n",
              "      <td>1</td>\n",
              "      <td>none</td>\n",
              "      <td>Forest fire near La Ronge Sask. Canada unknown</td>\n",
              "      <td>1</td>\n",
              "      <td>8</td>\n",
              "      <td>46</td>\n",
              "      <td>4.875000</td>\n",
              "      <td>8</td>\n",
              "      <td>0</td>\n",
              "      <td>0</td>\n",
              "      <td>...</td>\n",
              "      <td>0.000000</td>\n",
              "      <td>1</td>\n",
              "      <td>forest fire near ronge sask canada unknown</td>\n",
              "      <td>['Forest', 'fire', 'near', 'La', 'Ronge', 'Sas...</td>\n",
              "      <td>non-disaster</td>\n",
              "      <td>0</td>\n",
              "      <td>['forest', 'fire', 'near', 'ronge', 'sask', 'c...</td>\n",
              "      <td>['forest', 'fire', 'near', 'rong', 'sask', 'ca...</td>\n",
              "      <td>['forest', 'fire', 'near', 'ronge', 'sask', 'c...</td>\n",
              "      <td>3171</td>\n",
              "    </tr>\n",
              "    <tr>\n",
              "      <th>2</th>\n",
              "      <td>2</td>\n",
              "      <td>none</td>\n",
              "      <td>All residents asked to 'shelter in place' are ...</td>\n",
              "      <td>1</td>\n",
              "      <td>23</td>\n",
              "      <td>141</td>\n",
              "      <td>5.173913</td>\n",
              "      <td>21</td>\n",
              "      <td>11</td>\n",
              "      <td>0</td>\n",
              "      <td>...</td>\n",
              "      <td>0.478261</td>\n",
              "      <td>3</td>\n",
              "      <td>residents asked shelter place notified officer...</td>\n",
              "      <td>['All', 'residents', 'asked', 'to', \"'shelter\"...</td>\n",
              "      <td>disaster</td>\n",
              "      <td>1</td>\n",
              "      <td>['residents', 'asked', 'shelter', 'place', 'no...</td>\n",
              "      <td>['resid', 'ask', 'shelter', 'place', 'notifi',...</td>\n",
              "      <td>['resident', 'asked', 'shelter', 'place', 'not...</td>\n",
              "      <td>3171</td>\n",
              "    </tr>\n",
              "    <tr>\n",
              "      <th>3</th>\n",
              "      <td>3</td>\n",
              "      <td>none</td>\n",
              "      <td>13,000 people receive #wildfires evacuation or...</td>\n",
              "      <td>1</td>\n",
              "      <td>9</td>\n",
              "      <td>73</td>\n",
              "      <td>7.111111</td>\n",
              "      <td>9</td>\n",
              "      <td>1</td>\n",
              "      <td>0</td>\n",
              "      <td>...</td>\n",
              "      <td>0.111111</td>\n",
              "      <td>2</td>\n",
              "      <td>people receive wildfires evacuation orders cal...</td>\n",
              "      <td>['13,000', 'people', 'receive', '#', 'wildfire...</td>\n",
              "      <td>non-disaster</td>\n",
              "      <td>0</td>\n",
              "      <td>['people', 'receive', 'wildfires', 'evacuation...</td>\n",
              "      <td>['peopl', 'receiv', 'wildfir', 'evacu', 'order...</td>\n",
              "      <td>['people', 'receive', 'wildfire', 'evacuation'...</td>\n",
              "      <td>3171</td>\n",
              "    </tr>\n",
              "    <tr>\n",
              "      <th>4</th>\n",
              "      <td>4</td>\n",
              "      <td>none</td>\n",
              "      <td>Just got sent this photo from Ruby #Alaska as ...</td>\n",
              "      <td>1</td>\n",
              "      <td>17</td>\n",
              "      <td>96</td>\n",
              "      <td>4.647059</td>\n",
              "      <td>16</td>\n",
              "      <td>7</td>\n",
              "      <td>0</td>\n",
              "      <td>...</td>\n",
              "      <td>0.411765</td>\n",
              "      <td>2</td>\n",
              "      <td>just sent photo ruby alaska smoke wildfires po...</td>\n",
              "      <td>['Just', 'got', 'sent', 'this', 'photo', 'from...</td>\n",
              "      <td>disaster</td>\n",
              "      <td>1</td>\n",
              "      <td>['just', 'sent', 'photo', 'ruby', 'alaska', 's...</td>\n",
              "      <td>['just', 'sent', 'photo', 'rubi', 'alaska', 's...</td>\n",
              "      <td>['just', 'sent', 'photo', 'ruby', 'alaska', 's...</td>\n",
              "      <td>3171</td>\n",
              "    </tr>\n",
              "  </tbody>\n",
              "</table>\n",
              "<p>5 rows × 22 columns</p>\n",
              "</div>\n",
              "    <div class=\"colab-df-buttons\">\n",
              "\n",
              "  <div class=\"colab-df-container\">\n",
              "    <button class=\"colab-df-convert\" onclick=\"convertToInteractive('df-18bdd719-e358-4fd1-94c6-44d2cde5a775')\"\n",
              "            title=\"Convert this dataframe to an interactive table.\"\n",
              "            style=\"display:none;\">\n",
              "\n",
              "  <svg xmlns=\"http://www.w3.org/2000/svg\" height=\"24px\" viewBox=\"0 -960 960 960\">\n",
              "    <path d=\"M120-120v-720h720v720H120Zm60-500h600v-160H180v160Zm220 220h160v-160H400v160Zm0 220h160v-160H400v160ZM180-400h160v-160H180v160Zm440 0h160v-160H620v160ZM180-180h160v-160H180v160Zm440 0h160v-160H620v160Z\"/>\n",
              "  </svg>\n",
              "    </button>\n",
              "\n",
              "  <style>\n",
              "    .colab-df-container {\n",
              "      display:flex;\n",
              "      gap: 12px;\n",
              "    }\n",
              "\n",
              "    .colab-df-convert {\n",
              "      background-color: #E8F0FE;\n",
              "      border: none;\n",
              "      border-radius: 50%;\n",
              "      cursor: pointer;\n",
              "      display: none;\n",
              "      fill: #1967D2;\n",
              "      height: 32px;\n",
              "      padding: 0 0 0 0;\n",
              "      width: 32px;\n",
              "    }\n",
              "\n",
              "    .colab-df-convert:hover {\n",
              "      background-color: #E2EBFA;\n",
              "      box-shadow: 0px 1px 2px rgba(60, 64, 67, 0.3), 0px 1px 3px 1px rgba(60, 64, 67, 0.15);\n",
              "      fill: #174EA6;\n",
              "    }\n",
              "\n",
              "    .colab-df-buttons div {\n",
              "      margin-bottom: 4px;\n",
              "    }\n",
              "\n",
              "    [theme=dark] .colab-df-convert {\n",
              "      background-color: #3B4455;\n",
              "      fill: #D2E3FC;\n",
              "    }\n",
              "\n",
              "    [theme=dark] .colab-df-convert:hover {\n",
              "      background-color: #434B5C;\n",
              "      box-shadow: 0px 1px 3px 1px rgba(0, 0, 0, 0.15);\n",
              "      filter: drop-shadow(0px 1px 2px rgba(0, 0, 0, 0.3));\n",
              "      fill: #FFFFFF;\n",
              "    }\n",
              "  </style>\n",
              "\n",
              "    <script>\n",
              "      const buttonEl =\n",
              "        document.querySelector('#df-18bdd719-e358-4fd1-94c6-44d2cde5a775 button.colab-df-convert');\n",
              "      buttonEl.style.display =\n",
              "        google.colab.kernel.accessAllowed ? 'block' : 'none';\n",
              "\n",
              "      async function convertToInteractive(key) {\n",
              "        const element = document.querySelector('#df-18bdd719-e358-4fd1-94c6-44d2cde5a775');\n",
              "        const dataTable =\n",
              "          await google.colab.kernel.invokeFunction('convertToInteractive',\n",
              "                                                    [key], {});\n",
              "        if (!dataTable) return;\n",
              "\n",
              "        const docLinkHtml = 'Like what you see? Visit the ' +\n",
              "          '<a target=\"_blank\" href=https://colab.research.google.com/notebooks/data_table.ipynb>data table notebook</a>'\n",
              "          + ' to learn more about interactive tables.';\n",
              "        element.innerHTML = '';\n",
              "        dataTable['output_type'] = 'display_data';\n",
              "        await google.colab.output.renderOutput(dataTable, element);\n",
              "        const docLink = document.createElement('div');\n",
              "        docLink.innerHTML = docLinkHtml;\n",
              "        element.appendChild(docLink);\n",
              "      }\n",
              "    </script>\n",
              "  </div>\n",
              "\n",
              "\n",
              "<div id=\"df-b0a0d3e1-4de6-4784-802f-42650a11aedd\">\n",
              "  <button class=\"colab-df-quickchart\" onclick=\"quickchart('df-b0a0d3e1-4de6-4784-802f-42650a11aedd')\"\n",
              "            title=\"Suggest charts\"\n",
              "            style=\"display:none;\">\n",
              "\n",
              "<svg xmlns=\"http://www.w3.org/2000/svg\" height=\"24px\"viewBox=\"0 0 24 24\"\n",
              "     width=\"24px\">\n",
              "    <g>\n",
              "        <path d=\"M19 3H5c-1.1 0-2 .9-2 2v14c0 1.1.9 2 2 2h14c1.1 0 2-.9 2-2V5c0-1.1-.9-2-2-2zM9 17H7v-7h2v7zm4 0h-2V7h2v10zm4 0h-2v-4h2v4z\"/>\n",
              "    </g>\n",
              "</svg>\n",
              "  </button>\n",
              "\n",
              "<style>\n",
              "  .colab-df-quickchart {\n",
              "      --bg-color: #E8F0FE;\n",
              "      --fill-color: #1967D2;\n",
              "      --hover-bg-color: #E2EBFA;\n",
              "      --hover-fill-color: #174EA6;\n",
              "      --disabled-fill-color: #AAA;\n",
              "      --disabled-bg-color: #DDD;\n",
              "  }\n",
              "\n",
              "  [theme=dark] .colab-df-quickchart {\n",
              "      --bg-color: #3B4455;\n",
              "      --fill-color: #D2E3FC;\n",
              "      --hover-bg-color: #434B5C;\n",
              "      --hover-fill-color: #FFFFFF;\n",
              "      --disabled-bg-color: #3B4455;\n",
              "      --disabled-fill-color: #666;\n",
              "  }\n",
              "\n",
              "  .colab-df-quickchart {\n",
              "    background-color: var(--bg-color);\n",
              "    border: none;\n",
              "    border-radius: 50%;\n",
              "    cursor: pointer;\n",
              "    display: none;\n",
              "    fill: var(--fill-color);\n",
              "    height: 32px;\n",
              "    padding: 0;\n",
              "    width: 32px;\n",
              "  }\n",
              "\n",
              "  .colab-df-quickchart:hover {\n",
              "    background-color: var(--hover-bg-color);\n",
              "    box-shadow: 0 1px 2px rgba(60, 64, 67, 0.3), 0 1px 3px 1px rgba(60, 64, 67, 0.15);\n",
              "    fill: var(--button-hover-fill-color);\n",
              "  }\n",
              "\n",
              "  .colab-df-quickchart-complete:disabled,\n",
              "  .colab-df-quickchart-complete:disabled:hover {\n",
              "    background-color: var(--disabled-bg-color);\n",
              "    fill: var(--disabled-fill-color);\n",
              "    box-shadow: none;\n",
              "  }\n",
              "\n",
              "  .colab-df-spinner {\n",
              "    border: 2px solid var(--fill-color);\n",
              "    border-color: transparent;\n",
              "    border-bottom-color: var(--fill-color);\n",
              "    animation:\n",
              "      spin 1s steps(1) infinite;\n",
              "  }\n",
              "\n",
              "  @keyframes spin {\n",
              "    0% {\n",
              "      border-color: transparent;\n",
              "      border-bottom-color: var(--fill-color);\n",
              "      border-left-color: var(--fill-color);\n",
              "    }\n",
              "    20% {\n",
              "      border-color: transparent;\n",
              "      border-left-color: var(--fill-color);\n",
              "      border-top-color: var(--fill-color);\n",
              "    }\n",
              "    30% {\n",
              "      border-color: transparent;\n",
              "      border-left-color: var(--fill-color);\n",
              "      border-top-color: var(--fill-color);\n",
              "      border-right-color: var(--fill-color);\n",
              "    }\n",
              "    40% {\n",
              "      border-color: transparent;\n",
              "      border-right-color: var(--fill-color);\n",
              "      border-top-color: var(--fill-color);\n",
              "    }\n",
              "    60% {\n",
              "      border-color: transparent;\n",
              "      border-right-color: var(--fill-color);\n",
              "    }\n",
              "    80% {\n",
              "      border-color: transparent;\n",
              "      border-right-color: var(--fill-color);\n",
              "      border-bottom-color: var(--fill-color);\n",
              "    }\n",
              "    90% {\n",
              "      border-color: transparent;\n",
              "      border-bottom-color: var(--fill-color);\n",
              "    }\n",
              "  }\n",
              "</style>\n",
              "\n",
              "  <script>\n",
              "    async function quickchart(key) {\n",
              "      const quickchartButtonEl =\n",
              "        document.querySelector('#' + key + ' button');\n",
              "      quickchartButtonEl.disabled = true;  // To prevent multiple clicks.\n",
              "      quickchartButtonEl.classList.add('colab-df-spinner');\n",
              "      try {\n",
              "        const charts = await google.colab.kernel.invokeFunction(\n",
              "            'suggestCharts', [key], {});\n",
              "      } catch (error) {\n",
              "        console.error('Error during call to suggestCharts:', error);\n",
              "      }\n",
              "      quickchartButtonEl.classList.remove('colab-df-spinner');\n",
              "      quickchartButtonEl.classList.add('colab-df-quickchart-complete');\n",
              "    }\n",
              "    (() => {\n",
              "      let quickchartButtonEl =\n",
              "        document.querySelector('#df-b0a0d3e1-4de6-4784-802f-42650a11aedd button');\n",
              "      quickchartButtonEl.style.display =\n",
              "        google.colab.kernel.accessAllowed ? 'block' : 'none';\n",
              "    })();\n",
              "  </script>\n",
              "</div>\n",
              "\n",
              "    </div>\n",
              "  </div>\n"
            ],
            "application/vnd.google.colaboratory.intrinsic+json": {
              "type": "dataframe",
              "variable_name": "df"
            }
          },
          "metadata": {},
          "execution_count": 6
        }
      ]
    },
    {
      "cell_type": "markdown",
      "source": [
        "#Part 2: Feature Engineering and Model Selection\n",
        "Task: Feature Engineering\n",
        "\n",
        "● Extract relevant features from the text data, such as word frequencies, TF-IDF scores, and sentiment analysis.\n",
        "\n",
        "Word Frequencies and TF-IDF Scores"
      ],
      "metadata": {
        "id": "6v484tzki-5G"
      }
    },
    {
      "cell_type": "code",
      "source": [
        "count_vectorizer = CountVectorizer()\n",
        "tfidf_vectorizer = TfidfVectorizer()\n",
        "\n",
        "# Fit and transform text data using CountVectorizer\n",
        "X_count = count_vectorizer.fit_transform(df['text'])\n",
        "\n",
        "# Fit and transform text data using TfidfVectorizer\n",
        "X_tfidf = tfidf_vectorizer.fit_transform(df['text'])\n",
        "\n",
        "# Convert transformed matrices to DataFrame (for demonstration)\n",
        "df_count = pd.DataFrame(X_count.toarray(), columns=count_vectorizer.get_feature_names_out())\n",
        "df_tfidf = pd.DataFrame(X_tfidf.toarray(), columns=tfidf_vectorizer.get_feature_names_out())\n",
        "\n",
        "# Display word frequencies (CountVectorizer) and TF-IDF scores (TfidfVectorizer)\n",
        "print(\"Word Frequencies (CountVectorizer):\\n\", df_count)\n",
        "print()\n",
        "print(\"TF-IDF Scores (TfidfVectorizer):\\n\", df_tfidf.head())"
      ],
      "metadata": {
        "colab": {
          "base_uri": "https://localhost:8080/"
        },
        "id": "2iQ0_hZojKzJ",
        "outputId": "6d351e9c-4c26-4a8a-e5d6-88b23d436723"
      },
      "execution_count": null,
      "outputs": [
        {
          "output_type": "stream",
          "name": "stdout",
          "text": [
            "Word Frequencies (CountVectorizer):\n",
            "       00  000  0000  007npen6lg  00cy9vxeff  00end  00pm  01  02  0215  ...  \\\n",
            "0      0    0     0           0           0      0     0   0   0     0  ...   \n",
            "1      0    0     0           0           0      0     0   0   0     0  ...   \n",
            "2      0    0     0           0           0      0     0   0   0     0  ...   \n",
            "3      0    1     0           0           0      0     0   0   0     0  ...   \n",
            "4      0    0     0           0           0      0     0   0   0     0  ...   \n",
            "...   ..  ...   ...         ...         ...    ...   ...  ..  ..   ...  ...   \n",
            "7608   0    0     0           0           0      0     0   0   0     0  ...   \n",
            "7609   0    0     0           0           0      0     0   0   0     0  ...   \n",
            "7610   0    0     0           0           0      0     0   1   0     0  ...   \n",
            "7611   0    0     0           0           0      0     0   0   0     0  ...   \n",
            "7612   0    0     0           0           0      0     0   0   0     0  ...   \n",
            "\n",
            "      zyrzx6dfki  zyssobxntc  zz0cewew64  zz5udilrea  zzcbbqyj1q  zzpojgngaj  \\\n",
            "0              0           0           0           0           0           0   \n",
            "1              0           0           0           0           0           0   \n",
            "2              0           0           0           0           0           0   \n",
            "3              0           0           0           0           0           0   \n",
            "4              0           0           0           0           0           0   \n",
            "...          ...         ...         ...         ...         ...         ...   \n",
            "7608           0           0           0           0           0           0   \n",
            "7609           0           0           0           0           0           0   \n",
            "7610           0           0           0           0           0           0   \n",
            "7611           0           0           0           0           0           0   \n",
            "7612           0           0           0           0           0           0   \n",
            "\n",
            "      zzsee5hipm  zztbvjypn1  zzweeezjug  zzzz  \n",
            "0              0           0           0     0  \n",
            "1              0           0           0     0  \n",
            "2              0           0           0     0  \n",
            "3              0           0           0     0  \n",
            "4              0           0           0     0  \n",
            "...          ...         ...         ...   ...  \n",
            "7608           0           0           0     0  \n",
            "7609           0           0           0     0  \n",
            "7610           0           0           0     0  \n",
            "7611           0           0           0     0  \n",
            "7612           0           0           0     0  \n",
            "\n",
            "[7613 rows x 21557 columns]\n",
            "\n",
            "TF-IDF Scores (TfidfVectorizer):\n",
            "     00       000  0000  007npen6lg  00cy9vxeff  00end  00pm   01   02  0215  \\\n",
            "0  0.0  0.000000   0.0         0.0         0.0    0.0   0.0  0.0  0.0   0.0   \n",
            "1  0.0  0.000000   0.0         0.0         0.0    0.0   0.0  0.0  0.0   0.0   \n",
            "2  0.0  0.000000   0.0         0.0         0.0    0.0   0.0  0.0  0.0   0.0   \n",
            "3  0.0  0.401049   0.0         0.0         0.0    0.0   0.0  0.0  0.0   0.0   \n",
            "4  0.0  0.000000   0.0         0.0         0.0    0.0   0.0  0.0  0.0   0.0   \n",
            "\n",
            "   ...  zyrzx6dfki  zyssobxntc  zz0cewew64  zz5udilrea  zzcbbqyj1q  \\\n",
            "0  ...         0.0         0.0         0.0         0.0         0.0   \n",
            "1  ...         0.0         0.0         0.0         0.0         0.0   \n",
            "2  ...         0.0         0.0         0.0         0.0         0.0   \n",
            "3  ...         0.0         0.0         0.0         0.0         0.0   \n",
            "4  ...         0.0         0.0         0.0         0.0         0.0   \n",
            "\n",
            "   zzpojgngaj  zzsee5hipm  zztbvjypn1  zzweeezjug  zzzz  \n",
            "0         0.0         0.0         0.0         0.0   0.0  \n",
            "1         0.0         0.0         0.0         0.0   0.0  \n",
            "2         0.0         0.0         0.0         0.0   0.0  \n",
            "3         0.0         0.0         0.0         0.0   0.0  \n",
            "4         0.0         0.0         0.0         0.0   0.0  \n",
            "\n",
            "[5 rows x 21557 columns]\n"
          ]
        }
      ]
    },
    {
      "cell_type": "markdown",
      "source": [
        "# Sentiment Analysis"
      ],
      "metadata": {
        "id": "v14q5eljjTRO"
      }
    },
    {
      "cell_type": "code",
      "source": [
        "from textblob import TextBlob#import liabrary\n",
        "#use lamda function\n",
        "df['text_sentiment'] = df['text'].apply(lambda x: TextBlob(str(x)).sentiment)\n",
        "\n",
        "df['polarity'] = df['text_sentiment'].apply(lambda x: x.polarity)\n",
        "df['subjectivity'] = df['text_sentiment'].apply(lambda x: x.subjectivity)\n",
        "\n",
        "print(df[['text', 'polarity', 'subjectivity']])"
      ],
      "metadata": {
        "colab": {
          "base_uri": "https://localhost:8080/"
        },
        "id": "OoPc3Sy0jN35",
        "outputId": "80bda365-28e2-4826-c49a-43b52953b2ad"
      },
      "execution_count": null,
      "outputs": [
        {
          "output_type": "stream",
          "name": "stdout",
          "text": [
            "                                                   text  polarity  \\\n",
            "0     Our Deeds are the Reason of this #earthquake M... -0.100000   \n",
            "1        Forest fire near La Ronge Sask. Canada unknown  0.000000   \n",
            "2     All residents asked to 'shelter in place' are ... -0.045833   \n",
            "3     13,000 people receive #wildfires evacuation or... -0.100000   \n",
            "4     Just got sent this photo from Ruby #Alaska as ... -0.100000   \n",
            "...                                                 ...       ...   \n",
            "7608  Two giant cranes holding a bridge collapse int... -0.050000   \n",
            "7609  @aria_ahrary @TheTawniest The out of control w...  0.066667   \n",
            "7610  M1.94 [01:04 UTC]?5km S of Volcano Hawaii. htt... -0.100000   \n",
            "7611  Police investigating after an e-bike collided ... -0.206944   \n",
            "7612  The Latest: More Homes Razed by Northern Calif...  0.300000   \n",
            "\n",
            "      subjectivity  \n",
            "0         0.600000  \n",
            "1         0.500000  \n",
            "2         0.458333  \n",
            "3         0.600000  \n",
            "4         0.600000  \n",
            "...            ...  \n",
            "7608      0.800000  \n",
            "7609      0.433333  \n",
            "7610      0.600000  \n",
            "7611      0.588889  \n",
            "7612      0.666667  \n",
            "\n",
            "[7613 rows x 3 columns]\n"
          ]
        }
      ]
    },
    {
      "cell_type": "markdown",
      "source": [
        "# On the basis of text, polarity and subjectivity, we can see the sentiment analysis"
      ],
      "metadata": {
        "id": "yEMAJy4Gje2_"
      }
    },
    {
      "cell_type": "code",
      "source": [
        "import matplotlib.pyplot as plt\n",
        "\n",
        "# Plot histogram for sentiment polarity\n",
        "plt.figure(figsize=(8, 6))\n",
        "plt.hist(df['polarity'], bins=50, color='darkblue', edgecolor='black')\n",
        "plt.xlabel('Polarity')\n",
        "plt.ylabel('Frequency')\n",
        "plt.title('Distribution of Sentiment Polarity')\n",
        "plt.grid(True)\n",
        "plt.show()"
      ],
      "metadata": {
        "colab": {
          "base_uri": "https://localhost:8080/",
          "height": 569
        },
        "id": "OBT30gf8jOOy",
        "outputId": "24b9771f-7ff9-486e-f23b-f13763fb4343"
      },
      "execution_count": null,
      "outputs": [
        {
          "output_type": "display_data",
          "data": {
            "text/plain": [
              "<Figure size 800x600 with 1 Axes>"
            ],
            "image/png": "[encoded data removed]"
          },
          "metadata": {}
        }
      ]
    },
    {
      "cell_type": "code",
      "source": [
        "# Plot histogram for sentiment subjectivity\n",
        "plt.figure(figsize=(8, 6))\n",
        "plt.hist(df['subjectivity'], bins=50, color='red', edgecolor='black')\n",
        "plt.xlabel('Subjectivity')\n",
        "plt.ylabel('Frequency')\n",
        "plt.title('Distribution of Sentiment Subjectivity')\n",
        "plt.grid(True)\n",
        "plt.show()"
      ],
      "metadata": {
        "colab": {
          "base_uri": "https://localhost:8080/",
          "height": 569
        },
        "id": "Is89_Bc3jOtR",
        "outputId": "d1738704-c1a8-4b4a-b4e5-03681e221185"
      },
      "execution_count": null,
      "outputs": [
        {
          "output_type": "display_data",
          "data": {
            "text/plain": [
              "<Figure size 800x600 with 1 Axes>"
            ],
            "image/png": "[encoded data removed]"
          },
          "metadata": {}
        }
      ]
    },
    {
      "cell_type": "markdown",
      "source": [
        "#Sentiment Polarity and Sentiment Subjectivity both are maximum at point 0"
      ],
      "metadata": {
        "id": "62sqri1VjvMt"
      }
    },
    {
      "cell_type": "markdown",
      "source": [
        "Integration into Feature Extraction Pipeline"
      ],
      "metadata": {
        "id": "2vmRJfQtj1ei"
      }
    },
    {
      "cell_type": "code",
      "source": [
        "# Fit and transform text data using TfidfVectorizer\n",
        "X_tfidf = tfidf_vectorizer.fit_transform(df['text'])\n",
        "\n",
        "# Perform sentiment analysis using TextBlob\n",
        "sentiment_scores = df['text'].apply(lambda x: TextBlob(x).sentiment.polarity)\n",
        "\n",
        "# Create a DataFrame with TF-IDF scores and sentiment analysis results\n",
        "df_features = pd.DataFrame(X_tfidf.toarray(), columns=tfidf_vectorizer.get_feature_names_out())\n",
        "df_features['sentiment_polarity'] = sentiment_scores\n",
        "\n",
        "# Display the combined feature matrix with TF-IDF and sentiment analysis features\n",
        "print(\"Combined Feature Matrix:\\n\", df_features)"
      ],
      "metadata": {
        "colab": {
          "base_uri": "https://localhost:8080/"
        },
        "id": "wKKG31CYjPQ6",
        "outputId": "3699aa78-be96-43e5-89d0-72cbb433738e"
      },
      "execution_count": null,
      "outputs": [
        {
          "output_type": "stream",
          "name": "stdout",
          "text": [
            "Combined Feature Matrix:\n",
            "        00       000  0000  007npen6lg  00cy9vxeff  00end  00pm        01   02  \\\n",
            "0     0.0  0.000000   0.0         0.0         0.0    0.0   0.0  0.000000  0.0   \n",
            "1     0.0  0.000000   0.0         0.0         0.0    0.0   0.0  0.000000  0.0   \n",
            "2     0.0  0.000000   0.0         0.0         0.0    0.0   0.0  0.000000  0.0   \n",
            "3     0.0  0.401049   0.0         0.0         0.0    0.0   0.0  0.000000  0.0   \n",
            "4     0.0  0.000000   0.0         0.0         0.0    0.0   0.0  0.000000  0.0   \n",
            "...   ...       ...   ...         ...         ...    ...   ...       ...  ...   \n",
            "7608  0.0  0.000000   0.0         0.0         0.0    0.0   0.0  0.000000  0.0   \n",
            "7609  0.0  0.000000   0.0         0.0         0.0    0.0   0.0  0.000000  0.0   \n",
            "7610  0.0  0.000000   0.0         0.0         0.0    0.0   0.0  0.296664  0.0   \n",
            "7611  0.0  0.000000   0.0         0.0         0.0    0.0   0.0  0.000000  0.0   \n",
            "7612  0.0  0.000000   0.0         0.0         0.0    0.0   0.0  0.000000  0.0   \n",
            "\n",
            "      0215  ...  zyssobxntc  zz0cewew64  zz5udilrea  zzcbbqyj1q  zzpojgngaj  \\\n",
            "0      0.0  ...         0.0         0.0         0.0         0.0         0.0   \n",
            "1      0.0  ...         0.0         0.0         0.0         0.0         0.0   \n",
            "2      0.0  ...         0.0         0.0         0.0         0.0         0.0   \n",
            "3      0.0  ...         0.0         0.0         0.0         0.0         0.0   \n",
            "4      0.0  ...         0.0         0.0         0.0         0.0         0.0   \n",
            "...    ...  ...         ...         ...         ...         ...         ...   \n",
            "7608   0.0  ...         0.0         0.0         0.0         0.0         0.0   \n",
            "7609   0.0  ...         0.0         0.0         0.0         0.0         0.0   \n",
            "7610   0.0  ...         0.0         0.0         0.0         0.0         0.0   \n",
            "7611   0.0  ...         0.0         0.0         0.0         0.0         0.0   \n",
            "7612   0.0  ...         0.0         0.0         0.0         0.0         0.0   \n",
            "\n",
            "      zzsee5hipm  zztbvjypn1  zzweeezjug  zzzz  sentiment_polarity  \n",
            "0            0.0         0.0         0.0   0.0           -0.100000  \n",
            "1            0.0         0.0         0.0   0.0            0.000000  \n",
            "2            0.0         0.0         0.0   0.0           -0.045833  \n",
            "3            0.0         0.0         0.0   0.0           -0.100000  \n",
            "4            0.0         0.0         0.0   0.0           -0.100000  \n",
            "...          ...         ...         ...   ...                 ...  \n",
            "7608         0.0         0.0         0.0   0.0           -0.050000  \n",
            "7609         0.0         0.0         0.0   0.0            0.066667  \n",
            "7610         0.0         0.0         0.0   0.0           -0.100000  \n",
            "7611         0.0         0.0         0.0   0.0           -0.206944  \n",
            "7612         0.0         0.0         0.0   0.0            0.300000  \n",
            "\n",
            "[7613 rows x 21558 columns]\n"
          ]
        }
      ]
    },
    {
      "cell_type": "code",
      "source": [
        "import random\n",
        "\n",
        "# Select a random subset of features to plot\n",
        "num_features_to_plot = 10  # Adjust this as needed\n",
        "random_features = random.sample(list(df_features.columns[:-1]), num_features_to_plot)\n",
        "\n",
        "# Plot scatter plot for TF-IDF scores vs. sentiment polarity for each feature\n",
        "plt.figure(figsize=(10, 6))\n",
        "for feature in random_features:\n",
        "    plt.scatter(df_features['sentiment_polarity'], df_features[feature], label=feature)\n",
        "plt.xlabel('Sentiment Polarity')\n",
        "plt.ylabel('TF-IDF Score')\n",
        "plt.title('TF-IDF Score vs. Sentiment Polarity for Random Subset of Features')\n",
        "plt.legend(loc='upper right', fontsize='small', bbox_to_anchor=(1.25, 1))\n",
        "plt.grid(True)\n",
        "plt.show()"
      ],
      "metadata": {
        "colab": {
          "base_uri": "https://localhost:8080/",
          "height": 569
        },
        "id": "Djc19mzQj92-",
        "outputId": "f3001099-3cbc-42e0-d842-ca6e7aca37ab"
      },
      "execution_count": null,
      "outputs": [
        {
          "output_type": "display_data",
          "data": {
            "text/plain": [
              "<Figure size 1000x600 with 1 Axes>"
            ],
            "image/png": "[encoded data removed]"
          },
          "metadata": {}
        }
      ]
    },
    {
      "cell_type": "markdown",
      "source": [
        "#"
      ],
      "metadata": {
        "id": "FLmkep5tkMV-"
      }
    },
    {
      "cell_type": "markdown",
      "source": [
        "# Only 2 or 3 subsets are at points other than 0\n",
        "● Consider using pre-trained word embeddings like Word2Vec or GloVe to capture semantic meanings."
      ],
      "metadata": {
        "id": "SN-u2xIZkP4a"
      }
    },
    {
      "cell_type": "code",
      "source": [
        "import gensim.downloader as api\n",
        "\n",
        "# Download and load the pre-trained Word2Vec model\n",
        "w2v_model = api.load('word2vec-google-news-300')"
      ],
      "metadata": {
        "colab": {
          "base_uri": "https://localhost:8080/"
        },
        "id": "mnXkBrkBj_V6",
        "outputId": "0041462a-0697-47f7-b28a-11786b788d6f"
      },
      "execution_count": null,
      "outputs": [
        {
          "output_type": "stream",
          "name": "stdout",
          "text": [
            "[==================================================] 100.0% 1662.8/1662.8MB downloaded\n"
          ]
        }
      ]
    },
    {
      "cell_type": "code",
      "source": [
        "def get_token_embeddings(tokens, w2v_model):\n",
        "    embeddings = []\n",
        "    for token in tokens:\n",
        "        if token in w2v_model:\n",
        "            embeddings.append(w2v_model[token])\n",
        "        else:\n",
        "            # Handle out-of-vocabulary words (use a zero vector)\n",
        "            embeddings.append([0] * w2v_model.vector_size)\n",
        "    return embeddings"
      ],
      "metadata": {
        "id": "sEa8FKBoj_wL"
      },
      "execution_count": null,
      "outputs": []
    },
    {
      "cell_type": "code",
      "source": [
        "# Applying word embedding to tokenized text\n",
        "df['embeddings'] = df['tokenized'].apply(lambda x: get_token_embeddings(x, w2v_model))"
      ],
      "metadata": {
        "id": "OJ2eqnwCI8XC"
      },
      "execution_count": null,
      "outputs": []
    },
    {
      "cell_type": "code",
      "source": [
        "# Applying word embedding to tokenized text\n",
        "df['embeddings'] = df['tokenized'].apply(lambda x: get_token_embeddings(x, w2v_model) if isinstance(x, (list, tuple)) else [])"
      ],
      "metadata": {
        "id": "k63HbqqnAMWx"
      },
      "execution_count": null,
      "outputs": []
    },
    {
      "cell_type": "code",
      "source": [
        "# Display DataFrame with tokenized text and corresponding embeddings\n",
        "print(df[['tokenized', 'embeddings']])"
      ],
      "metadata": {
        "colab": {
          "base_uri": "https://localhost:8080/"
        },
        "id": "G9bsuvD9pJDZ",
        "outputId": "0106ff54-abe1-4099-9498-e37d86391c81"
      },
      "execution_count": null,
      "outputs": [
        {
          "output_type": "stream",
          "name": "stdout",
          "text": [
            "                                              tokenized embeddings\n",
            "0     ['deeds', 'reason', 'earthquake', 'allah', 'fo...         []\n",
            "1     ['forest', 'fire', 'near', 'ronge', 'sask', 'c...         []\n",
            "2     ['residents', 'asked', 'shelter', 'place', 'no...         []\n",
            "3     ['people', 'receive', 'wildfires', 'evacuation...         []\n",
            "4     ['just', 'sent', 'photo', 'ruby', 'alaska', 's...         []\n",
            "...                                                 ...        ...\n",
            "7608  ['giant', 'cranes', 'holding', 'bridge', 'coll...         []\n",
            "7609  ['ariaahrary', 'thetawniest', 'control', 'wild...         []\n",
            "7610                   ['volcano', 'hawaii', 'unknown']         []\n",
            "7611  ['police', 'investigating', 'ebike', 'collided...         []\n",
            "7612  ['latest', 'more', 'homes', 'razed', 'northern...         []\n",
            "\n",
            "[7613 rows x 2 columns]\n"
          ]
        }
      ]
    },
    {
      "cell_type": "markdown",
      "source": [
        "#● Experiment with additional features like tweet length, presence of hashtags, or user mentions."
      ],
      "metadata": {
        "id": "7VWP6dvdpNqu"
      }
    },
    {
      "cell_type": "code",
      "source": [
        "# Calculate tweet length (number of words), handling potential float values\n",
        "df['tweet_length'] = df['tokenized'].apply(lambda x: len(x) if isinstance(x, (list, tuple)) else 0)"
      ],
      "metadata": {
        "id": "IAwNmDtAAx0S"
      },
      "execution_count": null,
      "outputs": []
    },
    {
      "cell_type": "code",
      "source": [
        "df.info()"
      ],
      "metadata": {
        "colab": {
          "base_uri": "https://localhost:8080/"
        },
        "id": "OK5-LekbtmcX",
        "outputId": "bbc13b71-8b03-4599-b85f-9c4575b02413"
      },
      "execution_count": null,
      "outputs": [
        {
          "output_type": "stream",
          "name": "stdout",
          "text": [
            "<class 'pandas.core.frame.DataFrame'>\n",
            "RangeIndex: 7613 entries, 0 to 7612\n",
            "Data columns (total 27 columns):\n",
            " #   Column               Non-Null Count  Dtype  \n",
            "---  ------               --------------  -----  \n",
            " 0   Unnamed: 0           7613 non-null   int64  \n",
            " 1   location             7613 non-null   object \n",
            " 2   text                 7613 non-null   object \n",
            " 3   target               7613 non-null   int64  \n",
            " 4   word count           7613 non-null   int64  \n",
            " 5   character count      7613 non-null   int64  \n",
            " 6   average word length  7613 non-null   float64\n",
            " 7   unique word count    7613 non-null   int64  \n",
            " 8   stopword count       7613 non-null   int64  \n",
            " 9   url count            7613 non-null   int64  \n",
            " 10  mention count        7613 non-null   int64  \n",
            " 11  hashtag count        7613 non-null   int64  \n",
            " 12  stopword ratio       7613 non-null   float64\n",
            " 13  punctuation count    7613 non-null   int64  \n",
            " 14  text_clean           7612 non-null   object \n",
            " 15  tokens               7613 non-null   object \n",
            " 16  label                7613 non-null   object \n",
            " 17  label_num            7613 non-null   int64  \n",
            " 18  tokenized            7613 non-null   object \n",
            " 19  stemmed              7613 non-null   object \n",
            " 20  lemmatized           7613 non-null   object \n",
            " 21  location_numeric     7613 non-null   int64  \n",
            " 22  text_sentiment       7613 non-null   object \n",
            " 23  polarity             7613 non-null   float64\n",
            " 24  subjectivity         7613 non-null   float64\n",
            " 25  embeddings           7613 non-null   object \n",
            " 26  tweet_length         7613 non-null   int64  \n",
            "dtypes: float64(4), int64(13), object(10)\n",
            "memory usage: 1.6+ MB\n"
          ]
        }
      ]
    },
    {
      "cell_type": "code",
      "source": [
        "df['tweet_length'].unique()"
      ],
      "metadata": {
        "colab": {
          "base_uri": "https://localhost:8080/"
        },
        "id": "EWNKwk8Utvqz",
        "outputId": "af046fc8-6947-414b-d540-a1132693cf8f"
      },
      "execution_count": null,
      "outputs": [
        {
          "output_type": "execute_result",
          "data": {
            "text/plain": [
              "array([0])"
            ]
          },
          "metadata": {},
          "execution_count": 20
        }
      ]
    },
    {
      "cell_type": "code",
      "source": [
        "df['tweet_length']"
      ],
      "metadata": {
        "colab": {
          "base_uri": "https://localhost:8080/",
          "height": 458
        },
        "id": "SpHhKRM0pQYp",
        "outputId": "c764b754-b60e-461a-8197-ab7f77bf94cd"
      },
      "execution_count": null,
      "outputs": [
        {
          "output_type": "execute_result",
          "data": {
            "text/plain": [
              "0       0\n",
              "1       0\n",
              "2       0\n",
              "3       0\n",
              "4       0\n",
              "       ..\n",
              "7608    0\n",
              "7609    0\n",
              "7610    0\n",
              "7611    0\n",
              "7612    0\n",
              "Name: tweet_length, Length: 7613, dtype: int64"
            ],
            "text/html": [
              "<div>\n",
              "<style scoped>\n",
              "    .dataframe tbody tr th:only-of-type {\n",
              "        vertical-align: middle;\n",
              "    }\n",
              "\n",
              "    .dataframe tbody tr th {\n",
              "        vertical-align: top;\n",
              "    }\n",
              "\n",
              "    .dataframe thead th {\n",
              "        text-align: right;\n",
              "    }\n",
              "</style>\n",
              "<table border=\"1\" class=\"dataframe\">\n",
              "  <thead>\n",
              "    <tr style=\"text-align: right;\">\n",
              "      <th></th>\n",
              "      <th>tweet_length</th>\n",
              "    </tr>\n",
              "  </thead>\n",
              "  <tbody>\n",
              "    <tr>\n",
              "      <th>0</th>\n",
              "      <td>0</td>\n",
              "    </tr>\n",
              "    <tr>\n",
              "      <th>1</th>\n",
              "      <td>0</td>\n",
              "    </tr>\n",
              "    <tr>\n",
              "      <th>2</th>\n",
              "      <td>0</td>\n",
              "    </tr>\n",
              "    <tr>\n",
              "      <th>3</th>\n",
              "      <td>0</td>\n",
              "    </tr>\n",
              "    <tr>\n",
              "      <th>4</th>\n",
              "      <td>0</td>\n",
              "    </tr>\n",
              "    <tr>\n",
              "      <th>...</th>\n",
              "      <td>...</td>\n",
              "    </tr>\n",
              "    <tr>\n",
              "      <th>7608</th>\n",
              "      <td>0</td>\n",
              "    </tr>\n",
              "    <tr>\n",
              "      <th>7609</th>\n",
              "      <td>0</td>\n",
              "    </tr>\n",
              "    <tr>\n",
              "      <th>7610</th>\n",
              "      <td>0</td>\n",
              "    </tr>\n",
              "    <tr>\n",
              "      <th>7611</th>\n",
              "      <td>0</td>\n",
              "    </tr>\n",
              "    <tr>\n",
              "      <th>7612</th>\n",
              "      <td>0</td>\n",
              "    </tr>\n",
              "  </tbody>\n",
              "</table>\n",
              "<p>7613 rows × 1 columns</p>\n",
              "</div><br><label><b>dtype:</b> int64</label>"
            ]
          },
          "metadata": {},
          "execution_count": 21
        }
      ]
    },
    {
      "cell_type": "code",
      "source": [
        "# Check if tweet contains hashtags\n",
        "df['has_hashtags'] = df['text'].apply(lambda x: 1 if '#' in x else 0)"
      ],
      "metadata": {
        "id": "7-dGrtibpQx5"
      },
      "execution_count": null,
      "outputs": []
    },
    {
      "cell_type": "code",
      "source": [
        "df['has_hashtags']"
      ],
      "metadata": {
        "colab": {
          "base_uri": "https://localhost:8080/",
          "height": 458
        },
        "id": "X9BD2GfmpqU2",
        "outputId": "72b675a3-17d2-4f23-8902-f9d968a800b2"
      },
      "execution_count": null,
      "outputs": [
        {
          "output_type": "execute_result",
          "data": {
            "text/plain": [
              "0       1\n",
              "1       0\n",
              "2       0\n",
              "3       1\n",
              "4       1\n",
              "       ..\n",
              "7608    0\n",
              "7609    0\n",
              "7610    0\n",
              "7611    0\n",
              "7612    0\n",
              "Name: has_hashtags, Length: 7613, dtype: int64"
            ],
            "text/html": [
              "<div>\n",
              "<style scoped>\n",
              "    .dataframe tbody tr th:only-of-type {\n",
              "        vertical-align: middle;\n",
              "    }\n",
              "\n",
              "    .dataframe tbody tr th {\n",
              "        vertical-align: top;\n",
              "    }\n",
              "\n",
              "    .dataframe thead th {\n",
              "        text-align: right;\n",
              "    }\n",
              "</style>\n",
              "<table border=\"1\" class=\"dataframe\">\n",
              "  <thead>\n",
              "    <tr style=\"text-align: right;\">\n",
              "      <th></th>\n",
              "      <th>has_hashtags</th>\n",
              "    </tr>\n",
              "  </thead>\n",
              "  <tbody>\n",
              "    <tr>\n",
              "      <th>0</th>\n",
              "      <td>1</td>\n",
              "    </tr>\n",
              "    <tr>\n",
              "      <th>1</th>\n",
              "      <td>0</td>\n",
              "    </tr>\n",
              "    <tr>\n",
              "      <th>2</th>\n",
              "      <td>0</td>\n",
              "    </tr>\n",
              "    <tr>\n",
              "      <th>3</th>\n",
              "      <td>1</td>\n",
              "    </tr>\n",
              "    <tr>\n",
              "      <th>4</th>\n",
              "      <td>1</td>\n",
              "    </tr>\n",
              "    <tr>\n",
              "      <th>...</th>\n",
              "      <td>...</td>\n",
              "    </tr>\n",
              "    <tr>\n",
              "      <th>7608</th>\n",
              "      <td>0</td>\n",
              "    </tr>\n",
              "    <tr>\n",
              "      <th>7609</th>\n",
              "      <td>0</td>\n",
              "    </tr>\n",
              "    <tr>\n",
              "      <th>7610</th>\n",
              "      <td>0</td>\n",
              "    </tr>\n",
              "    <tr>\n",
              "      <th>7611</th>\n",
              "      <td>0</td>\n",
              "    </tr>\n",
              "    <tr>\n",
              "      <th>7612</th>\n",
              "      <td>0</td>\n",
              "    </tr>\n",
              "  </tbody>\n",
              "</table>\n",
              "<p>7613 rows × 1 columns</p>\n",
              "</div><br><label><b>dtype:</b> int64</label>"
            ]
          },
          "metadata": {},
          "execution_count": 23
        }
      ]
    },
    {
      "cell_type": "code",
      "source": [
        "# Check if tweet contains user mentions\n",
        "df['has_user_mentions'] = df['text'].apply(lambda x: 1 if '@' in x else 0)"
      ],
      "metadata": {
        "id": "dSvZsO8Kpuqg"
      },
      "execution_count": null,
      "outputs": []
    },
    {
      "cell_type": "code",
      "source": [
        "df['has_user_mentions']"
      ],
      "metadata": {
        "colab": {
          "base_uri": "https://localhost:8080/",
          "height": 458
        },
        "id": "MuJYG7lLpu_V",
        "outputId": "33e5a3b0-60f7-4269-cc66-93f12d4e20f3"
      },
      "execution_count": null,
      "outputs": [
        {
          "output_type": "execute_result",
          "data": {
            "text/plain": [
              "0       0\n",
              "1       0\n",
              "2       0\n",
              "3       0\n",
              "4       0\n",
              "       ..\n",
              "7608    0\n",
              "7609    1\n",
              "7610    0\n",
              "7611    0\n",
              "7612    0\n",
              "Name: has_user_mentions, Length: 7613, dtype: int64"
            ],
            "text/html": [
              "<div>\n",
              "<style scoped>\n",
              "    .dataframe tbody tr th:only-of-type {\n",
              "        vertical-align: middle;\n",
              "    }\n",
              "\n",
              "    .dataframe tbody tr th {\n",
              "        vertical-align: top;\n",
              "    }\n",
              "\n",
              "    .dataframe thead th {\n",
              "        text-align: right;\n",
              "    }\n",
              "</style>\n",
              "<table border=\"1\" class=\"dataframe\">\n",
              "  <thead>\n",
              "    <tr style=\"text-align: right;\">\n",
              "      <th></th>\n",
              "      <th>has_user_mentions</th>\n",
              "    </tr>\n",
              "  </thead>\n",
              "  <tbody>\n",
              "    <tr>\n",
              "      <th>0</th>\n",
              "      <td>0</td>\n",
              "    </tr>\n",
              "    <tr>\n",
              "      <th>1</th>\n",
              "      <td>0</td>\n",
              "    </tr>\n",
              "    <tr>\n",
              "      <th>2</th>\n",
              "      <td>0</td>\n",
              "    </tr>\n",
              "    <tr>\n",
              "      <th>3</th>\n",
              "      <td>0</td>\n",
              "    </tr>\n",
              "    <tr>\n",
              "      <th>4</th>\n",
              "      <td>0</td>\n",
              "    </tr>\n",
              "    <tr>\n",
              "      <th>...</th>\n",
              "      <td>...</td>\n",
              "    </tr>\n",
              "    <tr>\n",
              "      <th>7608</th>\n",
              "      <td>0</td>\n",
              "    </tr>\n",
              "    <tr>\n",
              "      <th>7609</th>\n",
              "      <td>1</td>\n",
              "    </tr>\n",
              "    <tr>\n",
              "      <th>7610</th>\n",
              "      <td>0</td>\n",
              "    </tr>\n",
              "    <tr>\n",
              "      <th>7611</th>\n",
              "      <td>0</td>\n",
              "    </tr>\n",
              "    <tr>\n",
              "      <th>7612</th>\n",
              "      <td>0</td>\n",
              "    </tr>\n",
              "  </tbody>\n",
              "</table>\n",
              "<p>7613 rows × 1 columns</p>\n",
              "</div><br><label><b>dtype:</b> int64</label>"
            ]
          },
          "metadata": {},
          "execution_count": 25
        }
      ]
    },
    {
      "cell_type": "code",
      "source": [
        "def combine_features(embeddings, tweet_length, has_hashtags, has_user_mentions):\n",
        "    # Convert embeddings to numpy array\n",
        "    embeddings_array = np.array(embeddings)\n",
        "\n",
        "    # Reshape additional features to match the number of embeddings\n",
        "    tweet_length_array = np.full((len(embeddings_array), 1), tweet_length)\n",
        "    has_hashtags_array = np.full((len(embeddings_array), 1), has_hashtags)\n",
        "    has_user_mentions_array = np.full((len(embeddings_array), 1), has_user_mentions)\n",
        "\n",
        "    # Concatenate embeddings with additional features along axis 1 (horizontally)\n",
        "    combined_features = np.concatenate([embeddings_array, tweet_length_array, has_hashtags_array, has_user_mentions_array], axis=1)\n",
        "\n",
        "    return combined_features"
      ],
      "metadata": {
        "id": "_9MuUcAcp5UY"
      },
      "execution_count": null,
      "outputs": []
    },
    {
      "cell_type": "code",
      "source": [
        "import numpy as np\n",
        "\n",
        "def combine_features(embeddings, tweet_length, has_hashtags, has_user_mentions):\n",
        "    # Convert embeddings to numpy array and ensure it's 2D\n",
        "    embeddings_array = np.array(embeddings)\n",
        "    if embeddings_array.ndim == 1:  # Check if it's 1-dimensional\n",
        "        embeddings_array = embeddings_array.reshape(1, -1)  # Reshape to 2D\n",
        "\n",
        "    # Reshape additional features to match the number of embeddings\n",
        "    tweet_length_array = np.full((embeddings_array.shape[0], 1), tweet_length)\n",
        "    has_hashtags_array = np.full((embeddings_array.shape[0], 1), has_hashtags)\n",
        "    has_user_mentions_array"
      ],
      "metadata": {
        "id": "33ZNnRq9BCAj"
      },
      "execution_count": null,
      "outputs": []
    },
    {
      "cell_type": "code",
      "source": [
        "import numpy as np\n",
        "\n",
        "def combine_features(embeddings, tweet_length, has_hashtags, has_user_mentions):\n",
        "    # Convert embeddings to numpy array and ensure it's 2D\n",
        "    embeddings_array = np.array(embeddings)\n",
        "    if embeddings_array.ndim == 1:  # Check if it's 1-dimensional\n",
        "        embeddings_array = embeddings_array.reshape(1, -1)  # Reshape to 2D\n",
        "\n",
        "    # Reshape additional features to match the number of embeddings\n",
        "    tweet_length_array = np.full((embeddings_array.shape[0], 1), tweet_length)\n",
        "    has_hashtags_array = np.full((embeddings_array.shape[0], 1), has_hashtags)\n",
        "    has_user_mentions_array = np.full((embeddings_array.shape[0], 1), has_user_mentions) # Fix: assign the array to has_user_mentions_array\n",
        "\n",
        "    # Concatenate embeddings with additional features along axis 1 (horizontally)\n",
        "    combined_features = np.concatenate([embeddings_array, tweet_length_array, has_hashtags_array, has_user_mentions_array], axis=1)\n",
        "\n",
        "    return combined_features\n",
        "\n",
        "# Assuming you have the necessary columns 'embeddings', 'tweet_length', 'has_hashtags', 'has_user_mentions' in your DataFrame\n",
        "# Apply the function to create the 'combined_features' column\n",
        "df['combined_features'] = df.apply(lambda row: combine_features(row['embeddings'], row['tweet_length'], row['has_hashtags'], row['has_user_mentions']), axis=1)\n",
        "\n",
        "# Now you can check the structure of the combined_features column\n",
        "print(df['combined_features'].apply(lambda x: len(x)).value_counts())"
      ],
      "metadata": {
        "colab": {
          "base_uri": "https://localhost:8080/"
        },
        "id": "_njGzJ0_BVMP",
        "outputId": "bacd8231-8556-4b27-f956-b46f74afc2a4"
      },
      "execution_count": null,
      "outputs": [
        {
          "output_type": "stream",
          "name": "stdout",
          "text": [
            "combined_features\n",
            "1    7613\n",
            "Name: count, dtype: int64\n"
          ]
        }
      ]
    },
    {
      "cell_type": "code",
      "source": [
        "# Check the structure of combined_features column\n",
        "print(df['combined_features'].apply(lambda x: len(x)).value_counts())"
      ],
      "metadata": {
        "id": "UqYMid_SqEsK",
        "colab": {
          "base_uri": "https://localhost:8080/"
        },
        "outputId": "c448bb1e-b38e-46a9-a88a-cf1a978b64d3"
      },
      "execution_count": null,
      "outputs": [
        {
          "output_type": "stream",
          "name": "stdout",
          "text": [
            "combined_features\n",
            "1    7613\n",
            "Name: count, dtype: int64\n"
          ]
        }
      ]
    },
    {
      "cell_type": "markdown",
      "source": [
        "# Here we have combined the features like embeddings, tweet length and hashtags and it is showing the total numbers of availability of these things"
      ],
      "metadata": {
        "id": "YlQN0eZvtLHB"
      }
    },
    {
      "cell_type": "markdown",
      "source": [
        "# 6. Insights from Extracted Features\n",
        "Word Frequencies and TF-IDF: Identify the most important words contributing to disaster classification. Words with high TF-IDF scores often signify relevance to the topic.\n",
        "Sentiment Analysis: Helps to assess whether disaster tweets generally exhibit certain sentiments (e.g., negative polarity for disasters).\n",
        "Word Embeddings: Capture semantic similarity between words (e.g., \"flood\" and \"hurricane\" may have similar vector representations).\n",
        "Additional Features: Tweet length, hashtags, and mentions provide auxiliary signals to enhance the model's ability to classify tweets."
      ],
      "metadata": {
        "id": "_3p9IMXks5z7"
      }
    },
    {
      "cell_type": "markdown",
      "source": [
        "# Logistic Regression"
      ],
      "metadata": {
        "id": "CTtFEgP_thyx"
      }
    },
    {
      "cell_type": "code",
      "source": [
        "#from tensorflow.keras.preprocessing.sequence import pad_sequences\n",
        "from sklearn.linear_model import LogisticRegression\n",
        "from sklearn.model_selection import train_test_split\n",
        "from sklearn.metrics import accuracy_score\n",
        "from sklearn.preprocessing import StandardScaler"
      ],
      "metadata": {
        "id": "HVHjgczGqFJC"
      },
      "execution_count": null,
      "outputs": []
    },
    {
      "cell_type": "code",
      "source": [
        "X = df[['word count', 'character count', 'average word length', 'unique word count','stopword count', 'url count', 'mention count', 'hashtag count','stopword ratio', 'punctuation count', 'location_numeric','polarity', 'subjectivity', 'tweet_length', 'has_hashtags', 'has_user_mentions']]\n",
        "y = df['target']"
      ],
      "metadata": {
        "id": "jNs9U3rltog9"
      },
      "execution_count": null,
      "outputs": []
    },
    {
      "cell_type": "code",
      "source": [
        "X_train, X_test, y_train, y_test = train_test_split(X, y, test_size=0.2, random_state=42)"
      ],
      "metadata": {
        "id": "Srlm3a63tvZR"
      },
      "execution_count": null,
      "outputs": []
    },
    {
      "cell_type": "code",
      "source": [
        "# Initialize and train a logistic regression classifier\n",
        "lrn = LogisticRegression()\n",
        "lrn.fit(X_train, y_train)"
      ],
      "metadata": {
        "colab": {
          "base_uri": "https://localhost:8080/",
          "height": 80
        },
        "id": "dcc_LoV3t2YI",
        "outputId": "5e5bf247-a553-4d38-f86d-cb2707c42244"
      },
      "execution_count": null,
      "outputs": [
        {
          "output_type": "execute_result",
          "data": {
            "text/plain": [
              "LogisticRegression()"
            ],
            "text/html": [
              "<style>#sk-container-id-1 {\n",
              "  /* Definition of color scheme common for light and dark mode */\n",
              "  --sklearn-color-text: black;\n",
              "  --sklearn-color-line: gray;\n",
              "  /* Definition of color scheme for unfitted estimators */\n",
              "  --sklearn-color-unfitted-level-0: #fff5e6;\n",
              "  --sklearn-color-unfitted-level-1: #f6e4d2;\n",
              "  --sklearn-color-unfitted-level-2: #ffe0b3;\n",
              "  --sklearn-color-unfitted-level-3: chocolate;\n",
              "  /* Definition of color scheme for fitted estimators */\n",
              "  --sklearn-color-fitted-level-0: #f0f8ff;\n",
              "  --sklearn-color-fitted-level-1: #d4ebff;\n",
              "  --sklearn-color-fitted-level-2: #b3dbfd;\n",
              "  --sklearn-color-fitted-level-3: cornflowerblue;\n",
              "\n",
              "  /* Specific color for light theme */\n",
              "  --sklearn-color-text-on-default-background: var(--sg-text-color, var(--theme-code-foreground, var(--jp-content-font-color1, black)));\n",
              "  --sklearn-color-background: var(--sg-background-color, var(--theme-background, var(--jp-layout-color0, white)));\n",
              "  --sklearn-color-border-box: var(--sg-text-color, var(--theme-code-foreground, var(--jp-content-font-color1, black)));\n",
              "  --sklearn-color-icon: #696969;\n",
              "\n",
              "  @media (prefers-color-scheme: dark) {\n",
              "    /* Redefinition of color scheme for dark theme */\n",
              "    --sklearn-color-text-on-default-background: var(--sg-text-color, var(--theme-code-foreground, var(--jp-content-font-color1, white)));\n",
              "    --sklearn-color-background: var(--sg-background-color, var(--theme-background, var(--jp-layout-color0, #111)));\n",
              "    --sklearn-color-border-box: var(--sg-text-color, var(--theme-code-foreground, var(--jp-content-font-color1, white)));\n",
              "    --sklearn-color-icon: #878787;\n",
              "  }\n",
              "}\n",
              "\n",
              "#sk-container-id-1 {\n",
              "  color: var(--sklearn-color-text);\n",
              "}\n",
              "\n",
              "#sk-container-id-1 pre {\n",
              "  padding: 0;\n",
              "}\n",
              "\n",
              "#sk-container-id-1 input.sk-hidden--visually {\n",
              "  border: 0;\n",
              "  clip: rect(1px 1px 1px 1px);\n",
              "  clip: rect(1px, 1px, 1px, 1px);\n",
              "  height: 1px;\n",
              "  margin: -1px;\n",
              "  overflow: hidden;\n",
              "  padding: 0;\n",
              "  position: absolute;\n",
              "  width: 1px;\n",
              "}\n",
              "\n",
              "#sk-container-id-1 div.sk-dashed-wrapped {\n",
              "  border: 1px dashed var(--sklearn-color-line);\n",
              "  margin: 0 0.4em 0.5em 0.4em;\n",
              "  box-sizing: border-box;\n",
              "  padding-bottom: 0.4em;\n",
              "  background-color: var(--sklearn-color-background);\n",
              "}\n",
              "\n",
              "#sk-container-id-1 div.sk-container {\n",
              "  /* jupyter's `normalize.less` sets `[hidden] { display: none; }`\n",
              "     but bootstrap.min.css set `[hidden] { display: none !important; }`\n",
              "     so we also need the `!important` here to be able to override the\n",
              "     default hidden behavior on the sphinx rendered scikit-learn.org.\n",
              "     See: https://github.com/scikit-learn/scikit-learn/issues/21755 */\n",
              "  display: inline-block !important;\n",
              "  position: relative;\n",
              "}\n",
              "\n",
              "#sk-container-id-1 div.sk-text-repr-fallback {\n",
              "  display: none;\n",
              "}\n",
              "\n",
              "div.sk-parallel-item,\n",
              "div.sk-serial,\n",
              "div.sk-item {\n",
              "  /* draw centered vertical line to link estimators */\n",
              "  background-image: linear-gradient(var(--sklearn-color-text-on-default-background), var(--sklearn-color-text-on-default-background));\n",
              "  background-size: 2px 100%;\n",
              "  background-repeat: no-repeat;\n",
              "  background-position: center center;\n",
              "}\n",
              "\n",
              "/* Parallel-specific style estimator block */\n",
              "\n",
              "#sk-container-id-1 div.sk-parallel-item::after {\n",
              "  content: \"\";\n",
              "  width: 100%;\n",
              "  border-bottom: 2px solid var(--sklearn-color-text-on-default-background);\n",
              "  flex-grow: 1;\n",
              "}\n",
              "\n",
              "#sk-container-id-1 div.sk-parallel {\n",
              "  display: flex;\n",
              "  align-items: stretch;\n",
              "  justify-content: center;\n",
              "  background-color: var(--sklearn-color-background);\n",
              "  position: relative;\n",
              "}\n",
              "\n",
              "#sk-container-id-1 div.sk-parallel-item {\n",
              "  display: flex;\n",
              "  flex-direction: column;\n",
              "}\n",
              "\n",
              "#sk-container-id-1 div.sk-parallel-item:first-child::after {\n",
              "  align-self: flex-end;\n",
              "  width: 50%;\n",
              "}\n",
              "\n",
              "#sk-container-id-1 div.sk-parallel-item:last-child::after {\n",
              "  align-self: flex-start;\n",
              "  width: 50%;\n",
              "}\n",
              "\n",
              "#sk-container-id-1 div.sk-parallel-item:only-child::after {\n",
              "  width: 0;\n",
              "}\n",
              "\n",
              "/* Serial-specific style estimator block */\n",
              "\n",
              "#sk-container-id-1 div.sk-serial {\n",
              "  display: flex;\n",
              "  flex-direction: column;\n",
              "  align-items: center;\n",
              "  background-color: var(--sklearn-color-background);\n",
              "  padding-right: 1em;\n",
              "  padding-left: 1em;\n",
              "}\n",
              "\n",
              "\n",
              "/* Toggleable style: style used for estimator/Pipeline/ColumnTransformer box that is\n",
              "clickable and can be expanded/collapsed.\n",
              "- Pipeline and ColumnTransformer use this feature and define the default style\n",
              "- Estimators will overwrite some part of the style using the `sk-estimator` class\n",
              "*/\n",
              "\n",
              "/* Pipeline and ColumnTransformer style (default) */\n",
              "\n",
              "#sk-container-id-1 div.sk-toggleable {\n",
              "  /* Default theme specific background. It is overwritten whether we have a\n",
              "  specific estimator or a Pipeline/ColumnTransformer */\n",
              "  background-color: var(--sklearn-color-background);\n",
              "}\n",
              "\n",
              "/* Toggleable label */\n",
              "#sk-container-id-1 label.sk-toggleable__label {\n",
              "  cursor: pointer;\n",
              "  display: block;\n",
              "  width: 100%;\n",
              "  margin-bottom: 0;\n",
              "  padding: 0.5em;\n",
              "  box-sizing: border-box;\n",
              "  text-align: center;\n",
              "}\n",
              "\n",
              "#sk-container-id-1 label.sk-toggleable__label-arrow:before {\n",
              "  /* Arrow on the left of the label */\n",
              "  content: \"▸\";\n",
              "  float: left;\n",
              "  margin-right: 0.25em;\n",
              "  color: var(--sklearn-color-icon);\n",
              "}\n",
              "\n",
              "#sk-container-id-1 label.sk-toggleable__label-arrow:hover:before {\n",
              "  color: var(--sklearn-color-text);\n",
              "}\n",
              "\n",
              "/* Toggleable content - dropdown */\n",
              "\n",
              "#sk-container-id-1 div.sk-toggleable__content {\n",
              "  max-height: 0;\n",
              "  max-width: 0;\n",
              "  overflow: hidden;\n",
              "  text-align: left;\n",
              "  /* unfitted */\n",
              "  background-color: var(--sklearn-color-unfitted-level-0);\n",
              "}\n",
              "\n",
              "#sk-container-id-1 div.sk-toggleable__content.fitted {\n",
              "  /* fitted */\n",
              "  background-color: var(--sklearn-color-fitted-level-0);\n",
              "}\n",
              "\n",
              "#sk-container-id-1 div.sk-toggleable__content pre {\n",
              "  margin: 0.2em;\n",
              "  border-radius: 0.25em;\n",
              "  color: var(--sklearn-color-text);\n",
              "  /* unfitted */\n",
              "  background-color: var(--sklearn-color-unfitted-level-0);\n",
              "}\n",
              "\n",
              "#sk-container-id-1 div.sk-toggleable__content.fitted pre {\n",
              "  /* unfitted */\n",
              "  background-color: var(--sklearn-color-fitted-level-0);\n",
              "}\n",
              "\n",
              "#sk-container-id-1 input.sk-toggleable__control:checked~div.sk-toggleable__content {\n",
              "  /* Expand drop-down */\n",
              "  max-height: 200px;\n",
              "  max-width: 100%;\n",
              "  overflow: auto;\n",
              "}\n",
              "\n",
              "#sk-container-id-1 input.sk-toggleable__control:checked~label.sk-toggleable__label-arrow:before {\n",
              "  content: \"▾\";\n",
              "}\n",
              "\n",
              "/* Pipeline/ColumnTransformer-specific style */\n",
              "\n",
              "#sk-container-id-1 div.sk-label input.sk-toggleable__control:checked~label.sk-toggleable__label {\n",
              "  color: var(--sklearn-color-text);\n",
              "  background-color: var(--sklearn-color-unfitted-level-2);\n",
              "}\n",
              "\n",
              "#sk-container-id-1 div.sk-label.fitted input.sk-toggleable__control:checked~label.sk-toggleable__label {\n",
              "  background-color: var(--sklearn-color-fitted-level-2);\n",
              "}\n",
              "\n",
              "/* Estimator-specific style */\n",
              "\n",
              "/* Colorize estimator box */\n",
              "#sk-container-id-1 div.sk-estimator input.sk-toggleable__control:checked~label.sk-toggleable__label {\n",
              "  /* unfitted */\n",
              "  background-color: var(--sklearn-color-unfitted-level-2);\n",
              "}\n",
              "\n",
              "#sk-container-id-1 div.sk-estimator.fitted input.sk-toggleable__control:checked~label.sk-toggleable__label {\n",
              "  /* fitted */\n",
              "  background-color: var(--sklearn-color-fitted-level-2);\n",
              "}\n",
              "\n",
              "#sk-container-id-1 div.sk-label label.sk-toggleable__label,\n",
              "#sk-container-id-1 div.sk-label label {\n",
              "  /* The background is the default theme color */\n",
              "  color: var(--sklearn-color-text-on-default-background);\n",
              "}\n",
              "\n",
              "/* On hover, darken the color of the background */\n",
              "#sk-container-id-1 div.sk-label:hover label.sk-toggleable__label {\n",
              "  color: var(--sklearn-color-text);\n",
              "  background-color: var(--sklearn-color-unfitted-level-2);\n",
              "}\n",
              "\n",
              "/* Label box, darken color on hover, fitted */\n",
              "#sk-container-id-1 div.sk-label.fitted:hover label.sk-toggleable__label.fitted {\n",
              "  color: var(--sklearn-color-text);\n",
              "  background-color: var(--sklearn-color-fitted-level-2);\n",
              "}\n",
              "\n",
              "/* Estimator label */\n",
              "\n",
              "#sk-container-id-1 div.sk-label label {\n",
              "  font-family: monospace;\n",
              "  font-weight: bold;\n",
              "  display: inline-block;\n",
              "  line-height: 1.2em;\n",
              "}\n",
              "\n",
              "#sk-container-id-1 div.sk-label-container {\n",
              "  text-align: center;\n",
              "}\n",
              "\n",
              "/* Estimator-specific */\n",
              "#sk-container-id-1 div.sk-estimator {\n",
              "  font-family: monospace;\n",
              "  border: 1px dotted var(--sklearn-color-border-box);\n",
              "  border-radius: 0.25em;\n",
              "  box-sizing: border-box;\n",
              "  margin-bottom: 0.5em;\n",
              "  /* unfitted */\n",
              "  background-color: var(--sklearn-color-unfitted-level-0);\n",
              "}\n",
              "\n",
              "#sk-container-id-1 div.sk-estimator.fitted {\n",
              "  /* fitted */\n",
              "  background-color: var(--sklearn-color-fitted-level-0);\n",
              "}\n",
              "\n",
              "/* on hover */\n",
              "#sk-container-id-1 div.sk-estimator:hover {\n",
              "  /* unfitted */\n",
              "  background-color: var(--sklearn-color-unfitted-level-2);\n",
              "}\n",
              "\n",
              "#sk-container-id-1 div.sk-estimator.fitted:hover {\n",
              "  /* fitted */\n",
              "  background-color: var(--sklearn-color-fitted-level-2);\n",
              "}\n",
              "\n",
              "/* Specification for estimator info (e.g. \"i\" and \"?\") */\n",
              "\n",
              "/* Common style for \"i\" and \"?\" */\n",
              "\n",
              ".sk-estimator-doc-link,\n",
              "a:link.sk-estimator-doc-link,\n",
              "a:visited.sk-estimator-doc-link {\n",
              "  float: right;\n",
              "  font-size: smaller;\n",
              "  line-height: 1em;\n",
              "  font-family: monospace;\n",
              "  background-color: var(--sklearn-color-background);\n",
              "  border-radius: 1em;\n",
              "  height: 1em;\n",
              "  width: 1em;\n",
              "  text-decoration: none !important;\n",
              "  margin-left: 1ex;\n",
              "  /* unfitted */\n",
              "  border: var(--sklearn-color-unfitted-level-1) 1pt solid;\n",
              "  color: var(--sklearn-color-unfitted-level-1);\n",
              "}\n",
              "\n",
              ".sk-estimator-doc-link.fitted,\n",
              "a:link.sk-estimator-doc-link.fitted,\n",
              "a:visited.sk-estimator-doc-link.fitted {\n",
              "  /* fitted */\n",
              "  border: var(--sklearn-color-fitted-level-1) 1pt solid;\n",
              "  color: var(--sklearn-color-fitted-level-1);\n",
              "}\n",
              "\n",
              "/* On hover */\n",
              "div.sk-estimator:hover .sk-estimator-doc-link:hover,\n",
              ".sk-estimator-doc-link:hover,\n",
              "div.sk-label-container:hover .sk-estimator-doc-link:hover,\n",
              ".sk-estimator-doc-link:hover {\n",
              "  /* unfitted */\n",
              "  background-color: var(--sklearn-color-unfitted-level-3);\n",
              "  color: var(--sklearn-color-background);\n",
              "  text-decoration: none;\n",
              "}\n",
              "\n",
              "div.sk-estimator.fitted:hover .sk-estimator-doc-link.fitted:hover,\n",
              ".sk-estimator-doc-link.fitted:hover,\n",
              "div.sk-label-container:hover .sk-estimator-doc-link.fitted:hover,\n",
              ".sk-estimator-doc-link.fitted:hover {\n",
              "  /* fitted */\n",
              "  background-color: var(--sklearn-color-fitted-level-3);\n",
              "  color: var(--sklearn-color-background);\n",
              "  text-decoration: none;\n",
              "}\n",
              "\n",
              "/* Span, style for the box shown on hovering the info icon */\n",
              ".sk-estimator-doc-link span {\n",
              "  display: none;\n",
              "  z-index: 9999;\n",
              "  position: relative;\n",
              "  font-weight: normal;\n",
              "  right: .2ex;\n",
              "  padding: .5ex;\n",
              "  margin: .5ex;\n",
              "  width: min-content;\n",
              "  min-width: 20ex;\n",
              "  max-width: 50ex;\n",
              "  color: var(--sklearn-color-text);\n",
              "  box-shadow: 2pt 2pt 4pt #999;\n",
              "  /* unfitted */\n",
              "  background: var(--sklearn-color-unfitted-level-0);\n",
              "  border: .5pt solid var(--sklearn-color-unfitted-level-3);\n",
              "}\n",
              "\n",
              ".sk-estimator-doc-link.fitted span {\n",
              "  /* fitted */\n",
              "  background: var(--sklearn-color-fitted-level-0);\n",
              "  border: var(--sklearn-color-fitted-level-3);\n",
              "}\n",
              "\n",
              ".sk-estimator-doc-link:hover span {\n",
              "  display: block;\n",
              "}\n",
              "\n",
              "/* \"?\"-specific style due to the `<a>` HTML tag */\n",
              "\n",
              "#sk-container-id-1 a.estimator_doc_link {\n",
              "  float: right;\n",
              "  font-size: 1rem;\n",
              "  line-height: 1em;\n",
              "  font-family: monospace;\n",
              "  background-color: var(--sklearn-color-background);\n",
              "  border-radius: 1rem;\n",
              "  height: 1rem;\n",
              "  width: 1rem;\n",
              "  text-decoration: none;\n",
              "  /* unfitted */\n",
              "  color: var(--sklearn-color-unfitted-level-1);\n",
              "  border: var(--sklearn-color-unfitted-level-1) 1pt solid;\n",
              "}\n",
              "\n",
              "#sk-container-id-1 a.estimator_doc_link.fitted {\n",
              "  /* fitted */\n",
              "  border: var(--sklearn-color-fitted-level-1) 1pt solid;\n",
              "  color: var(--sklearn-color-fitted-level-1);\n",
              "}\n",
              "\n",
              "/* On hover */\n",
              "#sk-container-id-1 a.estimator_doc_link:hover {\n",
              "  /* unfitted */\n",
              "  background-color: var(--sklearn-color-unfitted-level-3);\n",
              "  color: var(--sklearn-color-background);\n",
              "  text-decoration: none;\n",
              "}\n",
              "\n",
              "#sk-container-id-1 a.estimator_doc_link.fitted:hover {\n",
              "  /* fitted */\n",
              "  background-color: var(--sklearn-color-fitted-level-3);\n",
              "}\n",
              "</style><div id=\"sk-container-id-1\" class=\"sk-top-container\"><div class=\"sk-text-repr-fallback\"><pre>LogisticRegression()</pre><b>In a Jupyter environment, please rerun this cell to show the HTML representation or trust the notebook. <br />On GitHub, the HTML representation is unable to render, please try loading this page with nbviewer.org.</b></div><div class=\"sk-container\" hidden><div class=\"sk-item\"><div class=\"sk-estimator fitted sk-toggleable\"><input class=\"sk-toggleable__control sk-hidden--visually\" id=\"sk-estimator-id-1\" type=\"checkbox\" checked><label for=\"sk-estimator-id-1\" class=\"sk-toggleable__label fitted sk-toggleable__label-arrow fitted\">&nbsp;&nbsp;LogisticRegression<a class=\"sk-estimator-doc-link fitted\" rel=\"noreferrer\" target=\"_blank\" href=\"https://scikit-learn.org/1.5/modules/generated/sklearn.linear_model.LogisticRegression.html\">?<span>Documentation for LogisticRegression</span></a><span class=\"sk-estimator-doc-link fitted\">i<span>Fitted</span></span></label><div class=\"sk-toggleable__content fitted\"><pre>LogisticRegression()</pre></div> </div></div></div></div>"
            ]
          },
          "metadata": {},
          "execution_count": 33
        }
      ]
    },
    {
      "cell_type": "code",
      "source": [
        "import pandas as pd\n",
        "from sklearn.impute import SimpleImputer\n",
        "from sklearn.linear_model import LogisticRegression\n",
        "from sklearn.model_selection import train_test_split\n",
        "from sklearn.metrics import accuracy_score\n",
        "from sklearn.preprocessing import StandardScaler\n",
        "# ... (your existing code to load and split data) ...\n",
        "\n",
        "# Create an imputer to replace NaN values with the mean of the column\n",
        "imputer = SimpleImputer(strategy='mean')  # You can use other strategies like 'median' or 'most_frequent'\n",
        "\n",
        "# Fit the imputer on the training data and transform both training and testing data\n",
        "X_train = imputer.fit_transform(X_train)\n",
        "X_test = imputer.transform(X_test)\n",
        "\n",
        "# Initialize and train the logistic regression classifier\n",
        "lrn = LogisticRegression()\n",
        "lrn.fit(X_train, y_train)\n",
        "\n",
        "# Evaluate the classifier\n",
        "accuracy = lrn.score(X_test, y_test)\n",
        "print(\"Accuracy:\", accuracy)"
      ],
      "metadata": {
        "colab": {
          "base_uri": "https://localhost:8080/"
        },
        "id": "IlZqmOHIB5NU",
        "outputId": "8ed8a754-4169-4fdf-b178-0aca0b4e15d6"
      },
      "execution_count": null,
      "outputs": [
        {
          "output_type": "stream",
          "name": "stdout",
          "text": [
            "Accuracy: 0.6638214051214708\n"
          ]
        }
      ]
    },
    {
      "cell_type": "code",
      "source": [
        "# Evaluate classifier\n",
        "accuracy = lrn.score(X_test, y_test)\n",
        "print(\"Accuracy:\", accuracy)"
      ],
      "metadata": {
        "colab": {
          "base_uri": "https://localhost:8080/"
        },
        "id": "OwXhNm9st4Xa",
        "outputId": "19d68a29-4954-4f41-bda7-9f71aed4a710"
      },
      "execution_count": null,
      "outputs": [
        {
          "output_type": "stream",
          "name": "stdout",
          "text": [
            "Accuracy: 0.6638214051214708\n"
          ]
        }
      ]
    },
    {
      "cell_type": "code",
      "source": [
        "# Get feature names from the vectorizer\n",
        "feature_names = tfidf_vectorizer.get_feature_names_out()\n",
        "\n",
        "# Get coefficients from the trained logistic regression model\n",
        "coefficients = lrn.coef_[0]\n",
        "\n",
        "# Sort feature coefficients\n",
        "sorted_coefficients_indices = coefficients.argsort()\n",
        "\n",
        "# Plot top N features with the highest coefficients\n",
        "top_n = min(20, len(feature_names))  # Ensure top_n does not exceed the number of features available\n",
        "top_coefficients = coefficients[sorted_coefficients_indices[-top_n:]]\n",
        "top_feature_names = [feature_names[i] for i in sorted_coefficients_indices[-top_n:]]"
      ],
      "metadata": {
        "id": "WzHfoWMpuFSw"
      },
      "execution_count": null,
      "outputs": []
    },
    {
      "cell_type": "code",
      "source": [
        "print(\"top_n:\", top_n)\n",
        "print(\"len(feature_names):\", len(feature_names))\n",
        "print(\"len(top_coefficients):\", len(top_coefficients))\n",
        "print(\"len(top_feature_names):\", len(top_feature_names))"
      ],
      "metadata": {
        "colab": {
          "base_uri": "https://localhost:8080/"
        },
        "id": "MWiJwnK6uKWP",
        "outputId": "6eb39171-4ffe-4b3e-9c77-f76ac41f20ab"
      },
      "execution_count": null,
      "outputs": [
        {
          "output_type": "stream",
          "name": "stdout",
          "text": [
            "top_n: 20\n",
            "len(feature_names): 21557\n",
            "len(top_coefficients): 16\n",
            "len(top_feature_names): 16\n"
          ]
        }
      ]
    },
    {
      "cell_type": "code",
      "source": [
        "plt.figure(figsize=(10, 6))\n",
        "plt.barh(range(len(top_coefficients)), top_coefficients,color='purple', align='center')\n",
        "plt.yticks(range(len(top_coefficients)), top_feature_names)\n",
        "plt.xlabel('Coefficient Value')\n",
        "plt.ylabel('Feature')\n",
        "plt.title('Top Features Contributing to Classification')\n",
        "plt.grid(True)\n",
        "plt.show()"
      ],
      "metadata": {
        "colab": {
          "base_uri": "https://localhost:8080/",
          "height": 569
        },
        "id": "ryLA1zsVuKsW",
        "outputId": "52ad8ba3-04d8-4b20-b325-f85f3fea746d"
      },
      "execution_count": null,
      "outputs": [
        {
          "output_type": "display_data",
          "data": {
            "text/plain": [
              "<Figure size 1000x600 with 1 Axes>"
            ],
            "image/png": "[encoded data removed]"
          },
          "metadata": {}
        }
      ]
    },
    {
      "cell_type": "markdown",
      "source": [
        "#. Insights from the Visualization:\n",
        "Feature Importance:\n",
        "\n",
        "The bar chart shows which features (e.g., words, phrases, or other predictors) most influence the classification. Larger coefficient values (positive or negative) indicate stronger contributions.\n",
        "Positive vs. Negative Contribution:\n",
        "\n",
        "Positive coefficients (right side of the chart) suggest features that increase the likelihood of a certain classification (e.g., disaster tweets).\n",
        "Negative coefficients (left side of the chart) suggest features that decrease the likelihood or contribute to the opposite class.\n",
        "Interpreting the Coefficients:\n",
        "\n",
        "Features with the highest positive coefficients are strongly associated with one class, while those with the highest negative coefficients are associated with the other class.\n",
        "This helps identify key words or factors driving the predictions.\n",
        "Model Explainability:\n",
        "\n",
        "The chart provides transparency in the model, showing how the predictions are made. This is crucial for understanding and trusting machine learning models in real-world applications.\n",
        "Actionable Insights:\n",
        "\n",
        "For tasks like sentiment analysis or disaster tweet classification, identifying top features (e.g., words like \"fire\" or \"help\") can guide data cleaning, preprocessing, and further feature engineering.\n",
        "Optimization:\n",
        "\n",
        "If certain features dominate the model, it could highlight potential overfitting or suggest where to simplify the model by removing less impactful features."
      ],
      "metadata": {
        "id": "GTl6LYIlmfH1"
      }
    },
    {
      "cell_type": "markdown",
      "source": [
        "# Random Forest Classifier"
      ],
      "metadata": {
        "id": "wvDeUpdTvTOT"
      }
    },
    {
      "cell_type": "code",
      "source": [
        "from sklearn.ensemble import RandomForestClassifier\n",
        "\n",
        "# Initialize and train a random forest classifier\n",
        "rfc = RandomForestClassifier(n_estimators=100, random_state=42)\n",
        "rfc.fit(X_train, y_train)\n",
        "\n",
        "# Evaluate classifier\n",
        "accuracy = rfc.score(X_test, y_test)\n",
        "print(\"Accuracy:\", accuracy)"
      ],
      "metadata": {
        "colab": {
          "base_uri": "https://localhost:8080/"
        },
        "id": "r1WrBg7EuLB8",
        "outputId": "4c89721f-af89-4895-efec-c6aff8deb846"
      },
      "execution_count": null,
      "outputs": [
        {
          "output_type": "stream",
          "name": "stdout",
          "text": [
            "Accuracy: 0.6940249507550886\n"
          ]
        }
      ]
    },
    {
      "cell_type": "code",
      "source": [
        "import matplotlib.pyplot as plt\n",
        "\n",
        "# Get feature importances from the trained Random Forest model\n",
        "feature_importances = rfc.feature_importances_\n",
        "\n",
        "# Sort feature importances\n",
        "sorted_indices = feature_importances.argsort()"
      ],
      "metadata": {
        "id": "mbkYkal_vaTt"
      },
      "execution_count": null,
      "outputs": []
    },
    {
      "cell_type": "code",
      "source": [
        "# Plot top N features with the highest importances\n",
        "top_n = min(20, len(feature_names))  # Ensure top_n does not exceed the number of features available\n",
        "top_feature_importances = feature_importances[sorted_indices[-top_n:]]\n",
        "top_feature_names = [feature_names[i] for i in sorted_indices[-top_n:]]\n",
        "\n",
        "print(\"top_n:\", top_n)\n",
        "print(\"len(top_feature_importances):\", len(top_feature_importances))\n",
        "print(\"len(top_feature_names):\", len(top_feature_names))\n"
      ],
      "metadata": {
        "colab": {
          "base_uri": "https://localhost:8080/"
        },
        "id": "xQ-BDXQhvavT",
        "outputId": "e801a8d5-a0ed-42b6-d0ec-505a69c25eaa"
      },
      "execution_count": null,
      "outputs": [
        {
          "output_type": "stream",
          "name": "stdout",
          "text": [
            "top_n: 20\n",
            "len(top_feature_importances): 16\n",
            "len(top_feature_names): 16\n"
          ]
        }
      ]
    },
    {
      "cell_type": "code",
      "source": [
        "plt.figure(figsize=(10, 6))\n",
        "plt.barh(range(len(top_feature_importances)), top_feature_importances, align='center', alpha=0.5, color = 'pink')\n",
        "plt.yticks(range(len(top_feature_importances)), top_feature_names)\n",
        "plt.xlabel('Feature Importance')\n",
        "plt.ylabel('Feature')\n",
        "plt.title('Top Features Importance in Random Forest Classifier')\n",
        "plt.grid(True)\n",
        "plt.show()"
      ],
      "metadata": {
        "colab": {
          "base_uri": "https://localhost:8080/",
          "height": 569
        },
        "id": "yF-iaBziCUdS",
        "outputId": "4ba09a9b-d794-4044-cf4c-75a307468597"
      },
      "execution_count": null,
      "outputs": [
        {
          "output_type": "display_data",
          "data": {
            "text/plain": [
              "<Figure size 1000x600 with 1 Axes>"
            ],
            "image/png": "[encoded data removed]"
          },
          "metadata": {}
        }
      ]
    },
    {
      "cell_type": "markdown",
      "source": [
        "# . Insights from the Visualization\n",
        "Feature Ranking:\n",
        "\n",
        "The chart ranks features based on their importance in the Random Forest model. Features higher up in the chart contribute more to the model's predictions.\n",
        "Importance Distribution:\n",
        "\n",
        "Features with the highest importance values significantly influence the model's decisions. Lower importance features contribute minimally and could potentially be dropped to simplify the model.\n",
        "Key Predictors:\n",
        "\n",
        "The visualization highlights the most impactful predictors for the classification task, such as specific words, phrases, or numerical data points.\n",
        "Interpreting Feature Importance:\n",
        "\n",
        "Random Forest calculates feature importance by evaluating how much each feature reduces impurity (e.g., Gini index or entropy) in the trees.\n",
        "Features with higher importance values have a stronger influence on splitting the data and predicting the target variable.\n",
        "Optimization Opportunities:\n",
        "\n",
        "Insights from the chart can guide feature selection. Features with very low importance might be removed to reduce computational complexity without significantly affecting the model's performance.\n",
        "Model Explainability:\n",
        "\n",
        "This plot enhances the explainability of the Random Forest model by showing which features drive predictions, which is critical for stakeholder communication and trust in the model.\n"
      ],
      "metadata": {
        "id": "lDjHj9tLnGXj"
      }
    },
    {
      "cell_type": "markdown",
      "source": [
        "# Neural Networks"
      ],
      "metadata": {
        "id": "U8Z8tEqoCqaa"
      }
    },
    {
      "cell_type": "code",
      "source": [
        "import numpy as np\n",
        "from sklearn.model_selection import train_test_split\n",
        "from sklearn.feature_extraction.text import CountVectorizer\n",
        "from sklearn.preprocessing import StandardScaler\n",
        "from tensorflow.keras.models import Sequential\n",
        "from tensorflow.keras.layers import Dense, Dropout"
      ],
      "metadata": {
        "id": "Y672IKMsCfoe"
      },
      "execution_count": null,
      "outputs": []
    },
    {
      "cell_type": "code",
      "source": [
        "X = df['text']\n",
        "y = df['target']"
      ],
      "metadata": {
        "id": "jG4Qm4YSCf9Q"
      },
      "execution_count": null,
      "outputs": []
    },
    {
      "cell_type": "code",
      "source": [
        "# Split data into training and test sets\n",
        "X_train, X_test, y_train, y_test = train_test_split(X, y, test_size=0.2, random_state=42)"
      ],
      "metadata": {
        "id": "Dc1RDrYYCgYK"
      },
      "execution_count": null,
      "outputs": []
    },
    {
      "cell_type": "code",
      "source": [
        "# Vectorize text data (convert text into numerical features)\n",
        "vectorizer = CountVectorizer(max_features=1000)  # You can adjust max_features as needed\n",
        "X_train_vec = vectorizer.fit_transform(X_train)\n",
        "X_test_vec = vectorizer.transform(X_test)"
      ],
      "metadata": {
        "id": "rLe_uJkrChav"
      },
      "execution_count": null,
      "outputs": []
    },
    {
      "cell_type": "code",
      "source": [
        "# Convert sparse matrix to NumPy array\n",
        "X_train_vec = X_train_vec.toarray()\n",
        "X_test_vec = X_test_vec.toarray()"
      ],
      "metadata": {
        "id": "rlTWjzF8Ch2E"
      },
      "execution_count": null,
      "outputs": []
    },
    {
      "cell_type": "code",
      "source": [
        "# Define a sequential model\n",
        "model = Sequential()"
      ],
      "metadata": {
        "id": "QvjFvTR9CiOh"
      },
      "execution_count": null,
      "outputs": []
    },
    {
      "cell_type": "code",
      "source": [
        "# Add layers to the model\n",
        "model.add(Dense(128, activation='relu', input_shape=(X_train_vec.shape[1],)))  # Input layer\n",
        "model.add(Dropout(0.5))  # Dropout layer to prevent overfitting\n",
        "model.add(Dense(64, activation='relu'))  # Hidden layer\n",
        "model.add(Dense(1, activation='sigmoid'))  # Output layer (binary classification)"
      ],
      "metadata": {
        "id": "Mmsvis-NCjCk"
      },
      "execution_count": null,
      "outputs": []
    },
    {
      "cell_type": "code",
      "source": [
        "# Compile the model\n",
        "model.compile(optimizer='adam', loss='binary_crossentropy', metrics=['accuracy'])"
      ],
      "metadata": {
        "id": "SbqHy2K8CjfM"
      },
      "execution_count": null,
      "outputs": []
    },
    {
      "cell_type": "code",
      "source": [
        "# Train the model using the train-test split approach\n",
        "history = model.fit(X_train_vec, y_train, epochs=30, batch_size=32, validation_split=0.1, verbose=1)"
      ],
      "metadata": {
        "colab": {
          "base_uri": "https://localhost:8080/"
        },
        "id": "URxASYKaCkDZ",
        "outputId": "dc98cef9-5ed1-4031-c076-eb56fca76ed0"
      },
      "execution_count": null,
      "outputs": [
        {
          "output_type": "stream",
          "name": "stdout",
          "text": [
            "Epoch 1/30\n",
            "\u001b[1m172/172\u001b[0m \u001b[32m━━━━━━━━━━━━━━━━━━━━\u001b[0m\u001b[37m\u001b[0m \u001b[1m7s\u001b[0m 20ms/step - accuracy: 0.6147 - loss: 0.6384 - val_accuracy: 0.7915 - val_loss: 0.4636\n",
            "Epoch 2/30\n",
            "\u001b[1m172/172\u001b[0m \u001b[32m━━━━━━━━━━━━━━━━━━━━\u001b[0m\u001b[37m\u001b[0m \u001b[1m5s\u001b[0m 2ms/step - accuracy: 0.8120 - loss: 0.4142 - val_accuracy: 0.8013 - val_loss: 0.4485\n",
            "Epoch 3/30\n",
            "\u001b[1m172/172\u001b[0m \u001b[32m━━━━━━━━━━━━━━━━━━━━\u001b[0m\u001b[37m\u001b[0m \u001b[1m0s\u001b[0m 3ms/step - accuracy: 0.8324 - loss: 0.3765 - val_accuracy: 0.7980 - val_loss: 0.4606\n",
            "Epoch 4/30\n",
            "\u001b[1m172/172\u001b[0m \u001b[32m━━━━━━━━━━━━━━━━━━━━\u001b[0m\u001b[37m\u001b[0m \u001b[1m0s\u001b[0m 3ms/step - accuracy: 0.8746 - loss: 0.3035 - val_accuracy: 0.7898 - val_loss: 0.4557\n",
            "Epoch 5/30\n",
            "\u001b[1m172/172\u001b[0m \u001b[32m━━━━━━━━━━━━━━━━━━━━\u001b[0m\u001b[37m\u001b[0m \u001b[1m0s\u001b[0m 2ms/step - accuracy: 0.8847 - loss: 0.2767 - val_accuracy: 0.8030 - val_loss: 0.4891\n",
            "Epoch 6/30\n",
            "\u001b[1m172/172\u001b[0m \u001b[32m━━━━━━━━━━━━━━━━━━━━\u001b[0m\u001b[37m\u001b[0m \u001b[1m1s\u001b[0m 2ms/step - accuracy: 0.9078 - loss: 0.2273 - val_accuracy: 0.7915 - val_loss: 0.5282\n",
            "Epoch 7/30\n",
            "\u001b[1m172/172\u001b[0m \u001b[32m━━━━━━━━━━━━━━━━━━━━\u001b[0m\u001b[37m\u001b[0m \u001b[1m1s\u001b[0m 2ms/step - accuracy: 0.9239 - loss: 0.2004 - val_accuracy: 0.7915 - val_loss: 0.5687\n",
            "Epoch 8/30\n",
            "\u001b[1m172/172\u001b[0m \u001b[32m━━━━━━━━━━━━━━━━━━━━\u001b[0m\u001b[37m\u001b[0m \u001b[1m1s\u001b[0m 2ms/step - accuracy: 0.9386 - loss: 0.1647 - val_accuracy: 0.7915 - val_loss: 0.6243\n",
            "Epoch 9/30\n",
            "\u001b[1m172/172\u001b[0m \u001b[32m━━━━━━━━━━━━━━━━━━━━\u001b[0m\u001b[37m\u001b[0m \u001b[1m0s\u001b[0m 2ms/step - accuracy: 0.9453 - loss: 0.1510 - val_accuracy: 0.7898 - val_loss: 0.6515\n",
            "Epoch 10/30\n",
            "\u001b[1m172/172\u001b[0m \u001b[32m━━━━━━━━━━━━━━━━━━━━\u001b[0m\u001b[37m\u001b[0m \u001b[1m1s\u001b[0m 3ms/step - accuracy: 0.9459 - loss: 0.1539 - val_accuracy: 0.7898 - val_loss: 0.6851\n",
            "Epoch 11/30\n",
            "\u001b[1m172/172\u001b[0m \u001b[32m━━━━━━━━━━━━━━━━━━━━\u001b[0m\u001b[37m\u001b[0m \u001b[1m0s\u001b[0m 2ms/step - accuracy: 0.9471 - loss: 0.1379 - val_accuracy: 0.7800 - val_loss: 0.6949\n",
            "Epoch 12/30\n",
            "\u001b[1m172/172\u001b[0m \u001b[32m━━━━━━━━━━━━━━━━━━━━\u001b[0m\u001b[37m\u001b[0m \u001b[1m1s\u001b[0m 2ms/step - accuracy: 0.9554 - loss: 0.1224 - val_accuracy: 0.7816 - val_loss: 0.7595\n",
            "Epoch 13/30\n",
            "\u001b[1m172/172\u001b[0m \u001b[32m━━━━━━━━━━━━━━━━━━━━\u001b[0m\u001b[37m\u001b[0m \u001b[1m1s\u001b[0m 2ms/step - accuracy: 0.9613 - loss: 0.1074 - val_accuracy: 0.7783 - val_loss: 0.7574\n",
            "Epoch 14/30\n",
            "\u001b[1m172/172\u001b[0m \u001b[32m━━━━━━━━━━━━━━━━━━━━\u001b[0m\u001b[37m\u001b[0m \u001b[1m1s\u001b[0m 3ms/step - accuracy: 0.9594 - loss: 0.1076 - val_accuracy: 0.7668 - val_loss: 0.8271\n",
            "Epoch 15/30\n",
            "\u001b[1m172/172\u001b[0m \u001b[32m━━━━━━━━━━━━━━━━━━━━\u001b[0m\u001b[37m\u001b[0m \u001b[1m1s\u001b[0m 3ms/step - accuracy: 0.9652 - loss: 0.0952 - val_accuracy: 0.7668 - val_loss: 0.8408\n",
            "Epoch 16/30\n",
            "\u001b[1m172/172\u001b[0m \u001b[32m━━━━━━━━━━━━━━━━━━━━\u001b[0m\u001b[37m\u001b[0m \u001b[1m2s\u001b[0m 9ms/step - accuracy: 0.9634 - loss: 0.0973 - val_accuracy: 0.7865 - val_loss: 0.8417\n",
            "Epoch 17/30\n",
            "\u001b[1m172/172\u001b[0m \u001b[32m━━━━━━━━━━━━━━━━━━━━\u001b[0m\u001b[37m\u001b[0m \u001b[1m1s\u001b[0m 4ms/step - accuracy: 0.9698 - loss: 0.0842 - val_accuracy: 0.7816 - val_loss: 0.8854\n",
            "Epoch 18/30\n",
            "\u001b[1m172/172\u001b[0m \u001b[32m━━━━━━━━━━━━━━━━━━━━\u001b[0m\u001b[37m\u001b[0m \u001b[1m1s\u001b[0m 3ms/step - accuracy: 0.9662 - loss: 0.0909 - val_accuracy: 0.7750 - val_loss: 0.9304\n",
            "Epoch 19/30\n",
            "\u001b[1m172/172\u001b[0m \u001b[32m━━━━━━━━━━━━━━━━━━━━\u001b[0m\u001b[37m\u001b[0m \u001b[1m1s\u001b[0m 3ms/step - accuracy: 0.9744 - loss: 0.0749 - val_accuracy: 0.7718 - val_loss: 0.9520\n",
            "Epoch 20/30\n",
            "\u001b[1m172/172\u001b[0m \u001b[32m━━━━━━━━━━━━━━━━━━━━\u001b[0m\u001b[37m\u001b[0m \u001b[1m0s\u001b[0m 2ms/step - accuracy: 0.9673 - loss: 0.0827 - val_accuracy: 0.7701 - val_loss: 0.9796\n",
            "Epoch 21/30\n",
            "\u001b[1m172/172\u001b[0m \u001b[32m━━━━━━━━━━━━━━━━━━━━\u001b[0m\u001b[37m\u001b[0m \u001b[1m0s\u001b[0m 3ms/step - accuracy: 0.9718 - loss: 0.0739 - val_accuracy: 0.7734 - val_loss: 1.0011\n",
            "Epoch 22/30\n",
            "\u001b[1m172/172\u001b[0m \u001b[32m━━━━━━━━━━━━━━━━━━━━\u001b[0m\u001b[37m\u001b[0m \u001b[1m0s\u001b[0m 2ms/step - accuracy: 0.9673 - loss: 0.0809 - val_accuracy: 0.7750 - val_loss: 0.9998\n",
            "Epoch 23/30\n",
            "\u001b[1m172/172\u001b[0m \u001b[32m━━━━━━━━━━━━━━━━━━━━\u001b[0m\u001b[37m\u001b[0m \u001b[1m0s\u001b[0m 3ms/step - accuracy: 0.9698 - loss: 0.0764 - val_accuracy: 0.7750 - val_loss: 1.0849\n",
            "Epoch 24/30\n",
            "\u001b[1m172/172\u001b[0m \u001b[32m━━━━━━━━━━━━━━━━━━━━\u001b[0m\u001b[37m\u001b[0m \u001b[1m1s\u001b[0m 2ms/step - accuracy: 0.9730 - loss: 0.0729 - val_accuracy: 0.7652 - val_loss: 1.0632\n",
            "Epoch 25/30\n",
            "\u001b[1m172/172\u001b[0m \u001b[32m━━━━━━━━━━━━━━━━━━━━\u001b[0m\u001b[37m\u001b[0m \u001b[1m0s\u001b[0m 3ms/step - accuracy: 0.9790 - loss: 0.0586 - val_accuracy: 0.7750 - val_loss: 1.0867\n",
            "Epoch 26/30\n",
            "\u001b[1m172/172\u001b[0m \u001b[32m━━━━━━━━━━━━━━━━━━━━\u001b[0m\u001b[37m\u001b[0m \u001b[1m1s\u001b[0m 2ms/step - accuracy: 0.9715 - loss: 0.0732 - val_accuracy: 0.7865 - val_loss: 1.0967\n",
            "Epoch 27/30\n",
            "\u001b[1m172/172\u001b[0m \u001b[32m━━━━━━━━━━━━━━━━━━━━\u001b[0m\u001b[37m\u001b[0m \u001b[1m1s\u001b[0m 3ms/step - accuracy: 0.9766 - loss: 0.0595 - val_accuracy: 0.7783 - val_loss: 1.1143\n",
            "Epoch 28/30\n",
            "\u001b[1m172/172\u001b[0m \u001b[32m━━━━━━━━━━━━━━━━━━━━\u001b[0m\u001b[37m\u001b[0m \u001b[1m1s\u001b[0m 3ms/step - accuracy: 0.9788 - loss: 0.0536 - val_accuracy: 0.7882 - val_loss: 1.1685\n",
            "Epoch 29/30\n",
            "\u001b[1m172/172\u001b[0m \u001b[32m━━━━━━━━━━━━━━━━━━━━\u001b[0m\u001b[37m\u001b[0m \u001b[1m0s\u001b[0m 2ms/step - accuracy: 0.9753 - loss: 0.0618 - val_accuracy: 0.7734 - val_loss: 1.1534\n",
            "Epoch 30/30\n",
            "\u001b[1m172/172\u001b[0m \u001b[32m━━━━━━━━━━━━━━━━━━━━\u001b[0m\u001b[37m\u001b[0m \u001b[1m0s\u001b[0m 3ms/step - accuracy: 0.9752 - loss: 0.0606 - val_accuracy: 0.7734 - val_loss: 1.1763\n"
          ]
        }
      ]
    },
    {
      "cell_type": "code",
      "source": [
        "# Evaluate the model on test data\n",
        "loss, accuracy = model.evaluate(X_test_vec, y_test)\n",
        "print(f'Test Loss: {loss}')\n",
        "print(f'Test Accuracy: {accuracy}')"
      ],
      "metadata": {
        "colab": {
          "base_uri": "https://localhost:8080/"
        },
        "id": "pC8D3jPtDWN6",
        "outputId": "bf76f8bf-f115-4c49-d0ee-3af4a7989fdc"
      },
      "execution_count": null,
      "outputs": [
        {
          "output_type": "stream",
          "name": "stdout",
          "text": [
            "\u001b[1m48/48\u001b[0m \u001b[32m━━━━━━━━━━━━━━━━━━━━\u001b[0m\u001b[37m\u001b[0m \u001b[1m0s\u001b[0m 5ms/step - accuracy: 0.7820 - loss: 1.3556\n",
            "Test Loss: 1.247562050819397\n",
            "Test Accuracy: 0.7866053581237793\n"
          ]
        }
      ]
    },
    {
      "cell_type": "markdown",
      "source": [
        "# ● Train each model using the training data and evaluate their performance using cross-validation techniques\n",
        "Defining Text vectorization and Model pipelines\n",
        "\n",
        "Train and Evaluate models using Cross validation"
      ],
      "metadata": {
        "id": "4DI7l5cCDau1"
      }
    },
    {
      "cell_type": "code",
      "source": [
        "import numpy as np\n",
        "from sklearn.model_selection import cross_val_score, KFold\n",
        "from sklearn.pipeline import make_pipeline\n",
        "from sklearn.feature_extraction.text import CountVectorizer\n",
        "from sklearn.preprocessing import MaxAbsScaler\n",
        "from sklearn.linear_model import LogisticRegression\n",
        "from sklearn.svm import SVC\n",
        "from sklearn.ensemble import RandomForestClassifier\n",
        "from sklearn.neural_network import MLPClassifier"
      ],
      "metadata": {
        "id": "gUtlxTT1Dfa4"
      },
      "execution_count": null,
      "outputs": []
    },
    {
      "cell_type": "code",
      "source": [
        "# Define text vectorization\n",
        "vectorizer = CountVectorizer(max_features=1000)\n",
        "\n",
        "# Define models\n",
        "models = {\n",
        "    'Logistic Regression': LogisticRegression(),\n",
        "    'Support Vector Machine': SVC(),\n",
        "    'Random Forest': RandomForestClassifier(),\n",
        "    'Multi-layer Perceptron': MLPClassifier()\n",
        "}\n",
        "\n",
        "# Define pipelines with MaxAbsScaler (to scale sparse input without centering)\n",
        "pipelines = {\n",
        "    name: make_pipeline(vectorizer, MaxAbsScaler(), model)\n",
        "    for name, model in models.items()\n",
        "}\n"
      ],
      "metadata": {
        "id": "MTf6bNStDpew"
      },
      "execution_count": null,
      "outputs": []
    },
    {
      "cell_type": "code",
      "source": [
        "# Prepare text data\n",
        "X_text = df['text']\n",
        "y = df['target']\n",
        "\n",
        "# Perform cross-validation for each model\n",
        "for name, pipeline in pipelines.items():\n",
        "    print(f\"Training and evaluating {name}...\")\n",
        "    scores = cross_val_score(pipeline, X_text, y, cv=5, scoring='accuracy')  # 5-fold cross-validation\n",
        "    print(f\"Cross-validation scores: {scores}\")\n",
        "    print(f\"Mean accuracy: {np.mean(scores):.4f}\\n\")"
      ],
      "metadata": {
        "colab": {
          "base_uri": "https://localhost:8080/"
        },
        "id": "sfhTy4EWDviN",
        "outputId": "4c78af10-4df6-425c-9e8c-4c30c6932aef"
      },
      "execution_count": null,
      "outputs": [
        {
          "output_type": "stream",
          "name": "stdout",
          "text": [
            "Training and evaluating Logistic Regression...\n",
            "Cross-validation scores: [0.68023638 0.58568615 0.64215364 0.63074901 0.73193167]\n",
            "Mean accuracy: 0.6542\n",
            "\n",
            "Training and evaluating Support Vector Machine...\n",
            "Cross-validation scores: [0.69599475 0.60013132 0.66185161 0.63272011 0.73718791]\n",
            "Mean accuracy: 0.6656\n",
            "\n",
            "Training and evaluating Random Forest...\n",
            "Cross-validation scores: [0.71700591 0.63690085 0.65856861 0.69973719 0.73521682]\n",
            "Mean accuracy: 0.6895\n",
            "\n",
            "Training and evaluating Multi-layer Perceptron...\n",
            "Cross-validation scores: [0.6671044  0.54891661 0.60341431 0.59592641 0.67279895]\n",
            "Mean accuracy: 0.6176\n",
            "\n"
          ]
        }
      ]
    },
    {
      "cell_type": "code",
      "source": [
        "# Define hyperparameter grids for each model with correct step names\n",
        "param_grids = {\n",
        "    'Logistic Regression': {\n",
        "        'logisticregression__C': [0.1, 1.0, 10.0]\n",
        "    },\n",
        "    'Support Vector Machine': {\n",
        "        'svc__C': [0.1, 1.0, 10.0],\n",
        "        'svc__gamma': ['scale', 'auto']\n",
        "    },\n",
        "    'Random Forest': {\n",
        "        'randomforestclassifier__n_estimators': [100, 200, 300],\n",
        "        'randomforestclassifier__max_depth': [None, 10, 20]\n",
        "    },\n",
        "    'Multi-layer Perceptron': {\n",
        "        'mlpclassifier__hidden_layer_sizes': [(100,), (200,), (300,)]\n",
        "    }\n",
        "}"
      ],
      "metadata": {
        "id": "KCEZz-yUD1Ca"
      },
      "execution_count": null,
      "outputs": []
    },
    {
      "cell_type": "code",
      "source": [
        "from sklearn.model_selection import train_test_split, GridSearchCV, RandomizedSearchCV\n",
        "# Perform hyperparameter optimization for each model using GridSearchCV\n",
        "for name, pipeline in pipelines.items():\n",
        "    param_grid = param_grids[name]\n",
        "\n",
        "    print(f\"Optimizing hyperparameters for {name}...\")\n",
        "    search = GridSearchCV(pipeline, param_grid, cv=5, scoring='accuracy', verbose=1)\n",
        "    search.fit(X_train, y_train)\n",
        "\n",
        "    print(\"Best parameters:\", search.best_params_)\n",
        "    print(\"Best cross-validation accuracy: {:.4f}\".format(search.best_score_))\n",
        "\n",
        "    # Evaluate the best model on test data\n",
        "    best_model = search.best_estimator_\n",
        "    test_accuracy = best_model.score(X_test, y_test)\n",
        "    print(\"Test accuracy: {:.4f}\\n\".format(test_accuracy))"
      ],
      "metadata": {
        "colab": {
          "base_uri": "https://localhost:8080/"
        },
        "id": "e1eDCzEXD1Vx",
        "outputId": "738a7fed-57a2-44c9-9e61-a950b56fc1cc"
      },
      "execution_count": null,
      "outputs": [
        {
          "output_type": "stream",
          "name": "stdout",
          "text": [
            "Optimizing hyperparameters for Logistic Regression...\n",
            "Fitting 5 folds for each of 3 candidates, totalling 15 fits\n",
            "Best parameters: {'logisticregression__C': 1.0}\n",
            "Best cross-validation accuracy: 0.7915\n",
            "Test accuracy: 0.7886\n",
            "\n",
            "Optimizing hyperparameters for Support Vector Machine...\n",
            "Fitting 5 folds for each of 6 candidates, totalling 30 fits\n",
            "Best parameters: {'svc__C': 1.0, 'svc__gamma': 'scale'}\n",
            "Best cross-validation accuracy: 0.7954\n",
            "Test accuracy: 0.7912\n",
            "\n",
            "Optimizing hyperparameters for Random Forest...\n",
            "Fitting 5 folds for each of 9 candidates, totalling 45 fits\n",
            "Best parameters: {'randomforestclassifier__max_depth': None, 'randomforestclassifier__n_estimators': 200}\n",
            "Best cross-validation accuracy: 0.7744\n",
            "Test accuracy: 0.7840\n",
            "\n",
            "Optimizing hyperparameters for Multi-layer Perceptron...\n",
            "Fitting 5 folds for each of 3 candidates, totalling 15 fits\n",
            "Best parameters: {'mlpclassifier__hidden_layer_sizes': (200,)}\n",
            "Best cross-validation accuracy: 0.7655\n",
            "Test accuracy: 0.7774\n",
            "\n"
          ]
        }
      ]
    },
    {
      "cell_type": "code",
      "source": [
        "# Initialize lists to store model names and their corresponding test accuracies\n",
        "model_names = []\n",
        "test_accuracies = []\n",
        "\n",
        "# Perform hyperparameter optimization for each model using GridSearchCV\n",
        "for name, pipeline in pipelines.items():\n",
        "    param_grid = param_grids[name]\n",
        "\n",
        "    print(f\"Optimizing hyperparameters for {name}...\")\n",
        "    search = GridSearchCV(pipeline, param_grid, cv=5, scoring='accuracy', verbose=1)\n",
        "    search.fit(X_train, y_train)\n",
        "\n",
        "    print(\"Best parameters:\", search.best_params_)\n",
        "    print(\"Best cross-validation accuracy: {:.4f}\".format(search.best_score_))\n",
        "\n",
        "    # Evaluate the best model on test data\n",
        "    best_model = search.best_estimator_\n",
        "    test_accuracy = best_model.score(X_test, y_test)\n",
        "    print(\"Test accuracy: {:.4f}\\n\".format(test_accuracy))\n",
        "\n",
        "    # Append model name and test accuracy to lists\n",
        "    model_names.append(name)\n",
        "    test_accuracies.append(test_accuracy)\n"
      ],
      "metadata": {
        "colab": {
          "base_uri": "https://localhost:8080/"
        },
        "id": "3YMFAVrCD1_J",
        "outputId": "918813e4-bba3-4d2c-c985-8a7ce4f7aee8"
      },
      "execution_count": null,
      "outputs": [
        {
          "output_type": "stream",
          "name": "stdout",
          "text": [
            "Optimizing hyperparameters for Logistic Regression...\n",
            "Fitting 5 folds for each of 3 candidates, totalling 15 fits\n",
            "Best parameters: {'logisticregression__C': 1.0}\n",
            "Best cross-validation accuracy: 0.7915\n",
            "Test accuracy: 0.7886\n",
            "\n",
            "Optimizing hyperparameters for Support Vector Machine...\n",
            "Fitting 5 folds for each of 6 candidates, totalling 30 fits\n",
            "Best parameters: {'svc__C': 1.0, 'svc__gamma': 'scale'}\n",
            "Best cross-validation accuracy: 0.7954\n",
            "Test accuracy: 0.7912\n",
            "\n",
            "Optimizing hyperparameters for Random Forest...\n",
            "Fitting 5 folds for each of 9 candidates, totalling 45 fits\n",
            "Best parameters: {'randomforestclassifier__max_depth': None, 'randomforestclassifier__n_estimators': 300}\n",
            "Best cross-validation accuracy: 0.7765\n",
            "Test accuracy: 0.7833\n",
            "\n",
            "Optimizing hyperparameters for Multi-layer Perceptron...\n",
            "Fitting 5 folds for each of 3 candidates, totalling 15 fits\n",
            "Best parameters: {'mlpclassifier__hidden_layer_sizes': (300,)}\n",
            "Best cross-validation accuracy: 0.7657\n",
            "Test accuracy: 0.7814\n",
            "\n"
          ]
        }
      ]
    },
    {
      "cell_type": "code",
      "source": [
        "# Plotting test accuracies\n",
        "plt.figure(figsize=(10, 6))\n",
        "plt.bar(model_names, test_accuracies, color='purple')\n",
        "plt.xlabel('Model')\n",
        "plt.ylabel('Test Accuracy')\n",
        "plt.title('Test Accuracy of Different Models')\n",
        "plt.ylim(0, 1)  # Set y-axis limit between 0 and 1\n",
        "plt.xticks(rotation=45, ha='right')\n",
        "plt.grid(axis='y')\n",
        "plt.show()"
      ],
      "metadata": {
        "colab": {
          "base_uri": "https://localhost:8080/",
          "height": 682
        },
        "id": "UpG6l3VHE18I",
        "outputId": "e64a3561-fbff-44a4-fbea-e4183fcb3569"
      },
      "execution_count": null,
      "outputs": [
        {
          "output_type": "display_data",
          "data": {
            "text/plain": [
              "<Figure size 1000x600 with 1 Axes>"
            ],
            "image/png": "[encoded data removed]"
          },
          "metadata": {}
        }
      ]
    },
    {
      "cell_type": "markdown",
      "source": [
        "# The accuracy of all 4 models are almost same but Logistic Regression is the best model in this dataset\n",
        "Saving all the models in joblib files"
      ],
      "metadata": {
        "id": "1Q7-5_SZFvQt"
      }
    },
    {
      "cell_type": "code",
      "source": [
        "import joblib\n",
        "\n",
        "# Save the trained logistic regression model\n",
        "joblib.dump(lrn, 'logistic_regression_model.joblib')\n",
        "\n",
        "# Save the trained random forest model\n",
        "joblib.dump(rfc, 'random_forest_model.joblib')\n",
        "\n",
        "# Save the trained TF-IDF vectorizer\n",
        "joblib.dump(tfidf_vectorizer, 'tfidf_vectorizer.joblib')"
      ],
      "metadata": {
        "colab": {
          "base_uri": "https://localhost:8080/"
        },
        "id": "2_ZB91GN7mLJ",
        "outputId": "af4737e4-6d8f-47bb-9678-a332afc23725"
      },
      "execution_count": null,
      "outputs": [
        {
          "output_type": "execute_result",
          "data": {
            "text/plain": [
              "['tfidf_vectorizer.joblib']"
            ]
          },
          "metadata": {},
          "execution_count": 61
        }
      ]
    },
    {
      "cell_type": "code",
      "source": [
        "df.to_csv('twitter_disaster_task3.csv')"
      ],
      "metadata": {
        "id": "OGudnxJGJukJ"
      },
      "execution_count": null,
      "outputs": []
    }
  ]
}