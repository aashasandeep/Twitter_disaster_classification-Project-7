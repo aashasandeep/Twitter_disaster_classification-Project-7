{
  "nbformat": 4,
  "nbformat_minor": 0,
  "metadata": {
    "colab": {
      "provenance": [],
      "authorship_tag": "ABX9TyOSpwjFYm8kOE5aWwNTpoAS",
      "include_colab_link": true
    },
    "kernelspec": {
      "name": "python3",
      "display_name": "Python 3"
    },
    "language_info": {
      "name": "python"
    }
  },
  "cells": [
    {
      "cell_type": "markdown",
      "metadata": {
        "id": "view-in-github",
        "colab_type": "text"
      },
      "source": [
        "<a href=\"https://colab.research.google.com/github/aashasandeep/Twitter_disaster_classification-Project-7/blob/main/Task_2_twitter_disaster_classification.ipynb\" target=\"_parent\"><img src=\"https://colab.research.google.com/assets/colab-badge.svg\" alt=\"Open In Colab\"/></a>"
      ]
    },
    {
      "cell_type": "code",
      "execution_count": null,
      "metadata": {
        "id": "_CZh2BisnJ7J"
      },
      "outputs": [],
      "source": [
        "# python basics\n",
        "import pandas as pd\n",
        "import numpy as np\n",
        "import matplotlib.pyplot as plt\n",
        "import seaborn as sns\n",
        "import string, math, os, re, time, random\n",
        "\n",
        "from tqdm import tqdm\n",
        "\n",
        "# visualizations\n",
        "plt.style.use('ggplot')\n",
        "\n",
        "# natural language processing\n",
        "from collections import defaultdict\n",
        "import wordcloud\n",
        "\n",
        "# ignore warnings because they are annoying\n",
        "import warnings\n",
        "warnings.filterwarnings('ignore')\n",
        "\n",
        "# for neural nets\n",
        "import tensorflow as tf\n",
        "\n",
        "from sklearn.feature_extraction.text import CountVectorizer, TfidfVectorizer"
      ]
    },
    {
      "cell_type": "code",
      "source": [
        "from google.colab import drive\n",
        "drive.mount('/content/drive')"
      ],
      "metadata": {
        "colab": {
          "base_uri": "https://localhost:8080/"
        },
        "id": "N56snxJznv83",
        "outputId": "287ed005-380f-4ab4-9c03-8254a2d17d25"
      },
      "execution_count": null,
      "outputs": [
        {
          "output_type": "stream",
          "name": "stdout",
          "text": [
            "Mounted at /content/drive\n"
          ]
        }
      ]
    },
    {
      "cell_type": "code",
      "source": [
        "df = pd.read_csv('/content/twitter_disaster_task2.csv')"
      ],
      "metadata": {
        "id": "d3B5v6gBnWpX"
      },
      "execution_count": null,
      "outputs": []
    },
    {
      "cell_type": "code",
      "source": [
        "df.head()"
      ],
      "metadata": {
        "colab": {
          "base_uri": "https://localhost:8080/",
          "height": 724
        },
        "id": "uDz2AoMDns94",
        "outputId": "139dce55-869a-4b0f-ddb9-cbcae449bae7"
      },
      "execution_count": null,
      "outputs": [
        {
          "output_type": "execute_result",
          "data": {
            "text/plain": [
              "   Unnamed: 0 location                                               text  \\\n",
              "0           0     none  Our Deeds are the Reason of this #earthquake M...   \n",
              "1           1     none     Forest fire near La Ronge Sask. Canada unknown   \n",
              "2           2     none  All residents asked to 'shelter in place' are ...   \n",
              "3           3     none  13,000 people receive #wildfires evacuation or...   \n",
              "4           4     none  Just got sent this photo from Ruby #Alaska as ...   \n",
              "\n",
              "   target  word count  character count  average word length  \\\n",
              "0       1          14               77             4.571429   \n",
              "1       1           8               46             4.875000   \n",
              "2       1          23              141             5.173913   \n",
              "3       1           9               73             7.111111   \n",
              "4       1          17               96             4.647059   \n",
              "\n",
              "   unique word count  stopword count  url count  ...  stopword ratio  \\\n",
              "0                 14               6          0  ...        0.428571   \n",
              "1                  8               0          0  ...        0.000000   \n",
              "2                 21              11          0  ...        0.478261   \n",
              "3                  9               1          0  ...        0.111111   \n",
              "4                 16               7          0  ...        0.411765   \n",
              "\n",
              "   punctuation count                                         text_clean  \\\n",
              "0                  1      deeds reason earthquake allah forgive unknown   \n",
              "1                  1         forest fire near ronge sask canada unknown   \n",
              "2                  3  residents asked shelter place notified officer...   \n",
              "3                  2  people receive wildfires evacuation orders cal...   \n",
              "4                  2  just sent photo ruby alaska smoke wildfires po...   \n",
              "\n",
              "                                              tokens         label label_num  \\\n",
              "0  ['Our', 'Deeds', 'are', 'the', 'Reason', 'of',...      disaster         1   \n",
              "1  ['Forest', 'fire', 'near', 'La', 'Ronge', 'Sas...  non-disaster         0   \n",
              "2  ['All', 'residents', 'asked', 'to', \"'\", 'shel...      disaster         1   \n",
              "3  ['13,000', 'people', 'receive', '#', 'wildfire...  non-disaster         0   \n",
              "4  ['Just', 'got', 'sent', 'this', 'photo', 'from...      disaster         1   \n",
              "\n",
              "                                           tokenized  \\\n",
              "0  ['deeds', 'reason', 'earthquake', 'allah', 'fo...   \n",
              "1  ['forest', 'fire', 'near', 'ronge', 'sask', 'c...   \n",
              "2  ['residents', 'asked', 'shelter', 'place', 'no...   \n",
              "3  ['people', 'receive', 'wildfires', 'evacuation...   \n",
              "4  ['just', 'sent', 'photo', 'ruby', 'alaska', 's...   \n",
              "\n",
              "                                             stemmed  \\\n",
              "0  ['deed', 'reason', 'earthquak', 'allah', 'forg...   \n",
              "1  ['forest', 'fire', 'near', 'rong', 'sask', 'ca...   \n",
              "2  ['resid', 'ask', 'shelter', 'place', 'notifi',...   \n",
              "3  ['peopl', 'receiv', 'wildfir', 'evacu', 'order...   \n",
              "4  ['just', 'sent', 'photo', 'rubi', 'alaska', 's...   \n",
              "\n",
              "                                          lemmatized location_numeric  \n",
              "0  ['deed', 'reason', 'earthquake', 'allah', 'for...             3171  \n",
              "1  ['forest', 'fire', 'near', 'ronge', 'sask', 'c...             3171  \n",
              "2  ['resident', 'asked', 'shelter', 'place', 'not...             3171  \n",
              "3  ['people', 'receive', 'wildfire', 'evacuation'...             3171  \n",
              "4  ['just', 'sent', 'photo', 'ruby', 'alaska', 's...             3171  \n",
              "\n",
              "[5 rows x 22 columns]"
            ],
            "text/html": [
              "\n",
              "  <div id=\"df-452a7555-1369-4a8d-8345-30464cea9f09\" class=\"colab-df-container\">\n",
              "    <div>\n",
              "<style scoped>\n",
              "    .dataframe tbody tr th:only-of-type {\n",
              "        vertical-align: middle;\n",
              "    }\n",
              "\n",
              "    .dataframe tbody tr th {\n",
              "        vertical-align: top;\n",
              "    }\n",
              "\n",
              "    .dataframe thead th {\n",
              "        text-align: right;\n",
              "    }\n",
              "</style>\n",
              "<table border=\"1\" class=\"dataframe\">\n",
              "  <thead>\n",
              "    <tr style=\"text-align: right;\">\n",
              "      <th></th>\n",
              "      <th>Unnamed: 0</th>\n",
              "      <th>location</th>\n",
              "      <th>text</th>\n",
              "      <th>target</th>\n",
              "      <th>word count</th>\n",
              "      <th>character count</th>\n",
              "      <th>average word length</th>\n",
              "      <th>unique word count</th>\n",
              "      <th>stopword count</th>\n",
              "      <th>url count</th>\n",
              "      <th>...</th>\n",
              "      <th>stopword ratio</th>\n",
              "      <th>punctuation count</th>\n",
              "      <th>text_clean</th>\n",
              "      <th>tokens</th>\n",
              "      <th>label</th>\n",
              "      <th>label_num</th>\n",
              "      <th>tokenized</th>\n",
              "      <th>stemmed</th>\n",
              "      <th>lemmatized</th>\n",
              "      <th>location_numeric</th>\n",
              "    </tr>\n",
              "  </thead>\n",
              "  <tbody>\n",
              "    <tr>\n",
              "      <th>0</th>\n",
              "      <td>0</td>\n",
              "      <td>none</td>\n",
              "      <td>Our Deeds are the Reason of this #earthquake M...</td>\n",
              "      <td>1</td>\n",
              "      <td>14</td>\n",
              "      <td>77</td>\n",
              "      <td>4.571429</td>\n",
              "      <td>14</td>\n",
              "      <td>6</td>\n",
              "      <td>0</td>\n",
              "      <td>...</td>\n",
              "      <td>0.428571</td>\n",
              "      <td>1</td>\n",
              "      <td>deeds reason earthquake allah forgive unknown</td>\n",
              "      <td>['Our', 'Deeds', 'are', 'the', 'Reason', 'of',...</td>\n",
              "      <td>disaster</td>\n",
              "      <td>1</td>\n",
              "      <td>['deeds', 'reason', 'earthquake', 'allah', 'fo...</td>\n",
              "      <td>['deed', 'reason', 'earthquak', 'allah', 'forg...</td>\n",
              "      <td>['deed', 'reason', 'earthquake', 'allah', 'for...</td>\n",
              "      <td>3171</td>\n",
              "    </tr>\n",
              "    <tr>\n",
              "      <th>1</th>\n",
              "      <td>1</td>\n",
              "      <td>none</td>\n",
              "      <td>Forest fire near La Ronge Sask. Canada unknown</td>\n",
              "      <td>1</td>\n",
              "      <td>8</td>\n",
              "      <td>46</td>\n",
              "      <td>4.875000</td>\n",
              "      <td>8</td>\n",
              "      <td>0</td>\n",
              "      <td>0</td>\n",
              "      <td>...</td>\n",
              "      <td>0.000000</td>\n",
              "      <td>1</td>\n",
              "      <td>forest fire near ronge sask canada unknown</td>\n",
              "      <td>['Forest', 'fire', 'near', 'La', 'Ronge', 'Sas...</td>\n",
              "      <td>non-disaster</td>\n",
              "      <td>0</td>\n",
              "      <td>['forest', 'fire', 'near', 'ronge', 'sask', 'c...</td>\n",
              "      <td>['forest', 'fire', 'near', 'rong', 'sask', 'ca...</td>\n",
              "      <td>['forest', 'fire', 'near', 'ronge', 'sask', 'c...</td>\n",
              "      <td>3171</td>\n",
              "    </tr>\n",
              "    <tr>\n",
              "      <th>2</th>\n",
              "      <td>2</td>\n",
              "      <td>none</td>\n",
              "      <td>All residents asked to 'shelter in place' are ...</td>\n",
              "      <td>1</td>\n",
              "      <td>23</td>\n",
              "      <td>141</td>\n",
              "      <td>5.173913</td>\n",
              "      <td>21</td>\n",
              "      <td>11</td>\n",
              "      <td>0</td>\n",
              "      <td>...</td>\n",
              "      <td>0.478261</td>\n",
              "      <td>3</td>\n",
              "      <td>residents asked shelter place notified officer...</td>\n",
              "      <td>['All', 'residents', 'asked', 'to', \"'\", 'shel...</td>\n",
              "      <td>disaster</td>\n",
              "      <td>1</td>\n",
              "      <td>['residents', 'asked', 'shelter', 'place', 'no...</td>\n",
              "      <td>['resid', 'ask', 'shelter', 'place', 'notifi',...</td>\n",
              "      <td>['resident', 'asked', 'shelter', 'place', 'not...</td>\n",
              "      <td>3171</td>\n",
              "    </tr>\n",
              "    <tr>\n",
              "      <th>3</th>\n",
              "      <td>3</td>\n",
              "      <td>none</td>\n",
              "      <td>13,000 people receive #wildfires evacuation or...</td>\n",
              "      <td>1</td>\n",
              "      <td>9</td>\n",
              "      <td>73</td>\n",
              "      <td>7.111111</td>\n",
              "      <td>9</td>\n",
              "      <td>1</td>\n",
              "      <td>0</td>\n",
              "      <td>...</td>\n",
              "      <td>0.111111</td>\n",
              "      <td>2</td>\n",
              "      <td>people receive wildfires evacuation orders cal...</td>\n",
              "      <td>['13,000', 'people', 'receive', '#', 'wildfire...</td>\n",
              "      <td>non-disaster</td>\n",
              "      <td>0</td>\n",
              "      <td>['people', 'receive', 'wildfires', 'evacuation...</td>\n",
              "      <td>['peopl', 'receiv', 'wildfir', 'evacu', 'order...</td>\n",
              "      <td>['people', 'receive', 'wildfire', 'evacuation'...</td>\n",
              "      <td>3171</td>\n",
              "    </tr>\n",
              "    <tr>\n",
              "      <th>4</th>\n",
              "      <td>4</td>\n",
              "      <td>none</td>\n",
              "      <td>Just got sent this photo from Ruby #Alaska as ...</td>\n",
              "      <td>1</td>\n",
              "      <td>17</td>\n",
              "      <td>96</td>\n",
              "      <td>4.647059</td>\n",
              "      <td>16</td>\n",
              "      <td>7</td>\n",
              "      <td>0</td>\n",
              "      <td>...</td>\n",
              "      <td>0.411765</td>\n",
              "      <td>2</td>\n",
              "      <td>just sent photo ruby alaska smoke wildfires po...</td>\n",
              "      <td>['Just', 'got', 'sent', 'this', 'photo', 'from...</td>\n",
              "      <td>disaster</td>\n",
              "      <td>1</td>\n",
              "      <td>['just', 'sent', 'photo', 'ruby', 'alaska', 's...</td>\n",
              "      <td>['just', 'sent', 'photo', 'rubi', 'alaska', 's...</td>\n",
              "      <td>['just', 'sent', 'photo', 'ruby', 'alaska', 's...</td>\n",
              "      <td>3171</td>\n",
              "    </tr>\n",
              "  </tbody>\n",
              "</table>\n",
              "<p>5 rows × 22 columns</p>\n",
              "</div>\n",
              "    <div class=\"colab-df-buttons\">\n",
              "\n",
              "  <div class=\"colab-df-container\">\n",
              "    <button class=\"colab-df-convert\" onclick=\"convertToInteractive('df-452a7555-1369-4a8d-8345-30464cea9f09')\"\n",
              "            title=\"Convert this dataframe to an interactive table.\"\n",
              "            style=\"display:none;\">\n",
              "\n",
              "  <svg xmlns=\"http://www.w3.org/2000/svg\" height=\"24px\" viewBox=\"0 -960 960 960\">\n",
              "    <path d=\"M120-120v-720h720v720H120Zm60-500h600v-160H180v160Zm220 220h160v-160H400v160Zm0 220h160v-160H400v160ZM180-400h160v-160H180v160Zm440 0h160v-160H620v160ZM180-180h160v-160H180v160Zm440 0h160v-160H620v160Z\"/>\n",
              "  </svg>\n",
              "    </button>\n",
              "\n",
              "  <style>\n",
              "    .colab-df-container {\n",
              "      display:flex;\n",
              "      gap: 12px;\n",
              "    }\n",
              "\n",
              "    .colab-df-convert {\n",
              "      background-color: #E8F0FE;\n",
              "      border: none;\n",
              "      border-radius: 50%;\n",
              "      cursor: pointer;\n",
              "      display: none;\n",
              "      fill: #1967D2;\n",
              "      height: 32px;\n",
              "      padding: 0 0 0 0;\n",
              "      width: 32px;\n",
              "    }\n",
              "\n",
              "    .colab-df-convert:hover {\n",
              "      background-color: #E2EBFA;\n",
              "      box-shadow: 0px 1px 2px rgba(60, 64, 67, 0.3), 0px 1px 3px 1px rgba(60, 64, 67, 0.15);\n",
              "      fill: #174EA6;\n",
              "    }\n",
              "\n",
              "    .colab-df-buttons div {\n",
              "      margin-bottom: 4px;\n",
              "    }\n",
              "\n",
              "    [theme=dark] .colab-df-convert {\n",
              "      background-color: #3B4455;\n",
              "      fill: #D2E3FC;\n",
              "    }\n",
              "\n",
              "    [theme=dark] .colab-df-convert:hover {\n",
              "      background-color: #434B5C;\n",
              "      box-shadow: 0px 1px 3px 1px rgba(0, 0, 0, 0.15);\n",
              "      filter: drop-shadow(0px 1px 2px rgba(0, 0, 0, 0.3));\n",
              "      fill: #FFFFFF;\n",
              "    }\n",
              "  </style>\n",
              "\n",
              "    <script>\n",
              "      const buttonEl =\n",
              "        document.querySelector('#df-452a7555-1369-4a8d-8345-30464cea9f09 button.colab-df-convert');\n",
              "      buttonEl.style.display =\n",
              "        google.colab.kernel.accessAllowed ? 'block' : 'none';\n",
              "\n",
              "      async function convertToInteractive(key) {\n",
              "        const element = document.querySelector('#df-452a7555-1369-4a8d-8345-30464cea9f09');\n",
              "        const dataTable =\n",
              "          await google.colab.kernel.invokeFunction('convertToInteractive',\n",
              "                                                    [key], {});\n",
              "        if (!dataTable) return;\n",
              "\n",
              "        const docLinkHtml = 'Like what you see? Visit the ' +\n",
              "          '<a target=\"_blank\" href=https://colab.research.google.com/notebooks/data_table.ipynb>data table notebook</a>'\n",
              "          + ' to learn more about interactive tables.';\n",
              "        element.innerHTML = '';\n",
              "        dataTable['output_type'] = 'display_data';\n",
              "        await google.colab.output.renderOutput(dataTable, element);\n",
              "        const docLink = document.createElement('div');\n",
              "        docLink.innerHTML = docLinkHtml;\n",
              "        element.appendChild(docLink);\n",
              "      }\n",
              "    </script>\n",
              "  </div>\n",
              "\n",
              "\n",
              "<div id=\"df-d268d2d5-42cb-4438-a0fe-a9fed951e06f\">\n",
              "  <button class=\"colab-df-quickchart\" onclick=\"quickchart('df-d268d2d5-42cb-4438-a0fe-a9fed951e06f')\"\n",
              "            title=\"Suggest charts\"\n",
              "            style=\"display:none;\">\n",
              "\n",
              "<svg xmlns=\"http://www.w3.org/2000/svg\" height=\"24px\"viewBox=\"0 0 24 24\"\n",
              "     width=\"24px\">\n",
              "    <g>\n",
              "        <path d=\"M19 3H5c-1.1 0-2 .9-2 2v14c0 1.1.9 2 2 2h14c1.1 0 2-.9 2-2V5c0-1.1-.9-2-2-2zM9 17H7v-7h2v7zm4 0h-2V7h2v10zm4 0h-2v-4h2v4z\"/>\n",
              "    </g>\n",
              "</svg>\n",
              "  </button>\n",
              "\n",
              "<style>\n",
              "  .colab-df-quickchart {\n",
              "      --bg-color: #E8F0FE;\n",
              "      --fill-color: #1967D2;\n",
              "      --hover-bg-color: #E2EBFA;\n",
              "      --hover-fill-color: #174EA6;\n",
              "      --disabled-fill-color: #AAA;\n",
              "      --disabled-bg-color: #DDD;\n",
              "  }\n",
              "\n",
              "  [theme=dark] .colab-df-quickchart {\n",
              "      --bg-color: #3B4455;\n",
              "      --fill-color: #D2E3FC;\n",
              "      --hover-bg-color: #434B5C;\n",
              "      --hover-fill-color: #FFFFFF;\n",
              "      --disabled-bg-color: #3B4455;\n",
              "      --disabled-fill-color: #666;\n",
              "  }\n",
              "\n",
              "  .colab-df-quickchart {\n",
              "    background-color: var(--bg-color);\n",
              "    border: none;\n",
              "    border-radius: 50%;\n",
              "    cursor: pointer;\n",
              "    display: none;\n",
              "    fill: var(--fill-color);\n",
              "    height: 32px;\n",
              "    padding: 0;\n",
              "    width: 32px;\n",
              "  }\n",
              "\n",
              "  .colab-df-quickchart:hover {\n",
              "    background-color: var(--hover-bg-color);\n",
              "    box-shadow: 0 1px 2px rgba(60, 64, 67, 0.3), 0 1px 3px 1px rgba(60, 64, 67, 0.15);\n",
              "    fill: var(--button-hover-fill-color);\n",
              "  }\n",
              "\n",
              "  .colab-df-quickchart-complete:disabled,\n",
              "  .colab-df-quickchart-complete:disabled:hover {\n",
              "    background-color: var(--disabled-bg-color);\n",
              "    fill: var(--disabled-fill-color);\n",
              "    box-shadow: none;\n",
              "  }\n",
              "\n",
              "  .colab-df-spinner {\n",
              "    border: 2px solid var(--fill-color);\n",
              "    border-color: transparent;\n",
              "    border-bottom-color: var(--fill-color);\n",
              "    animation:\n",
              "      spin 1s steps(1) infinite;\n",
              "  }\n",
              "\n",
              "  @keyframes spin {\n",
              "    0% {\n",
              "      border-color: transparent;\n",
              "      border-bottom-color: var(--fill-color);\n",
              "      border-left-color: var(--fill-color);\n",
              "    }\n",
              "    20% {\n",
              "      border-color: transparent;\n",
              "      border-left-color: var(--fill-color);\n",
              "      border-top-color: var(--fill-color);\n",
              "    }\n",
              "    30% {\n",
              "      border-color: transparent;\n",
              "      border-left-color: var(--fill-color);\n",
              "      border-top-color: var(--fill-color);\n",
              "      border-right-color: var(--fill-color);\n",
              "    }\n",
              "    40% {\n",
              "      border-color: transparent;\n",
              "      border-right-color: var(--fill-color);\n",
              "      border-top-color: var(--fill-color);\n",
              "    }\n",
              "    60% {\n",
              "      border-color: transparent;\n",
              "      border-right-color: var(--fill-color);\n",
              "    }\n",
              "    80% {\n",
              "      border-color: transparent;\n",
              "      border-right-color: var(--fill-color);\n",
              "      border-bottom-color: var(--fill-color);\n",
              "    }\n",
              "    90% {\n",
              "      border-color: transparent;\n",
              "      border-bottom-color: var(--fill-color);\n",
              "    }\n",
              "  }\n",
              "</style>\n",
              "\n",
              "  <script>\n",
              "    async function quickchart(key) {\n",
              "      const quickchartButtonEl =\n",
              "        document.querySelector('#' + key + ' button');\n",
              "      quickchartButtonEl.disabled = true;  // To prevent multiple clicks.\n",
              "      quickchartButtonEl.classList.add('colab-df-spinner');\n",
              "      try {\n",
              "        const charts = await google.colab.kernel.invokeFunction(\n",
              "            'suggestCharts', [key], {});\n",
              "      } catch (error) {\n",
              "        console.error('Error during call to suggestCharts:', error);\n",
              "      }\n",
              "      quickchartButtonEl.classList.remove('colab-df-spinner');\n",
              "      quickchartButtonEl.classList.add('colab-df-quickchart-complete');\n",
              "    }\n",
              "    (() => {\n",
              "      let quickchartButtonEl =\n",
              "        document.querySelector('#df-d268d2d5-42cb-4438-a0fe-a9fed951e06f button');\n",
              "      quickchartButtonEl.style.display =\n",
              "        google.colab.kernel.accessAllowed ? 'block' : 'none';\n",
              "    })();\n",
              "  </script>\n",
              "</div>\n",
              "\n",
              "    </div>\n",
              "  </div>\n"
            ],
            "application/vnd.google.colaboratory.intrinsic+json": {
              "type": "dataframe",
              "variable_name": "df"
            }
          },
          "metadata": {},
          "execution_count": 4
        }
      ]
    },
    {
      "cell_type": "markdown",
      "source": [
        "# Part 2: Feature Engineering and Model Selection\n",
        "\n",
        "Task: Feature Engineering\n",
        "\n",
        "● Extract relevant features from the text data, such as word frequencies, TF-IDF scores, and sentiment analysis.\n",
        "\n",
        "Word Frequencies and TF-IDF Scores"
      ],
      "metadata": {
        "id": "FznaIBWjoF95"
      }
    },
    {
      "cell_type": "code",
      "source": [
        "count_vectorizer = CountVectorizer()\n",
        "tfidf_vectorizer = TfidfVectorizer()\n",
        "\n",
        "# Fit and transform text data using CountVectorizer\n",
        "X_count = count_vectorizer.fit_transform(df['text'])\n",
        "\n",
        "# Fit and transform text data using TfidfVectorizer\n",
        "X_tfidf = tfidf_vectorizer.fit_transform(df['text'])\n",
        "\n",
        "# Convert transformed matrices to DataFrame (for demonstration)\n",
        "df_count = pd.DataFrame(X_count.toarray(), columns=count_vectorizer.get_feature_names_out())\n",
        "df_tfidf = pd.DataFrame(X_tfidf.toarray(), columns=tfidf_vectorizer.get_feature_names_out())\n",
        "\n",
        "# Display word frequencies (CountVectorizer) and TF-IDF scores (TfidfVectorizer)\n",
        "print(\"Word Frequencies (CountVectorizer):\\n\", df_count)\n",
        "print()\n",
        "print(\"TF-IDF Scores (TfidfVectorizer):\\n\", df_tfidf.head())"
      ],
      "metadata": {
        "colab": {
          "base_uri": "https://localhost:8080/"
        },
        "id": "8TBt-scxntbh",
        "outputId": "dab1a735-5a98-497a-e647-a328fbf22905"
      },
      "execution_count": null,
      "outputs": [
        {
          "output_type": "stream",
          "name": "stdout",
          "text": [
            "Word Frequencies (CountVectorizer):\n",
            "       00  000  0000  007npen6lg  00cy9vxeff  00end  00pm  01  02  0215  ...  \\\n",
            "0      0    0     0           0           0      0     0   0   0     0  ...   \n",
            "1      0    0     0           0           0      0     0   0   0     0  ...   \n",
            "2      0    0     0           0           0      0     0   0   0     0  ...   \n",
            "3      0    1     0           0           0      0     0   0   0     0  ...   \n",
            "4      0    0     0           0           0      0     0   0   0     0  ...   \n",
            "...   ..  ...   ...         ...         ...    ...   ...  ..  ..   ...  ...   \n",
            "7608   0    0     0           0           0      0     0   0   0     0  ...   \n",
            "7609   0    0     0           0           0      0     0   0   0     0  ...   \n",
            "7610   0    0     0           0           0      0     0   1   0     0  ...   \n",
            "7611   0    0     0           0           0      0     0   0   0     0  ...   \n",
            "7612   0    0     0           0           0      0     0   0   0     0  ...   \n",
            "\n",
            "      zyrzx6dfki  zyssobxntc  zz0cewew64  zz5udilrea  zzcbbqyj1q  zzpojgngaj  \\\n",
            "0              0           0           0           0           0           0   \n",
            "1              0           0           0           0           0           0   \n",
            "2              0           0           0           0           0           0   \n",
            "3              0           0           0           0           0           0   \n",
            "4              0           0           0           0           0           0   \n",
            "...          ...         ...         ...         ...         ...         ...   \n",
            "7608           0           0           0           0           0           0   \n",
            "7609           0           0           0           0           0           0   \n",
            "7610           0           0           0           0           0           0   \n",
            "7611           0           0           0           0           0           0   \n",
            "7612           0           0           0           0           0           0   \n",
            "\n",
            "      zzsee5hipm  zztbvjypn1  zzweeezjug  zzzz  \n",
            "0              0           0           0     0  \n",
            "1              0           0           0     0  \n",
            "2              0           0           0     0  \n",
            "3              0           0           0     0  \n",
            "4              0           0           0     0  \n",
            "...          ...         ...         ...   ...  \n",
            "7608           0           0           0     0  \n",
            "7609           0           0           0     0  \n",
            "7610           0           0           0     0  \n",
            "7611           0           0           0     0  \n",
            "7612           0           0           0     0  \n",
            "\n",
            "[7613 rows x 21557 columns]\n",
            "\n",
            "TF-IDF Scores (TfidfVectorizer):\n",
            "     00       000  0000  007npen6lg  00cy9vxeff  00end  00pm   01   02  0215  \\\n",
            "0  0.0  0.000000   0.0         0.0         0.0    0.0   0.0  0.0  0.0   0.0   \n",
            "1  0.0  0.000000   0.0         0.0         0.0    0.0   0.0  0.0  0.0   0.0   \n",
            "2  0.0  0.000000   0.0         0.0         0.0    0.0   0.0  0.0  0.0   0.0   \n",
            "3  0.0  0.401049   0.0         0.0         0.0    0.0   0.0  0.0  0.0   0.0   \n",
            "4  0.0  0.000000   0.0         0.0         0.0    0.0   0.0  0.0  0.0   0.0   \n",
            "\n",
            "   ...  zyrzx6dfki  zyssobxntc  zz0cewew64  zz5udilrea  zzcbbqyj1q  \\\n",
            "0  ...         0.0         0.0         0.0         0.0         0.0   \n",
            "1  ...         0.0         0.0         0.0         0.0         0.0   \n",
            "2  ...         0.0         0.0         0.0         0.0         0.0   \n",
            "3  ...         0.0         0.0         0.0         0.0         0.0   \n",
            "4  ...         0.0         0.0         0.0         0.0         0.0   \n",
            "\n",
            "   zzpojgngaj  zzsee5hipm  zztbvjypn1  zzweeezjug  zzzz  \n",
            "0         0.0         0.0         0.0         0.0   0.0  \n",
            "1         0.0         0.0         0.0         0.0   0.0  \n",
            "2         0.0         0.0         0.0         0.0   0.0  \n",
            "3         0.0         0.0         0.0         0.0   0.0  \n",
            "4         0.0         0.0         0.0         0.0   0.0  \n",
            "\n",
            "[5 rows x 21557 columns]\n"
          ]
        }
      ]
    },
    {
      "cell_type": "markdown",
      "source": [
        "#Sentiment Analysis"
      ],
      "metadata": {
        "id": "UizNG-1doSu2"
      }
    },
    {
      "cell_type": "code",
      "source": [
        "!pip install textblob"
      ],
      "metadata": {
        "colab": {
          "base_uri": "https://localhost:8080/"
        },
        "id": "dTgpUGOLnuFL",
        "outputId": "3ee73e23-52ef-4094-c3cf-85ce72a2be64"
      },
      "execution_count": null,
      "outputs": [
        {
          "output_type": "stream",
          "name": "stdout",
          "text": [
            "Requirement already satisfied: textblob in /usr/local/lib/python3.10/dist-packages (0.17.1)\n",
            "Requirement already satisfied: nltk>=3.1 in /usr/local/lib/python3.10/dist-packages (from textblob) (3.9.1)\n",
            "Requirement already satisfied: click in /usr/local/lib/python3.10/dist-packages (from nltk>=3.1->textblob) (8.1.7)\n",
            "Requirement already satisfied: joblib in /usr/local/lib/python3.10/dist-packages (from nltk>=3.1->textblob) (1.4.2)\n",
            "Requirement already satisfied: regex>=2021.8.3 in /usr/local/lib/python3.10/dist-packages (from nltk>=3.1->textblob) (2024.9.11)\n",
            "Requirement already satisfied: tqdm in /usr/local/lib/python3.10/dist-packages (from nltk>=3.1->textblob) (4.66.6)\n"
          ]
        }
      ]
    },
    {
      "cell_type": "code",
      "source": [
        "from textblob import TextBlob\n",
        "\n",
        "df['text_sentiment'] = df['text'].apply(lambda x: TextBlob(str(x)).sentiment)\n",
        "\n",
        "df['polarity'] = df['text_sentiment'].apply(lambda x: x.polarity)\n",
        "df['subjectivity'] = df['text_sentiment'].apply(lambda x: x.subjectivity)\n",
        "\n",
        "print(df[['text', 'polarity', 'subjectivity']])"
      ],
      "metadata": {
        "colab": {
          "base_uri": "https://localhost:8080/"
        },
        "id": "1x3kON1gnuii",
        "outputId": "fcd4ca42-5be2-4e31-ed0d-20a62f873f44"
      },
      "execution_count": null,
      "outputs": [
        {
          "output_type": "stream",
          "name": "stdout",
          "text": [
            "                                                   text  polarity  \\\n",
            "0     Our Deeds are the Reason of this #earthquake M... -0.100000   \n",
            "1        Forest fire near La Ronge Sask. Canada unknown  0.000000   \n",
            "2     All residents asked to 'shelter in place' are ... -0.045833   \n",
            "3     13,000 people receive #wildfires evacuation or... -0.100000   \n",
            "4     Just got sent this photo from Ruby #Alaska as ... -0.100000   \n",
            "...                                                 ...       ...   \n",
            "7608  Two giant cranes holding a bridge collapse int... -0.050000   \n",
            "7609  @aria_ahrary @TheTawniest The out of control w...  0.066667   \n",
            "7610  M1.94 [01:04 UTC]?5km S of Volcano Hawaii. htt... -0.100000   \n",
            "7611  Police investigating after an e-bike collided ... -0.206944   \n",
            "7612  The Latest: More Homes Razed by Northern Calif...  0.300000   \n",
            "\n",
            "      subjectivity  \n",
            "0         0.600000  \n",
            "1         0.500000  \n",
            "2         0.458333  \n",
            "3         0.600000  \n",
            "4         0.600000  \n",
            "...            ...  \n",
            "7608      0.800000  \n",
            "7609      0.433333  \n",
            "7610      0.600000  \n",
            "7611      0.588889  \n",
            "7612      0.666667  \n",
            "\n",
            "[7613 rows x 3 columns]\n"
          ]
        }
      ]
    },
    {
      "cell_type": "markdown",
      "source": [
        "#On the basis of text, polarity and subjectivity, we can see the sentiment analysis"
      ],
      "metadata": {
        "id": "pf7wVXpMokTC"
      }
    },
    {
      "cell_type": "code",
      "source": [
        "import matplotlib.pyplot as plt\n",
        "\n",
        "# Plot histogram for sentiment polarity\n",
        "plt.figure(figsize=(8, 6))\n",
        "plt.hist(df['polarity'], bins=50, color='darkblue', edgecolor='black')\n",
        "plt.xlabel('Polarity')\n",
        "plt.ylabel('Frequency')\n",
        "plt.title('Distribution of Sentiment Polarity')\n",
        "plt.grid(True)\n",
        "plt.show()\n",
        "\n",
        "# Plot histogram for sentiment subjectivity\n",
        "plt.figure(figsize=(8, 6))\n",
        "plt.hist(df['subjectivity'], bins=50, color='red', edgecolor='black')\n",
        "plt.xlabel('Subjectivity')\n",
        "plt.ylabel('Frequency')\n",
        "plt.title('Distribution of Sentiment Subjectivity')\n",
        "plt.grid(True)\n",
        "plt.show()"
      ],
      "metadata": {
        "colab": {
          "base_uri": "https://localhost:8080/",
          "height": 1000
        },
        "id": "7aWTciTanu8y",
        "outputId": "413695a0-ec93-42c8-f8d0-dfce5c0d6d3f"
      },
      "execution_count": null,
      "outputs": [
        {
          "output_type": "display_data",
          "data": {
            "text/plain": [
              "<Figure size 800x600 with 1 Axes>"
            ],
            "image/png": "[encoded data removed]"
          },
          "metadata": {}
        },
        {
          "output_type": "display_data",
          "data": {
            "text/plain": [
              "<Figure size 800x600 with 1 Axes>"
            ],
            "image/png": "[encoded data removed]"
          },
          "metadata": {}
        }
      ]
    },
    {
      "cell_type": "markdown",
      "source": [
        "# Sentiment Polarity and Sentiment Subjectivity both are maximum at point 0\n",
        "\n",
        "Integration into Feature Extraction Pipeline"
      ],
      "metadata": {
        "id": "kPbNO_I4pDto"
      }
    },
    {
      "cell_type": "code",
      "source": [
        "# Initialize TfidfVectorizer for TF-IDF feature extraction\n",
        "tfidf_vectorizer = TfidfVectorizer()\n",
        "\n",
        "# Fit and transform text data using TfidfVectorizer\n",
        "X_tfidf = tfidf_vectorizer.fit_transform(df['text'])\n",
        "\n",
        "# Perform sentiment analysis using TextBlob\n",
        "sentiment_scores = df['text'].apply(lambda x: TextBlob(x).sentiment.polarity)\n",
        "\n",
        "# Create a DataFrame with TF-IDF scores and sentiment analysis results\n",
        "df_features = pd.DataFrame(X_tfidf.toarray(), columns=tfidf_vectorizer.get_feature_names_out())\n",
        "df_features['sentiment_polarity'] = sentiment_scores\n",
        "\n",
        "# Display the combined feature matrix with TF-IDF and sentiment analysis features\n",
        "print(\"Combined Feature Matrix:\\n\", df_features)"
      ],
      "metadata": {
        "colab": {
          "base_uri": "https://localhost:8080/"
        },
        "id": "KuCdXSIZpMBY",
        "outputId": "5329ad3d-3846-4fbf-c80d-da735cf685d9"
      },
      "execution_count": null,
      "outputs": [
        {
          "output_type": "stream",
          "name": "stdout",
          "text": [
            "Combined Feature Matrix:\n",
            "        00       000  0000  007npen6lg  00cy9vxeff  00end  00pm        01   02  \\\n",
            "0     0.0  0.000000   0.0         0.0         0.0    0.0   0.0  0.000000  0.0   \n",
            "1     0.0  0.000000   0.0         0.0         0.0    0.0   0.0  0.000000  0.0   \n",
            "2     0.0  0.000000   0.0         0.0         0.0    0.0   0.0  0.000000  0.0   \n",
            "3     0.0  0.401049   0.0         0.0         0.0    0.0   0.0  0.000000  0.0   \n",
            "4     0.0  0.000000   0.0         0.0         0.0    0.0   0.0  0.000000  0.0   \n",
            "...   ...       ...   ...         ...         ...    ...   ...       ...  ...   \n",
            "7608  0.0  0.000000   0.0         0.0         0.0    0.0   0.0  0.000000  0.0   \n",
            "7609  0.0  0.000000   0.0         0.0         0.0    0.0   0.0  0.000000  0.0   \n",
            "7610  0.0  0.000000   0.0         0.0         0.0    0.0   0.0  0.296664  0.0   \n",
            "7611  0.0  0.000000   0.0         0.0         0.0    0.0   0.0  0.000000  0.0   \n",
            "7612  0.0  0.000000   0.0         0.0         0.0    0.0   0.0  0.000000  0.0   \n",
            "\n",
            "      0215  ...  zyssobxntc  zz0cewew64  zz5udilrea  zzcbbqyj1q  zzpojgngaj  \\\n",
            "0      0.0  ...         0.0         0.0         0.0         0.0         0.0   \n",
            "1      0.0  ...         0.0         0.0         0.0         0.0         0.0   \n",
            "2      0.0  ...         0.0         0.0         0.0         0.0         0.0   \n",
            "3      0.0  ...         0.0         0.0         0.0         0.0         0.0   \n",
            "4      0.0  ...         0.0         0.0         0.0         0.0         0.0   \n",
            "...    ...  ...         ...         ...         ...         ...         ...   \n",
            "7608   0.0  ...         0.0         0.0         0.0         0.0         0.0   \n",
            "7609   0.0  ...         0.0         0.0         0.0         0.0         0.0   \n",
            "7610   0.0  ...         0.0         0.0         0.0         0.0         0.0   \n",
            "7611   0.0  ...         0.0         0.0         0.0         0.0         0.0   \n",
            "7612   0.0  ...         0.0         0.0         0.0         0.0         0.0   \n",
            "\n",
            "      zzsee5hipm  zztbvjypn1  zzweeezjug  zzzz  sentiment_polarity  \n",
            "0            0.0         0.0         0.0   0.0           -0.100000  \n",
            "1            0.0         0.0         0.0   0.0            0.000000  \n",
            "2            0.0         0.0         0.0   0.0           -0.045833  \n",
            "3            0.0         0.0         0.0   0.0           -0.100000  \n",
            "4            0.0         0.0         0.0   0.0           -0.100000  \n",
            "...          ...         ...         ...   ...                 ...  \n",
            "7608         0.0         0.0         0.0   0.0           -0.050000  \n",
            "7609         0.0         0.0         0.0   0.0            0.066667  \n",
            "7610         0.0         0.0         0.0   0.0           -0.100000  \n",
            "7611         0.0         0.0         0.0   0.0           -0.206944  \n",
            "7612         0.0         0.0         0.0   0.0            0.300000  \n",
            "\n",
            "[7613 rows x 21558 columns]\n"
          ]
        }
      ]
    },
    {
      "cell_type": "code",
      "source": [
        "import random\n",
        "\n",
        "# Select a random subset of features to plot\n",
        "num_features_to_plot = 10  # Adjust this as needed\n",
        "random_features = random.sample(list(df_features.columns[:-1]), num_features_to_plot)\n",
        "\n",
        "# Plot scatter plot for TF-IDF scores vs. sentiment polarity for each feature\n",
        "plt.figure(figsize=(10, 6))\n",
        "for feature in random_features:\n",
        "    plt.scatter(df_features['sentiment_polarity'], df_features[feature], label=feature)\n",
        "plt.xlabel('Sentiment Polarity')\n",
        "plt.ylabel('TF-IDF Score')\n",
        "plt.title('TF-IDF Score vs. Sentiment Polarity for Random Subset of Features')\n",
        "plt.legend(loc='upper right', fontsize='small', bbox_to_anchor=(1.25, 1))\n",
        "plt.grid(True)\n",
        "plt.show()"
      ],
      "metadata": {
        "colab": {
          "base_uri": "https://localhost:8080/",
          "height": 569
        },
        "id": "7ZLDyQ-fpONd",
        "outputId": "a1bd184c-2776-469b-af9c-ff666aff5f77"
      },
      "execution_count": null,
      "outputs": [
        {
          "output_type": "display_data",
          "data": {
            "text/plain": [
              "<Figure size 1000x600 with 1 Axes>"
            ],
            "image/png": "[encoded data removed]"
          },
          "metadata": {}
        }
      ]
    },
    {
      "cell_type": "markdown",
      "source": [
        "#Only 2 or 3 subsets are at points other than 0\n",
        "\n",
        "● Consider using pre-trained word embeddings like Word2Vec or GloVe to capture semantic meanings."
      ],
      "metadata": {
        "id": "UYeDLG0ipZuy"
      }
    },
    {
      "cell_type": "code",
      "source": [
        "import gensim.downloader as api\n",
        "\n",
        "# Download and load the pre-trained Word2Vec model\n",
        "w2v_model = api.load('word2vec-google-news-300')"
      ],
      "metadata": {
        "colab": {
          "base_uri": "https://localhost:8080/"
        },
        "id": "Vfp0BUJzpVLn",
        "outputId": "8cf5dd9e-52f8-410c-b585-afe49ded8c6c"
      },
      "execution_count": null,
      "outputs": [
        {
          "output_type": "stream",
          "name": "stdout",
          "text": [
            "[==================================================] 100.0% 1662.8/1662.8MB downloaded\n"
          ]
        }
      ]
    },
    {
      "cell_type": "code",
      "source": [
        "def get_token_embeddings(tokens, w2v_model):\n",
        "    embeddings = []\n",
        "    for token in tokens:\n",
        "        if token in w2v_model:\n",
        "            embeddings.append(w2v_model[token])\n",
        "        else:\n",
        "            # Handle out-of-vocabulary words (use a zero vector)\n",
        "            embeddings.append([0] * w2v_model.vector_size)\n",
        "    return embeddings"
      ],
      "metadata": {
        "id": "A32hMyaIqehf"
      },
      "execution_count": null,
      "outputs": []
    },
    {
      "cell_type": "code",
      "source": [
        "# Applying word embedding to tokenized text\n",
        "df['embeddings'] = df['tokenized'].apply(lambda x: get_token_embeddings(x, w2v_model))"
      ],
      "metadata": {
        "id": "NRcmCVCFqe5B"
      },
      "execution_count": null,
      "outputs": []
    },
    {
      "cell_type": "code",
      "source": [
        "# Display DataFrame with tokenized text and corresponding embeddings\n",
        "print(df[['tokenized', 'embeddings']])"
      ],
      "metadata": {
        "colab": {
          "base_uri": "https://localhost:8080/"
        },
        "id": "sccluXCjqfRQ",
        "outputId": "031a8c5b-9e78-4e4d-f674-9cb6144059f1"
      },
      "execution_count": null,
      "outputs": [
        {
          "output_type": "stream",
          "name": "stdout",
          "text": [
            "                                              tokenized  \\\n",
            "0     ['deeds', 'reason', 'earthquake', 'allah', 'fo...   \n",
            "1     ['forest', 'fire', 'near', 'ronge', 'sask', 'c...   \n",
            "2     ['residents', 'asked', 'shelter', 'place', 'no...   \n",
            "3     ['people', 'receive', 'wildfires', 'evacuation...   \n",
            "4     ['just', 'sent', 'photo', 'ruby', 'alaska', 's...   \n",
            "...                                                 ...   \n",
            "7608  ['giant', 'cranes', 'holding', 'bridge', 'coll...   \n",
            "7609  ['ariaahrary', 'thetawniest', 'control', 'wild...   \n",
            "7610                   ['volcano', 'hawaii', 'unknown']   \n",
            "7611  ['police', 'investigating', 'ebike', 'collided...   \n",
            "7612  ['latest', 'more', 'homes', 'razed', 'northern...   \n",
            "\n",
            "                                             embeddings  \n",
            "0     [[0, 0, 0, 0, 0, 0, 0, 0, 0, 0, 0, 0, 0, 0, 0,...  \n",
            "1     [[0, 0, 0, 0, 0, 0, 0, 0, 0, 0, 0, 0, 0, 0, 0,...  \n",
            "2     [[0, 0, 0, 0, 0, 0, 0, 0, 0, 0, 0, 0, 0, 0, 0,...  \n",
            "3     [[0, 0, 0, 0, 0, 0, 0, 0, 0, 0, 0, 0, 0, 0, 0,...  \n",
            "4     [[0, 0, 0, 0, 0, 0, 0, 0, 0, 0, 0, 0, 0, 0, 0,...  \n",
            "...                                                 ...  \n",
            "7608  [[0, 0, 0, 0, 0, 0, 0, 0, 0, 0, 0, 0, 0, 0, 0,...  \n",
            "7609  [[0, 0, 0, 0, 0, 0, 0, 0, 0, 0, 0, 0, 0, 0, 0,...  \n",
            "7610  [[0, 0, 0, 0, 0, 0, 0, 0, 0, 0, 0, 0, 0, 0, 0,...  \n",
            "7611  [[0, 0, 0, 0, 0, 0, 0, 0, 0, 0, 0, 0, 0, 0, 0,...  \n",
            "7612  [[0, 0, 0, 0, 0, 0, 0, 0, 0, 0, 0, 0, 0, 0, 0,...  \n",
            "\n",
            "[7613 rows x 2 columns]\n"
          ]
        }
      ]
    },
    {
      "cell_type": "markdown",
      "source": [
        "#● Experiment with additional features like tweet length, presence of hashtags, or user mentions."
      ],
      "metadata": {
        "id": "cmrl3C8YrOAv"
      }
    },
    {
      "cell_type": "code",
      "source": [
        "# Calculate tweet length (number of words)\n",
        "df['tweet_length'] = df['tokenized'].apply(len)"
      ],
      "metadata": {
        "id": "SItVhtUDqfuY"
      },
      "execution_count": null,
      "outputs": []
    },
    {
      "cell_type": "code",
      "source": [
        "df['tweet_length']"
      ],
      "metadata": {
        "colab": {
          "base_uri": "https://localhost:8080/",
          "height": 458
        },
        "id": "hYw6FfOBrVqA",
        "outputId": "d7c9212b-4bf2-4487-c850-36bb0e04757b"
      },
      "execution_count": null,
      "outputs": [
        {
          "output_type": "execute_result",
          "data": {
            "text/plain": [
              "0        64\n",
              "1        64\n",
              "2       133\n",
              "3        83\n",
              "4        95\n",
              "       ... \n",
              "7608     82\n",
              "7609    140\n",
              "7610     32\n",
              "7611    160\n",
              "7612     93\n",
              "Name: tweet_length, Length: 7613, dtype: int64"
            ],
            "text/html": [
              "<div>\n",
              "<style scoped>\n",
              "    .dataframe tbody tr th:only-of-type {\n",
              "        vertical-align: middle;\n",
              "    }\n",
              "\n",
              "    .dataframe tbody tr th {\n",
              "        vertical-align: top;\n",
              "    }\n",
              "\n",
              "    .dataframe thead th {\n",
              "        text-align: right;\n",
              "    }\n",
              "</style>\n",
              "<table border=\"1\" class=\"dataframe\">\n",
              "  <thead>\n",
              "    <tr style=\"text-align: right;\">\n",
              "      <th></th>\n",
              "      <th>tweet_length</th>\n",
              "    </tr>\n",
              "  </thead>\n",
              "  <tbody>\n",
              "    <tr>\n",
              "      <th>0</th>\n",
              "      <td>64</td>\n",
              "    </tr>\n",
              "    <tr>\n",
              "      <th>1</th>\n",
              "      <td>64</td>\n",
              "    </tr>\n",
              "    <tr>\n",
              "      <th>2</th>\n",
              "      <td>133</td>\n",
              "    </tr>\n",
              "    <tr>\n",
              "      <th>3</th>\n",
              "      <td>83</td>\n",
              "    </tr>\n",
              "    <tr>\n",
              "      <th>4</th>\n",
              "      <td>95</td>\n",
              "    </tr>\n",
              "    <tr>\n",
              "      <th>...</th>\n",
              "      <td>...</td>\n",
              "    </tr>\n",
              "    <tr>\n",
              "      <th>7608</th>\n",
              "      <td>82</td>\n",
              "    </tr>\n",
              "    <tr>\n",
              "      <th>7609</th>\n",
              "      <td>140</td>\n",
              "    </tr>\n",
              "    <tr>\n",
              "      <th>7610</th>\n",
              "      <td>32</td>\n",
              "    </tr>\n",
              "    <tr>\n",
              "      <th>7611</th>\n",
              "      <td>160</td>\n",
              "    </tr>\n",
              "    <tr>\n",
              "      <th>7612</th>\n",
              "      <td>93</td>\n",
              "    </tr>\n",
              "  </tbody>\n",
              "</table>\n",
              "<p>7613 rows × 1 columns</p>\n",
              "</div><br><label><b>dtype:</b> int64</label>"
            ]
          },
          "metadata": {},
          "execution_count": 19
        }
      ]
    },
    {
      "cell_type": "code",
      "source": [
        "# Check if tweet contains hashtags\n",
        "df['has_hashtags'] = df['text'].apply(lambda x: 1 if '#' in x else 0)"
      ],
      "metadata": {
        "id": "-7s-vRQTrWAw"
      },
      "execution_count": null,
      "outputs": []
    },
    {
      "cell_type": "code",
      "source": [
        "df['has_hashtags']"
      ],
      "metadata": {
        "colab": {
          "base_uri": "https://localhost:8080/",
          "height": 458
        },
        "id": "XQMd0ebrrbPv",
        "outputId": "4d70e659-cd6c-4c1a-e7a9-c4e6b16c81c9"
      },
      "execution_count": null,
      "outputs": [
        {
          "output_type": "execute_result",
          "data": {
            "text/plain": [
              "0       1\n",
              "1       0\n",
              "2       0\n",
              "3       1\n",
              "4       1\n",
              "       ..\n",
              "7608    0\n",
              "7609    0\n",
              "7610    0\n",
              "7611    0\n",
              "7612    0\n",
              "Name: has_hashtags, Length: 7613, dtype: int64"
            ],
            "text/html": [
              "<div>\n",
              "<style scoped>\n",
              "    .dataframe tbody tr th:only-of-type {\n",
              "        vertical-align: middle;\n",
              "    }\n",
              "\n",
              "    .dataframe tbody tr th {\n",
              "        vertical-align: top;\n",
              "    }\n",
              "\n",
              "    .dataframe thead th {\n",
              "        text-align: right;\n",
              "    }\n",
              "</style>\n",
              "<table border=\"1\" class=\"dataframe\">\n",
              "  <thead>\n",
              "    <tr style=\"text-align: right;\">\n",
              "      <th></th>\n",
              "      <th>has_hashtags</th>\n",
              "    </tr>\n",
              "  </thead>\n",
              "  <tbody>\n",
              "    <tr>\n",
              "      <th>0</th>\n",
              "      <td>1</td>\n",
              "    </tr>\n",
              "    <tr>\n",
              "      <th>1</th>\n",
              "      <td>0</td>\n",
              "    </tr>\n",
              "    <tr>\n",
              "      <th>2</th>\n",
              "      <td>0</td>\n",
              "    </tr>\n",
              "    <tr>\n",
              "      <th>3</th>\n",
              "      <td>1</td>\n",
              "    </tr>\n",
              "    <tr>\n",
              "      <th>4</th>\n",
              "      <td>1</td>\n",
              "    </tr>\n",
              "    <tr>\n",
              "      <th>...</th>\n",
              "      <td>...</td>\n",
              "    </tr>\n",
              "    <tr>\n",
              "      <th>7608</th>\n",
              "      <td>0</td>\n",
              "    </tr>\n",
              "    <tr>\n",
              "      <th>7609</th>\n",
              "      <td>0</td>\n",
              "    </tr>\n",
              "    <tr>\n",
              "      <th>7610</th>\n",
              "      <td>0</td>\n",
              "    </tr>\n",
              "    <tr>\n",
              "      <th>7611</th>\n",
              "      <td>0</td>\n",
              "    </tr>\n",
              "    <tr>\n",
              "      <th>7612</th>\n",
              "      <td>0</td>\n",
              "    </tr>\n",
              "  </tbody>\n",
              "</table>\n",
              "<p>7613 rows × 1 columns</p>\n",
              "</div><br><label><b>dtype:</b> int64</label>"
            ]
          },
          "metadata": {},
          "execution_count": 22
        }
      ]
    },
    {
      "cell_type": "code",
      "source": [
        "# Check if tweet contains user mentions\n",
        "df['has_user_mentions'] = df['text'].apply(lambda x: 1 if '@' in x else 0)"
      ],
      "metadata": {
        "id": "yTu4aL0srbpU"
      },
      "execution_count": null,
      "outputs": []
    },
    {
      "cell_type": "code",
      "source": [
        "df['has_user_mentions']"
      ],
      "metadata": {
        "colab": {
          "base_uri": "https://localhost:8080/",
          "height": 458
        },
        "id": "rn4S5x9frs2i",
        "outputId": "9cebcd0b-907e-4fc8-fb51-cb8da8a42025"
      },
      "execution_count": null,
      "outputs": [
        {
          "output_type": "execute_result",
          "data": {
            "text/plain": [
              "0       0\n",
              "1       0\n",
              "2       0\n",
              "3       0\n",
              "4       0\n",
              "       ..\n",
              "7608    0\n",
              "7609    1\n",
              "7610    0\n",
              "7611    0\n",
              "7612    0\n",
              "Name: has_user_mentions, Length: 7613, dtype: int64"
            ],
            "text/html": [
              "<div>\n",
              "<style scoped>\n",
              "    .dataframe tbody tr th:only-of-type {\n",
              "        vertical-align: middle;\n",
              "    }\n",
              "\n",
              "    .dataframe tbody tr th {\n",
              "        vertical-align: top;\n",
              "    }\n",
              "\n",
              "    .dataframe thead th {\n",
              "        text-align: right;\n",
              "    }\n",
              "</style>\n",
              "<table border=\"1\" class=\"dataframe\">\n",
              "  <thead>\n",
              "    <tr style=\"text-align: right;\">\n",
              "      <th></th>\n",
              "      <th>has_user_mentions</th>\n",
              "    </tr>\n",
              "  </thead>\n",
              "  <tbody>\n",
              "    <tr>\n",
              "      <th>0</th>\n",
              "      <td>0</td>\n",
              "    </tr>\n",
              "    <tr>\n",
              "      <th>1</th>\n",
              "      <td>0</td>\n",
              "    </tr>\n",
              "    <tr>\n",
              "      <th>2</th>\n",
              "      <td>0</td>\n",
              "    </tr>\n",
              "    <tr>\n",
              "      <th>3</th>\n",
              "      <td>0</td>\n",
              "    </tr>\n",
              "    <tr>\n",
              "      <th>4</th>\n",
              "      <td>0</td>\n",
              "    </tr>\n",
              "    <tr>\n",
              "      <th>...</th>\n",
              "      <td>...</td>\n",
              "    </tr>\n",
              "    <tr>\n",
              "      <th>7608</th>\n",
              "      <td>0</td>\n",
              "    </tr>\n",
              "    <tr>\n",
              "      <th>7609</th>\n",
              "      <td>1</td>\n",
              "    </tr>\n",
              "    <tr>\n",
              "      <th>7610</th>\n",
              "      <td>0</td>\n",
              "    </tr>\n",
              "    <tr>\n",
              "      <th>7611</th>\n",
              "      <td>0</td>\n",
              "    </tr>\n",
              "    <tr>\n",
              "      <th>7612</th>\n",
              "      <td>0</td>\n",
              "    </tr>\n",
              "  </tbody>\n",
              "</table>\n",
              "<p>7613 rows × 1 columns</p>\n",
              "</div><br><label><b>dtype:</b> int64</label>"
            ]
          },
          "metadata": {},
          "execution_count": 23
        }
      ]
    },
    {
      "cell_type": "code",
      "source": [
        "def combine_features(embeddings, tweet_length, has_hashtags, has_user_mentions):\n",
        "    # Convert embeddings to numpy array\n",
        "    embeddings_array = np.array(embeddings)\n",
        "\n",
        "    # Reshape additional features to match the number of embeddings\n",
        "    tweet_length_array = np.full((len(embeddings_array), 1), tweet_length)\n",
        "    has_hashtags_array = np.full((len(embeddings_array), 1), has_hashtags)\n",
        "    has_user_mentions_array = np.full((len(embeddings_array), 1), has_user_mentions)\n",
        "\n",
        "    # Concatenate embeddings with additional features along axis 1 (horizontally)\n",
        "    combined_features = np.concatenate([embeddings_array, tweet_length_array, has_hashtags_array, has_user_mentions_array], axis=1)\n",
        "\n",
        "    return combined_features"
      ],
      "metadata": {
        "id": "5Jq_Vhl9rtdQ"
      },
      "execution_count": null,
      "outputs": []
    },
    {
      "cell_type": "code",
      "source": [
        "# Apply function to combine features\n",
        "df['combined_features'] = df.apply(lambda row: combine_features(row['embeddings'], row['tweet_length'], row['has_hashtags'],  row['has_user_mentions']), axis=1)"
      ],
      "metadata": {
        "id": "X5RkDx3hrtzp"
      },
      "execution_count": null,
      "outputs": []
    },
    {
      "cell_type": "code",
      "source": [
        "# Check the structure of combined_features column\n",
        "print(df['combined_features'].apply(lambda x: len(x)).value_counts())"
      ],
      "metadata": {
        "colab": {
          "base_uri": "https://localhost:8080/"
        },
        "id": "eEZgmFXxr3Yd",
        "outputId": "5b30ec94-12d4-4b7d-b76e-e562e99ea424"
      },
      "execution_count": null,
      "outputs": [
        {
          "output_type": "stream",
          "name": "stdout",
          "text": [
            "combined_features\n",
            "86     122\n",
            "118    100\n",
            "117     99\n",
            "116     98\n",
            "102     94\n",
            "      ... \n",
            "186      1\n",
            "11       1\n",
            "179      1\n",
            "177      1\n",
            "172      1\n",
            "Name: count, Length: 168, dtype: int64\n"
          ]
        }
      ]
    },
    {
      "cell_type": "markdown",
      "source": [
        "# Here we have combined the features like embeddings, tweet length and hashtags and it is showing the total numbers of availability of these things\n",
        "\n",
        "Task: Model Selection and Training\n",
        "\n",
        "● Choose a set of candidate classification models suitable for text classification, such as logistic regression, random forests, or neural networks."
      ],
      "metadata": {
        "id": "pf2i-275r_Zf"
      }
    },
    {
      "cell_type": "markdown",
      "source": [
        "#Logistic Regression"
      ],
      "metadata": {
        "id": "-8pP2dOLsGb3"
      }
    },
    {
      "cell_type": "code",
      "source": [
        "#from tensorflow.keras.preprocessing.sequence import pad_sequences\n",
        "from sklearn.linear_model import LogisticRegression\n",
        "from sklearn.model_selection import train_test_split\n",
        "from sklearn.metrics import accuracy_score\n",
        "from sklearn.preprocessing import StandardScaler"
      ],
      "metadata": {
        "id": "IBgmU_R0r3vs"
      },
      "execution_count": null,
      "outputs": []
    },
    {
      "cell_type": "code",
      "source": [
        "X = df[['word count', 'character count', 'average word length', 'unique word count','stopword count', 'url count', 'mention count', 'hashtag count','stopword ratio', 'punctuation count', 'location_numeric','polarity', 'subjectivity', 'tweet_length', 'has_hashtags', 'has_user_mentions']]\n",
        "y = df['target']"
      ],
      "metadata": {
        "id": "3XHOYikUr4Mv"
      },
      "execution_count": null,
      "outputs": []
    },
    {
      "cell_type": "code",
      "source": [
        "X_train, X_test, y_train, y_test = train_test_split(X, y, test_size=0.2, random_state=42)\n",
        "# Flatten X_train and X_test by reshaping\n",
        "#n_samples_train, max_length_train, n_features_train = X_train.shape\n",
        "#n_samples_test, max_length_test, n_features_test = X_test.shape\n",
        "\n",
        "# Reshape X_train and X_test to (n_samples, max_length * n_features)\n",
        "#X_train_flattened = X_train.reshape(n_samples_train, max_length_train * n_features_train)\n",
        "#X_test_flattened = X_test.reshape(n_samples_test, max_length_test * n_features_test)\n",
        "\n",
        "# Initialize and train a logistic regression classifier\n",
        "lrn = LogisticRegression()\n",
        "lrn.fit(X_train, y_train)\n",
        "\n",
        "# Evaluate classifier\n",
        "accuracy = lrn.score(X_test, y_test)\n",
        "print(\"Accuracy:\", accuracy)"
      ],
      "metadata": {
        "colab": {
          "base_uri": "https://localhost:8080/"
        },
        "id": "MPS0Xvv-tkdd",
        "outputId": "57234a86-ea74-40f0-ca22-25b22537bc15"
      },
      "execution_count": null,
      "outputs": [
        {
          "output_type": "stream",
          "name": "stdout",
          "text": [
            "Accuracy: 0.6539724228496389\n"
          ]
        }
      ]
    },
    {
      "cell_type": "code",
      "source": [
        "# Get feature names from the vectorizer\n",
        "feature_names = tfidf_vectorizer.get_feature_names_out()\n",
        "\n",
        "# Get coefficients from the trained logistic regression model\n",
        "coefficients = lrn.coef_[0]\n",
        "\n",
        "# Sort feature coefficients\n",
        "sorted_coefficients_indices = coefficients.argsort()\n",
        "\n",
        "# Plot top N features with the highest coefficients\n",
        "top_n = min(20, len(feature_names))  # Ensure top_n does not exceed the number of features available\n",
        "top_coefficients = coefficients[sorted_coefficients_indices[-top_n:]]\n",
        "top_feature_names = [feature_names[i] for i in sorted_coefficients_indices[-top_n:]]\n",
        "\n",
        "print(\"top_n:\", top_n)\n",
        "print(\"len(feature_names):\", len(feature_names))\n",
        "print(\"len(top_coefficients):\", len(top_coefficients))\n",
        "print(\"len(top_feature_names):\", len(top_feature_names))\n",
        "\n",
        "plt.figure(figsize=(10, 6))\n",
        "plt.barh(range(len(top_coefficients)), top_coefficients, align='center')\n",
        "plt.yticks(range(len(top_coefficients)), top_feature_names)\n",
        "plt.xlabel('Coefficient Value')\n",
        "plt.ylabel('Feature')\n",
        "plt.title('Top Features Contributing to Classification')\n",
        "plt.grid(True)\n",
        "plt.show()"
      ],
      "metadata": {
        "colab": {
          "base_uri": "https://localhost:8080/",
          "height": 638
        },
        "id": "wxaVutVRtmnK",
        "outputId": "26dc4f83-e53d-4661-9169-bc8f69dd255b"
      },
      "execution_count": null,
      "outputs": [
        {
          "output_type": "stream",
          "name": "stdout",
          "text": [
            "top_n: 20\n",
            "len(feature_names): 21557\n",
            "len(top_coefficients): 16\n",
            "len(top_feature_names): 16\n"
          ]
        },
        {
          "output_type": "display_data",
          "data": {
            "text/plain": [
              "<Figure size 1000x600 with 1 Axes>"
            ],
            "image/png": "[encoded data removed]"
          },
          "metadata": {}
        }
      ]
    },
    {
      "cell_type": "markdown",
      "source": [
        "# Random Forest Classifier"
      ],
      "metadata": {
        "id": "HwleCaq4t2kW"
      }
    },
    {
      "cell_type": "code",
      "source": [
        "from sklearn.ensemble import RandomForestClassifier\n",
        "\n",
        "# Initialize and train a random forest classifier\n",
        "rfc = RandomForestClassifier(n_estimators=100, random_state=42)\n",
        "rfc.fit(X_train, y_train)\n",
        "\n",
        "# Evaluate classifier\n",
        "accuracy = rfc.score(X_test, y_test)\n",
        "print(\"Accuracy:\", accuracy)"
      ],
      "metadata": {
        "colab": {
          "base_uri": "https://localhost:8080/"
        },
        "id": "gWfxm6fotm_h",
        "outputId": "57ae59f0-1963-431a-814e-fb3114e3658b"
      },
      "execution_count": null,
      "outputs": [
        {
          "output_type": "stream",
          "name": "stdout",
          "text": [
            "Accuracy: 0.6913985554826001\n"
          ]
        }
      ]
    },
    {
      "cell_type": "code",
      "source": [
        "import matplotlib.pyplot as plt\n",
        "\n",
        "# Get feature importances from the trained Random Forest model\n",
        "feature_importances = rfc.feature_importances_\n",
        "\n",
        "# Sort feature importances\n",
        "sorted_indices = feature_importances.argsort()\n",
        "\n",
        "# Plot top N features with the highest importances\n",
        "top_n = min(20, len(feature_names))  # Ensure top_n does not exceed the number of features available\n",
        "top_feature_importances = feature_importances[sorted_indices[-top_n:]]\n",
        "top_feature_names = [feature_names[i] for i in sorted_indices[-top_n:]]\n",
        "\n",
        "print(\"top_n:\", top_n)\n",
        "print(\"len(top_feature_importances):\", len(top_feature_importances))\n",
        "print(\"len(top_feature_names):\", len(top_feature_names))\n",
        "\n",
        "plt.figure(figsize=(10, 6))\n",
        "plt.barh(range(len(top_feature_importances)), top_feature_importances, align='center', alpha=0.5, color = 'blue')\n",
        "plt.yticks(range(len(top_feature_importances)), top_feature_names)\n",
        "plt.xlabel('Feature Importance')\n",
        "plt.ylabel('Feature')\n",
        "plt.title('Top Features Importance in Random Forest Classifier')\n",
        "plt.grid(True)\n",
        "plt.show()"
      ],
      "metadata": {
        "colab": {
          "base_uri": "https://localhost:8080/",
          "height": 621
        },
        "id": "L_CpTF0UtncN",
        "outputId": "08ee4830-9df5-4fca-edec-f243541d2a39"
      },
      "execution_count": null,
      "outputs": [
        {
          "output_type": "stream",
          "name": "stdout",
          "text": [
            "top_n: 20\n",
            "len(top_feature_importances): 16\n",
            "len(top_feature_names): 16\n"
          ]
        },
        {
          "output_type": "display_data",
          "data": {
            "text/plain": [
              "<Figure size 1000x600 with 1 Axes>"
            ],
            "image/png": "[encoded data removed]"
          },
          "metadata": {}
        }
      ]
    },
    {
      "cell_type": "markdown",
      "source": [
        "# Neural Networks"
      ],
      "metadata": {
        "id": "MOVcmmuEuH2h"
      }
    },
    {
      "cell_type": "code",
      "source": [
        "import numpy as np\n",
        "from sklearn.model_selection import train_test_split\n",
        "from sklearn.feature_extraction.text import CountVectorizer\n",
        "from sklearn.preprocessing import StandardScaler\n",
        "from tensorflow.keras.models import Sequential\n",
        "from tensorflow.keras.layers import Dense, Dropout"
      ],
      "metadata": {
        "id": "UJLKDgdVtn3M"
      },
      "execution_count": null,
      "outputs": []
    },
    {
      "cell_type": "code",
      "source": [
        "X = df['text']\n",
        "y = df['target']"
      ],
      "metadata": {
        "id": "W5YGup47uOA2"
      },
      "execution_count": null,
      "outputs": []
    },
    {
      "cell_type": "code",
      "source": [
        "# Split data into training and test sets\n",
        "X_train, X_test, y_train, y_test = train_test_split(X, y, test_size=0.2, random_state=42)"
      ],
      "metadata": {
        "id": "hicQUxzYuOdd"
      },
      "execution_count": null,
      "outputs": []
    },
    {
      "cell_type": "code",
      "source": [
        "# Vectorize text data (convert text into numerical features)\n",
        "vectorizer = CountVectorizer(max_features=1000)  # You can adjust max_features as needed\n",
        "X_train_vec = vectorizer.fit_transform(X_train)\n",
        "X_test_vec = vectorizer.transform(X_test)"
      ],
      "metadata": {
        "id": "WlXWKQi7uaYw"
      },
      "execution_count": null,
      "outputs": []
    },
    {
      "cell_type": "code",
      "source": [
        "# Convert sparse matrix to NumPy array\n",
        "X_train_vec = X_train_vec.toarray()\n",
        "X_test_vec = X_test_vec.toarray()"
      ],
      "metadata": {
        "id": "6ftRN-hBucHZ"
      },
      "execution_count": null,
      "outputs": []
    },
    {
      "cell_type": "code",
      "source": [
        "# Define a sequential model\n",
        "model = Sequential()"
      ],
      "metadata": {
        "id": "p5lefCgsugkU"
      },
      "execution_count": null,
      "outputs": []
    },
    {
      "cell_type": "code",
      "source": [
        "# Add layers to the model\n",
        "model.add(Dense(128, activation='relu', input_shape=(X_train_vec.shape[1],)))  # Input layer\n",
        "model.add(Dropout(0.5))  # Dropout layer to prevent overfitting\n",
        "model.add(Dense(64, activation='relu'))  # Hidden layer\n",
        "model.add(Dense(1, activation='sigmoid'))  # Output layer (binary classification)"
      ],
      "metadata": {
        "id": "kfkH77zmug7J"
      },
      "execution_count": null,
      "outputs": []
    },
    {
      "cell_type": "code",
      "source": [
        "# Compile the model\n",
        "model.compile(optimizer='adam', loss='binary_crossentropy', metrics=['accuracy'])"
      ],
      "metadata": {
        "id": "QXI0j9OpuhOs"
      },
      "execution_count": null,
      "outputs": []
    },
    {
      "cell_type": "code",
      "source": [
        "# Train the model using the train-test split approach\n",
        "history = model.fit(X_train_vec, y_train, epochs=30, batch_size=32, validation_split=0.1, verbose=1)"
      ],
      "metadata": {
        "colab": {
          "base_uri": "https://localhost:8080/"
        },
        "id": "U-_Z6-OeuxGL",
        "outputId": "7ccedbc8-4627-4dc9-c1ff-0dad74d3a706"
      },
      "execution_count": null,
      "outputs": [
        {
          "output_type": "stream",
          "name": "stdout",
          "text": [
            "Epoch 1/30\n",
            "\u001b[1m172/172\u001b[0m \u001b[32m━━━━━━━━━━━━━━━━━━━━\u001b[0m\u001b[37m\u001b[0m \u001b[1m3s\u001b[0m 9ms/step - accuracy: 0.6416 - loss: 0.6416 - val_accuracy: 0.7964 - val_loss: 0.4663\n",
            "Epoch 2/30\n",
            "\u001b[1m172/172\u001b[0m \u001b[32m━━━━━━━━━━━━━━━━━━━━\u001b[0m\u001b[37m\u001b[0m \u001b[1m2s\u001b[0m 9ms/step - accuracy: 0.8004 - loss: 0.4341 - val_accuracy: 0.7750 - val_loss: 0.4681\n",
            "Epoch 3/30\n",
            "\u001b[1m172/172\u001b[0m \u001b[32m━━━━━━━━━━━━━━━━━━━━\u001b[0m\u001b[37m\u001b[0m \u001b[1m1s\u001b[0m 7ms/step - accuracy: 0.8246 - loss: 0.3851 - val_accuracy: 0.7980 - val_loss: 0.4486\n",
            "Epoch 4/30\n",
            "\u001b[1m172/172\u001b[0m \u001b[32m━━━━━━━━━━━━━━━━━━━━\u001b[0m\u001b[37m\u001b[0m \u001b[1m1s\u001b[0m 7ms/step - accuracy: 0.8693 - loss: 0.3161 - val_accuracy: 0.7882 - val_loss: 0.4767\n",
            "Epoch 5/30\n",
            "\u001b[1m172/172\u001b[0m \u001b[32m━━━━━━━━━━━━━━━━━━━━\u001b[0m\u001b[37m\u001b[0m \u001b[1m1s\u001b[0m 7ms/step - accuracy: 0.8867 - loss: 0.2725 - val_accuracy: 0.7898 - val_loss: 0.5154\n",
            "Epoch 6/30\n",
            "\u001b[1m172/172\u001b[0m \u001b[32m━━━━━━━━━━━━━━━━━━━━\u001b[0m\u001b[37m\u001b[0m \u001b[1m1s\u001b[0m 4ms/step - accuracy: 0.9086 - loss: 0.2397 - val_accuracy: 0.7964 - val_loss: 0.5202\n",
            "Epoch 7/30\n",
            "\u001b[1m172/172\u001b[0m \u001b[32m━━━━━━━━━━━━━━━━━━━━\u001b[0m\u001b[37m\u001b[0m \u001b[1m1s\u001b[0m 4ms/step - accuracy: 0.9226 - loss: 0.2081 - val_accuracy: 0.7816 - val_loss: 0.5693\n",
            "Epoch 8/30\n",
            "\u001b[1m172/172\u001b[0m \u001b[32m━━━━━━━━━━━━━━━━━━━━\u001b[0m\u001b[37m\u001b[0m \u001b[1m1s\u001b[0m 4ms/step - accuracy: 0.9280 - loss: 0.1774 - val_accuracy: 0.7947 - val_loss: 0.6000\n",
            "Epoch 9/30\n",
            "\u001b[1m172/172\u001b[0m \u001b[32m━━━━━━━━━━━━━━━━━━━━\u001b[0m\u001b[37m\u001b[0m \u001b[1m1s\u001b[0m 4ms/step - accuracy: 0.9402 - loss: 0.1594 - val_accuracy: 0.7980 - val_loss: 0.6432\n",
            "Epoch 10/30\n",
            "\u001b[1m172/172\u001b[0m \u001b[32m━━━━━━━━━━━━━━━━━━━━\u001b[0m\u001b[37m\u001b[0m \u001b[1m1s\u001b[0m 4ms/step - accuracy: 0.9529 - loss: 0.1381 - val_accuracy: 0.7865 - val_loss: 0.6746\n",
            "Epoch 11/30\n",
            "\u001b[1m172/172\u001b[0m \u001b[32m━━━━━━━━━━━━━━━━━━━━\u001b[0m\u001b[37m\u001b[0m \u001b[1m1s\u001b[0m 4ms/step - accuracy: 0.9542 - loss: 0.1323 - val_accuracy: 0.7882 - val_loss: 0.7373\n",
            "Epoch 12/30\n",
            "\u001b[1m172/172\u001b[0m \u001b[32m━━━━━━━━━━━━━━━━━━━━\u001b[0m\u001b[37m\u001b[0m \u001b[1m1s\u001b[0m 4ms/step - accuracy: 0.9547 - loss: 0.1268 - val_accuracy: 0.7931 - val_loss: 0.7418\n",
            "Epoch 13/30\n",
            "\u001b[1m172/172\u001b[0m \u001b[32m━━━━━━━━━━━━━━━━━━━━\u001b[0m\u001b[37m\u001b[0m \u001b[1m1s\u001b[0m 4ms/step - accuracy: 0.9595 - loss: 0.1061 - val_accuracy: 0.7931 - val_loss: 0.7411\n",
            "Epoch 14/30\n",
            "\u001b[1m172/172\u001b[0m \u001b[32m━━━━━━━━━━━━━━━━━━━━\u001b[0m\u001b[37m\u001b[0m \u001b[1m1s\u001b[0m 6ms/step - accuracy: 0.9647 - loss: 0.1024 - val_accuracy: 0.7800 - val_loss: 0.7843\n",
            "Epoch 15/30\n",
            "\u001b[1m172/172\u001b[0m \u001b[32m━━━━━━━━━━━━━━━━━━━━\u001b[0m\u001b[37m\u001b[0m \u001b[1m1s\u001b[0m 7ms/step - accuracy: 0.9579 - loss: 0.1100 - val_accuracy: 0.7849 - val_loss: 0.8229\n",
            "Epoch 16/30\n",
            "\u001b[1m172/172\u001b[0m \u001b[32m━━━━━━━━━━━━━━━━━━━━\u001b[0m\u001b[37m\u001b[0m \u001b[1m1s\u001b[0m 7ms/step - accuracy: 0.9626 - loss: 0.0988 - val_accuracy: 0.7997 - val_loss: 0.8384\n",
            "Epoch 17/30\n",
            "\u001b[1m172/172\u001b[0m \u001b[32m━━━━━━━━━━━━━━━━━━━━\u001b[0m\u001b[37m\u001b[0m \u001b[1m1s\u001b[0m 7ms/step - accuracy: 0.9683 - loss: 0.0915 - val_accuracy: 0.7931 - val_loss: 0.8779\n",
            "Epoch 18/30\n",
            "\u001b[1m172/172\u001b[0m \u001b[32m━━━━━━━━━━━━━━━━━━━━\u001b[0m\u001b[37m\u001b[0m \u001b[1m1s\u001b[0m 5ms/step - accuracy: 0.9649 - loss: 0.0854 - val_accuracy: 0.7980 - val_loss: 0.8748\n",
            "Epoch 19/30\n",
            "\u001b[1m172/172\u001b[0m \u001b[32m━━━━━━━━━━━━━━━━━━━━\u001b[0m\u001b[37m\u001b[0m \u001b[1m1s\u001b[0m 4ms/step - accuracy: 0.9717 - loss: 0.0743 - val_accuracy: 0.7980 - val_loss: 0.8883\n",
            "Epoch 20/30\n",
            "\u001b[1m172/172\u001b[0m \u001b[32m━━━━━━━━━━━━━━━━━━━━\u001b[0m\u001b[37m\u001b[0m \u001b[1m1s\u001b[0m 4ms/step - accuracy: 0.9697 - loss: 0.0810 - val_accuracy: 0.7947 - val_loss: 0.9269\n",
            "Epoch 21/30\n",
            "\u001b[1m172/172\u001b[0m \u001b[32m━━━━━━━━━━━━━━━━━━━━\u001b[0m\u001b[37m\u001b[0m \u001b[1m1s\u001b[0m 4ms/step - accuracy: 0.9759 - loss: 0.0689 - val_accuracy: 0.8030 - val_loss: 0.9630\n",
            "Epoch 22/30\n",
            "\u001b[1m172/172\u001b[0m \u001b[32m━━━━━━━━━━━━━━━━━━━━\u001b[0m\u001b[37m\u001b[0m \u001b[1m1s\u001b[0m 4ms/step - accuracy: 0.9748 - loss: 0.0692 - val_accuracy: 0.7980 - val_loss: 0.9857\n",
            "Epoch 23/30\n",
            "\u001b[1m172/172\u001b[0m \u001b[32m━━━━━━━━━━━━━━━━━━━━\u001b[0m\u001b[37m\u001b[0m \u001b[1m1s\u001b[0m 3ms/step - accuracy: 0.9723 - loss: 0.0793 - val_accuracy: 0.7931 - val_loss: 0.9861\n",
            "Epoch 24/30\n",
            "\u001b[1m172/172\u001b[0m \u001b[32m━━━━━━━━━━━━━━━━━━━━\u001b[0m\u001b[37m\u001b[0m \u001b[1m1s\u001b[0m 4ms/step - accuracy: 0.9735 - loss: 0.0671 - val_accuracy: 0.7833 - val_loss: 1.0119\n",
            "Epoch 25/30\n",
            "\u001b[1m172/172\u001b[0m \u001b[32m━━━━━━━━━━━━━━━━━━━━\u001b[0m\u001b[37m\u001b[0m \u001b[1m1s\u001b[0m 4ms/step - accuracy: 0.9725 - loss: 0.0647 - val_accuracy: 0.7750 - val_loss: 1.0718\n",
            "Epoch 26/30\n",
            "\u001b[1m172/172\u001b[0m \u001b[32m━━━━━━━━━━━━━━━━━━━━\u001b[0m\u001b[37m\u001b[0m \u001b[1m1s\u001b[0m 4ms/step - accuracy: 0.9760 - loss: 0.0637 - val_accuracy: 0.7898 - val_loss: 1.0737\n",
            "Epoch 27/30\n",
            "\u001b[1m172/172\u001b[0m \u001b[32m━━━━━━━━━━━━━━━━━━━━\u001b[0m\u001b[37m\u001b[0m \u001b[1m1s\u001b[0m 4ms/step - accuracy: 0.9764 - loss: 0.0637 - val_accuracy: 0.7882 - val_loss: 1.0988\n",
            "Epoch 28/30\n",
            "\u001b[1m172/172\u001b[0m \u001b[32m━━━━━━━━━━━━━━━━━━━━\u001b[0m\u001b[37m\u001b[0m \u001b[1m1s\u001b[0m 6ms/step - accuracy: 0.9755 - loss: 0.0603 - val_accuracy: 0.7849 - val_loss: 1.1301\n",
            "Epoch 29/30\n",
            "\u001b[1m172/172\u001b[0m \u001b[32m━━━━━━━━━━━━━━━━━━━━\u001b[0m\u001b[37m\u001b[0m \u001b[1m1s\u001b[0m 7ms/step - accuracy: 0.9756 - loss: 0.0577 - val_accuracy: 0.7849 - val_loss: 1.1878\n",
            "Epoch 30/30\n",
            "\u001b[1m172/172\u001b[0m \u001b[32m━━━━━━━━━━━━━━━━━━━━\u001b[0m\u001b[37m\u001b[0m \u001b[1m2s\u001b[0m 9ms/step - accuracy: 0.9813 - loss: 0.0565 - val_accuracy: 0.7865 - val_loss: 1.1944\n"
          ]
        }
      ]
    },
    {
      "cell_type": "code",
      "source": [
        "# Evaluate the model on test data\n",
        "loss, accuracy = model.evaluate(X_test_vec, y_test)\n",
        "print(f'Test Loss: {loss}')\n",
        "print(f'Test Accuracy: {accuracy}')"
      ],
      "metadata": {
        "colab": {
          "base_uri": "https://localhost:8080/"
        },
        "id": "lkOqD80Eu_jz",
        "outputId": "6b41a84a-d4c3-49e3-c21e-106cc58e3570"
      },
      "execution_count": null,
      "outputs": [
        {
          "output_type": "stream",
          "name": "stdout",
          "text": [
            "\u001b[1m48/48\u001b[0m \u001b[32m━━━━━━━━━━━━━━━━━━━━\u001b[0m\u001b[37m\u001b[0m \u001b[1m0s\u001b[0m 4ms/step - accuracy: 0.7567 - loss: 1.4354\n",
            "Test Loss: 1.324137806892395\n",
            "Test Accuracy: 0.7728168368339539\n"
          ]
        }
      ]
    },
    {
      "cell_type": "markdown",
      "source": [
        "#● Train each model using the training data and evaluate their performance using cross-validation techniques\n",
        "\n",
        "Defining Text vectorization and Model pipelines\n",
        "\n",
        "Train and Evaluate models using Cross validation"
      ],
      "metadata": {
        "id": "g5UPCcVyvNyJ"
      }
    },
    {
      "cell_type": "code",
      "source": [
        "import numpy as np\n",
        "from sklearn.model_selection import cross_val_score, KFold\n",
        "from sklearn.pipeline import make_pipeline\n",
        "from sklearn.feature_extraction.text import CountVectorizer\n",
        "from sklearn.preprocessing import MaxAbsScaler\n",
        "from sklearn.linear_model import LogisticRegression\n",
        "from sklearn.svm import SVC\n",
        "from sklearn.ensemble import RandomForestClassifier\n",
        "from sklearn.neural_network import MLPClassifier"
      ],
      "metadata": {
        "id": "KWTdVYM3vLP7"
      },
      "execution_count": null,
      "outputs": []
    },
    {
      "cell_type": "code",
      "source": [
        "# Define text vectorization\n",
        "vectorizer = CountVectorizer(max_features=1000)\n",
        "\n",
        "# Define models\n",
        "models = {\n",
        "    'Logistic Regression': LogisticRegression(),\n",
        "    'Support Vector Machine': SVC(),\n",
        "    'Random Forest': RandomForestClassifier(),\n",
        "    'Multi-layer Perceptron': MLPClassifier()\n",
        "}\n",
        "\n",
        "# Define pipelines with MaxAbsScaler (to scale sparse input without centering)\n",
        "pipelines = {\n",
        "    name: make_pipeline(vectorizer, MaxAbsScaler(), model)\n",
        "    for name, model in models.items()\n",
        "}\n"
      ],
      "metadata": {
        "id": "Nj_2RnGNvZvR"
      },
      "execution_count": null,
      "outputs": []
    },
    {
      "cell_type": "code",
      "source": [
        "# Prepare text data\n",
        "X_text = df['text']\n",
        "y = df['target']\n",
        "\n",
        "# Perform cross-validation for each model\n",
        "for name, pipeline in pipelines.items():\n",
        "    print(f\"Training and evaluating {name}...\")\n",
        "    scores = cross_val_score(pipeline, X_text, y, cv=5, scoring='accuracy')  # 5-fold cross-validation\n",
        "    print(f\"Cross-validation scores: {scores}\")\n",
        "    print(f\"Mean accuracy: {np.mean(scores):.4f}\\n\")"
      ],
      "metadata": {
        "colab": {
          "base_uri": "https://localhost:8080/"
        },
        "id": "Wfqb0gTSvaDH",
        "outputId": "6f80a271-0dd9-472f-ec77-be3190e5ba44"
      },
      "execution_count": null,
      "outputs": [
        {
          "output_type": "stream",
          "name": "stdout",
          "text": [
            "Training and evaluating Logistic Regression...\n",
            "Cross-validation scores: [0.67498359 0.59028234 0.64018385 0.63666229 0.73587385]\n",
            "Mean accuracy: 0.6556\n",
            "\n",
            "Training and evaluating Support Vector Machine...\n",
            "Cross-validation scores: [0.69468155 0.60275772 0.66119501 0.63403417 0.73521682]\n",
            "Mean accuracy: 0.6656\n",
            "\n",
            "Training and evaluating Random Forest...\n",
            "Cross-validation scores: [0.7229153  0.63164806 0.65134603 0.69382392 0.73061761]\n",
            "Mean accuracy: 0.6861\n",
            "\n",
            "Training and evaluating Multi-layer Perceptron...\n",
            "Cross-validation scores: [0.66382141 0.5554826  0.61391989 0.59855453 0.68396846]\n",
            "Mean accuracy: 0.6231\n",
            "\n"
          ]
        }
      ]
    },
    {
      "cell_type": "markdown",
      "source": [
        "#● Optimize hyperparameters of the selected models using techniques like grid search or random search.\n",
        "\n",
        "Define Hyperparameter Grids for Grid search or Random search"
      ],
      "metadata": {
        "id": "aKIS7liZvzkK"
      }
    },
    {
      "cell_type": "code",
      "source": [
        "# Define hyperparameter grids for each model with correct step names\n",
        "param_grids = {\n",
        "    'Logistic Regression': {\n",
        "        'logisticregression__C': [0.1, 1.0, 10.0]\n",
        "    },\n",
        "    'Support Vector Machine': {\n",
        "        'svc__C': [0.1, 1.0, 10.0],\n",
        "        'svc__gamma': ['scale', 'auto']\n",
        "    },\n",
        "    'Random Forest': {\n",
        "        'randomforestclassifier__n_estimators': [100, 200, 300],\n",
        "        'randomforestclassifier__max_depth': [None, 10, 20]\n",
        "    },\n",
        "    'Multi-layer Perceptron': {\n",
        "        'mlpclassifier__hidden_layer_sizes': [(100,), (200,), (300,)]\n",
        "    }\n",
        "}"
      ],
      "metadata": {
        "id": "vtfRL8Tdvp_C"
      },
      "execution_count": null,
      "outputs": []
    },
    {
      "cell_type": "markdown",
      "source": [
        "# Performing Grid search or Random search for each model"
      ],
      "metadata": {
        "id": "vnJObrFcv-qZ"
      }
    },
    {
      "cell_type": "code",
      "source": [
        "from sklearn.model_selection import train_test_split, GridSearchCV, RandomizedSearchCV\n",
        "# Perform hyperparameter optimization for each model using GridSearchCV\n",
        "for name, pipeline in pipelines.items():\n",
        "    param_grid = param_grids[name]\n",
        "\n",
        "    print(f\"Optimizing hyperparameters for {name}...\")\n",
        "    search = GridSearchCV(pipeline, param_grid, cv=5, scoring='accuracy', verbose=1)\n",
        "    search.fit(X_train, y_train)\n",
        "\n",
        "    print(\"Best parameters:\", search.best_params_)\n",
        "    print(\"Best cross-validation accuracy: {:.4f}\".format(search.best_score_))\n",
        "\n",
        "    # Evaluate the best model on test data\n",
        "    best_model = search.best_estimator_\n",
        "    test_accuracy = best_model.score(X_test, y_test)\n",
        "    print(\"Test accuracy: {:.4f}\\n\".format(test_accuracy))"
      ],
      "metadata": {
        "colab": {
          "base_uri": "https://localhost:8080/"
        },
        "id": "GhHe5tzbvqaz",
        "outputId": "54ebf753-d2be-4897-ed22-3247335c86a1"
      },
      "execution_count": null,
      "outputs": [
        {
          "output_type": "stream",
          "name": "stdout",
          "text": [
            "Optimizing hyperparameters for Logistic Regression...\n",
            "Fitting 5 folds for each of 3 candidates, totalling 15 fits\n",
            "Best parameters: {'logisticregression__C': 1.0}\n",
            "Best cross-validation accuracy: 0.7906\n",
            "Test accuracy: 0.7899\n",
            "\n",
            "Optimizing hyperparameters for Support Vector Machine...\n",
            "Fitting 5 folds for each of 6 candidates, totalling 30 fits\n",
            "Best parameters: {'svc__C': 1.0, 'svc__gamma': 'scale'}\n",
            "Best cross-validation accuracy: 0.7961\n",
            "Test accuracy: 0.7905\n",
            "\n",
            "Optimizing hyperparameters for Random Forest...\n",
            "Fitting 5 folds for each of 9 candidates, totalling 45 fits\n",
            "Best parameters: {'randomforestclassifier__max_depth': None, 'randomforestclassifier__n_estimators': 300}\n",
            "Best cross-validation accuracy: 0.7741\n",
            "Test accuracy: 0.7886\n",
            "\n",
            "Optimizing hyperparameters for Multi-layer Perceptron...\n",
            "Fitting 5 folds for each of 3 candidates, totalling 15 fits\n",
            "Best parameters: {'mlpclassifier__hidden_layer_sizes': (300,)}\n",
            "Best cross-validation accuracy: 0.7668\n",
            "Test accuracy: 0.7676\n",
            "\n"
          ]
        }
      ]
    },
    {
      "cell_type": "code",
      "source": [
        "# Initialize lists to store model names and their corresponding test accuracies\n",
        "model_names = []\n",
        "test_accuracies = []\n",
        "\n",
        "# Perform hyperparameter optimization for each model using GridSearchCV\n",
        "for name, pipeline in pipelines.items():\n",
        "    param_grid = param_grids[name]\n",
        "\n",
        "    print(f\"Optimizing hyperparameters for {name}...\")\n",
        "    search = GridSearchCV(pipeline, param_grid, cv=5, scoring='accuracy', verbose=1)\n",
        "    search.fit(X_train, y_train)\n",
        "\n",
        "    print(\"Best parameters:\", search.best_params_)\n",
        "    print(\"Best cross-validation accuracy: {:.4f}\".format(search.best_score_))\n",
        "\n",
        "    # Evaluate the best model on test data\n",
        "    best_model = search.best_estimator_\n",
        "    test_accuracy = best_model.score(X_test, y_test)\n",
        "    print(\"Test accuracy: {:.4f}\\n\".format(test_accuracy))\n",
        "\n",
        "    # Append model name and test accuracy to lists\n",
        "    model_names.append(name)\n",
        "    test_accuracies.append(test_accuracy)\n"
      ],
      "metadata": {
        "colab": {
          "base_uri": "https://localhost:8080/"
        },
        "id": "02OuS1RQvq8B",
        "outputId": "95883bd4-b95f-4bc2-b215-078607d7f478"
      },
      "execution_count": null,
      "outputs": [
        {
          "output_type": "stream",
          "name": "stdout",
          "text": [
            "Optimizing hyperparameters for Logistic Regression...\n",
            "Fitting 5 folds for each of 3 candidates, totalling 15 fits\n",
            "Best parameters: {'logisticregression__C': 1.0}\n",
            "Best cross-validation accuracy: 0.7906\n",
            "Test accuracy: 0.7899\n",
            "\n",
            "Optimizing hyperparameters for Support Vector Machine...\n",
            "Fitting 5 folds for each of 6 candidates, totalling 30 fits\n",
            "Best parameters: {'svc__C': 1.0, 'svc__gamma': 'scale'}\n",
            "Best cross-validation accuracy: 0.7961\n",
            "Test accuracy: 0.7905\n",
            "\n",
            "Optimizing hyperparameters for Random Forest...\n",
            "Fitting 5 folds for each of 9 candidates, totalling 45 fits\n",
            "Best parameters: {'randomforestclassifier__max_depth': None, 'randomforestclassifier__n_estimators': 300}\n",
            "Best cross-validation accuracy: 0.7742\n",
            "Test accuracy: 0.7879\n",
            "\n",
            "Optimizing hyperparameters for Multi-layer Perceptron...\n",
            "Fitting 5 folds for each of 3 candidates, totalling 15 fits\n",
            "Best parameters: {'mlpclassifier__hidden_layer_sizes': (300,)}\n",
            "Best cross-validation accuracy: 0.7686\n",
            "Test accuracy: 0.7741\n",
            "\n"
          ]
        }
      ]
    },
    {
      "cell_type": "code",
      "source": [
        "# Plotting test accuracies\n",
        "plt.figure(figsize=(10, 6))\n",
        "plt.bar(model_names, test_accuracies, color='purple')\n",
        "plt.xlabel('Model')\n",
        "plt.ylabel('Test Accuracy')\n",
        "plt.title('Test Accuracy of Different Models')\n",
        "plt.ylim(0, 1)  # Set y-axis limit between 0 and 1\n",
        "plt.xticks(rotation=45, ha='right')\n",
        "plt.grid(axis='y')\n",
        "plt.show()"
      ],
      "metadata": {
        "colab": {
          "base_uri": "https://localhost:8080/",
          "height": 682
        },
        "id": "TYCzsna32-nO",
        "outputId": "360f098b-5c33-481e-a87e-5f0a8945dc6b"
      },
      "execution_count": null,
      "outputs": [
        {
          "output_type": "display_data",
          "data": {
            "text/plain": [
              "<Figure size 1000x600 with 1 Axes>"
            ],
            "image/png": "[encoded data removed]"
          },
          "metadata": {}
        }
      ]
    },
    {
      "cell_type": "markdown",
      "source": [
        "#The accuracy of all 4 models are almost same but Logistic Regression is the best model in this dataset\n",
        "\n",
        "Saving all the models in pkl files"
      ],
      "metadata": {
        "id": "TxH1ZC9vwueO"
      }
    },
    {
      "cell_type": "code",
      "source": [
        "import joblib\n",
        "\n",
        "# Save the trained logistic regression model\n",
        "joblib.dump(lrn, 'logistic_regression_model.pkl')\n",
        "\n",
        "# Save the trained random forest model\n",
        "joblib.dump(rfc, 'random_forest_model.pkl')\n",
        "\n",
        "# Save the trained TF-IDF vectorizer\n",
        "joblib.dump(tfidf_vectorizer, 'tfidf_vectorizer.pkl')"
      ],
      "metadata": {
        "colab": {
          "base_uri": "https://localhost:8080/"
        },
        "id": "-sH1fOXbwxgE",
        "outputId": "c6836de4-1771-476a-9fed-9b4959379937"
      },
      "execution_count": null,
      "outputs": [
        {
          "output_type": "execute_result",
          "data": {
            "text/plain": [
              "['tfidf_vectorizer.pkl']"
            ]
          },
          "metadata": {},
          "execution_count": 51
        }
      ]
    },
    {
      "cell_type": "code",
      "source": [
        "df.to_csv('twitter_disaster_task3.csv')"
      ],
      "metadata": {
        "id": "MLUFgKoEwx6a"
      },
      "execution_count": null,
      "outputs": []
    }
  ]
}